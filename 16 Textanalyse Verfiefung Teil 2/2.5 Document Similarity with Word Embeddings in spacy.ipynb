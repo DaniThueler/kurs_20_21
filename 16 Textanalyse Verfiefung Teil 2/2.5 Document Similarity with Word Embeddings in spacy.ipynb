{
 "cells": [
  {
   "cell_type": "markdown",
   "metadata": {},
   "source": [
    "# Word and Sentence similarity with spaCy"
   ]
  },
  {
   "cell_type": "code",
   "execution_count": 11,
   "metadata": {},
   "outputs": [],
   "source": [
    "#!python3 -m spacy download de_core_news_lg"
   ]
  },
  {
   "cell_type": "code",
   "execution_count": 12,
   "metadata": {},
   "outputs": [],
   "source": [
    "import spacy\n",
    "import de_core_news_lg\n",
    "nlp = de_core_news_lg.load()"
   ]
  },
  {
   "cell_type": "markdown",
   "metadata": {},
   "source": [
    "# Word embeddings\n",
    "\n",
    "Es gibt die Möglichkeit Dokumenten/Satz Ähnlichkeit \"präziser\" zu bestimmen indem wir eigene sog. Word embeddings benutzen,\n",
    "- https://spacy.io/usage/vectors-similarity\n",
    "- https://fasttext.cc/docs/en/crawl-vectors.html\n",
    "\n",
    "Was zum Teufel sind Word Embeddings?"
   ]
  },
  {
   "cell_type": "markdown",
   "metadata": {},
   "source": [
    "![Word Embeddings](embedding.png)"
   ]
  },
  {
   "cell_type": "markdown",
   "metadata": {},
   "source": [
    "# Wortebene"
   ]
  },
  {
   "cell_type": "code",
   "execution_count": 72,
   "metadata": {},
   "outputs": [
    {
     "name": "stdout",
     "output_type": "stream",
     "text": [
      "König True 43.84337 False\n",
      "Königin True 33.68398 False\n",
      "Mann True 56.765003 False\n",
      "Frau True 61.484547 False\n"
     ]
    }
   ],
   "source": [
    "tokens = nlp(\"König Königin Mann Frau\")\n",
    "for token in tokens:\n",
    "    print(token.text, token.has_vector, token.vector_norm, token.is_oov)"
   ]
  },
  {
   "cell_type": "code",
   "execution_count": 73,
   "metadata": {},
   "outputs": [
    {
     "name": "stdout",
     "output_type": "stream",
     "text": [
      "König König 1.0\n",
      "König Königin 0.7748912\n",
      "König Mann 0.42440188\n",
      "König Frau 0.25280464\n",
      "Königin König 0.7748912\n",
      "Königin Königin 1.0\n",
      "Königin Mann 0.38562852\n",
      "Königin Frau 0.4270199\n",
      "Mann König 0.42440188\n",
      "Mann Königin 0.38562852\n",
      "Mann Mann 1.0\n",
      "Mann Frau 0.65040565\n",
      "Frau König 0.25280464\n",
      "Frau Königin 0.4270199\n",
      "Frau Mann 0.65040565\n",
      "Frau Frau 1.0\n"
     ]
    }
   ],
   "source": [
    "for token1 in tokens:\n",
    "    for token2 in tokens:\n",
    "        print(token1.text, token2.text, token1.similarity(token2))"
   ]
  },
  {
   "cell_type": "markdown",
   "metadata": {},
   "source": [
    "## Visualisieren mit PCA"
   ]
  },
  {
   "cell_type": "code",
   "execution_count": 79,
   "metadata": {},
   "outputs": [
    {
     "data": {
      "image/png": "[encoded data removed]",
      "text/plain": [
       "<Figure size 1440x1080 with 1 Axes>"
      ]
     },
     "metadata": {
      "needs_background": "light"
     },
     "output_type": "display_data"
    }
   ],
   "source": [
    "from sklearn.decomposition import PCA\n",
    "import matplotlib.pyplot as plt\n",
    "\n",
    "def get_word_vectors(words):\n",
    "    # converts a list of words into their word vectors\n",
    "    return [nlp(word).vector for word in words]\n",
    "\n",
    "words = [\"König\", \"Königin\", \"Mann\", \"Frau\", \"Katze\", \"Kätzchen\", \"Haus\"]\n",
    "\n",
    "# intialise pca model and tell it to project data down onto 2 dimensions\n",
    "pca = PCA(n_components=2)\n",
    "\n",
    "# fit the pca model to our 300D data, this will work out which is the best \n",
    "# way to project the data down that will best maintain the relative distances \n",
    "# between data points. It will store these intructioons on how to transform the data.\n",
    "pca.fit(get_word_vectors(words))\n",
    "\n",
    "# Tell our (fitted) pca model to transform our 300D data down onto 2D using the \n",
    "# instructions it learnt during the fit phase.\n",
    "word_vecs_2d = pca.transform(get_word_vectors(words))\n",
    "\n",
    "# create a nice big plot \n",
    "plt.figure(figsize=(20,15))\n",
    "\n",
    "# plot the scatter plot of where the words will be\n",
    "plt.scatter(word_vecs_2d[:,0], word_vecs_2d[:,1])\n",
    "\n",
    "# for each word and coordinate pair: draw the text on the plot\n",
    "for word, coord in zip(words, word_vecs_2d):\n",
    "    x, y = coord\n",
    "    plt.text(x, y, word, size= 15)\n",
    "\n",
    "# show the plot\n",
    "plt.show()\n"
   ]
  },
  {
   "cell_type": "markdown",
   "metadata": {},
   "source": [
    "## Toy Example Auf Satzebene"
   ]
  },
  {
   "cell_type": "code",
   "execution_count": 29,
   "metadata": {},
   "outputs": [],
   "source": [
    "satz1 = nlp(u\"Der Mann ging zur nächsten Strasse um zu Prüfen was mit der Ampelanlage kaputt war\")\n",
    "satz2 = nlp(u\"Jane hatte noch nie einen Mann gesehen der so gut aussah!\")\n",
    "satz3 = nlp(u\"Es gibt in der Stadtverwaltung viele Strassen die kontrolliert werden müssen\")"
   ]
  },
  {
   "cell_type": "code",
   "execution_count": 74,
   "metadata": {},
   "outputs": [
    {
     "data": {
      "text/plain": [
       "array([ 1.1443553 ,  0.529169  , -0.7698187 ,  1.2971039 , -1.246504  ,\n",
       "        0.90049833, -0.8564373 ,  0.8610627 ,  0.0687987 ,  0.17176309,\n",
       "       -3.451351  ,  0.9428594 ,  1.1600647 ,  2.5738328 , -2.1966808 ,\n",
       "       -2.3977818 , -0.58358276,  0.4896831 ,  1.021663  ,  0.7373994 ,\n",
       "       -0.9035569 ,  1.4379992 ,  0.5638674 , -1.200256  , -1.4169341 ,\n",
       "       -0.35990205,  0.21838298, -0.9065066 ,  0.09448802,  0.64378303,\n",
       "       -2.58238   ,  0.80430466,  0.5407368 , -0.70380133, -1.061792  ,\n",
       "       -3.8352065 , -0.5256673 ,  2.5270333 ,  1.065536  , -1.8226187 ,\n",
       "        2.1560504 , -0.15377934, -0.71384335,  0.28891867, -0.7355547 ,\n",
       "        0.7061407 , -1.147278  ,  2.8279636 , -1.2289767 , -0.17736994,\n",
       "       -2.4813256 ,  1.0672886 , -0.65763456, -1.9580485 , -0.73893   ,\n",
       "        1.2255505 ,  4.040845  ,  0.79551405,  0.40481326, -0.4882801 ,\n",
       "       -0.9011132 , -0.64454645,  0.19851953,  0.11781197,  0.81154126,\n",
       "        0.61612016,  1.3147835 , -1.3587893 ,  2.051746  , -1.0022829 ,\n",
       "       -0.32359868,  0.70317876, -2.0505373 , -0.64860797,  1.0088639 ,\n",
       "        1.2097794 , -0.35302192,  0.05270131,  0.90474445, -0.27105293,\n",
       "       -1.1007292 , -1.1145159 ,  0.42107704, -1.462558  ,  0.46390253,\n",
       "        1.0164133 , -0.8889454 , -0.33006063,  0.95769215,  0.13533545,\n",
       "       -0.493693  , -0.97965723, -0.8946533 , -1.3571151 ,  1.4658452 ,\n",
       "        0.2478954 ,  1.0305494 ,  1.14565   ,  1.0803685 ,  1.9582499 ,\n",
       "        1.2231888 ,  0.08456601,  1.337249  ,  0.48905265, -0.8724833 ,\n",
       "        0.14093135,  0.01412233,  1.3979715 , -1.3192439 ,  0.23059425,\n",
       "       -0.03480355,  0.57476336, -0.08014533,  1.1740317 ,  0.88177073,\n",
       "       -1.8551133 , -0.3433847 , -0.2837201 , -1.9635738 ,  0.6881486 ,\n",
       "        0.15773869, -0.48238632, -0.7497413 , -1.2661709 ,  0.8092813 ,\n",
       "        1.5553752 , -0.67511576, -2.9631777 , -0.24836326,  0.7801979 ,\n",
       "        1.2219081 , -0.19890736, -0.13151659, -0.9079493 ,  1.8978841 ,\n",
       "       -0.14790328,  1.6521547 ,  0.02835782,  1.1817454 ,  0.7829591 ,\n",
       "        1.1856569 , -0.96831167, -0.0549733 , -0.6283187 ,  0.16957465,\n",
       "        0.66158664, -0.9894227 ,  0.63083994, -1.4628768 ,  1.6342779 ,\n",
       "        1.1898204 ,  1.8511673 , -0.31323734, -0.44481733,  2.203841  ,\n",
       "       -0.13283196, -0.2677333 ,  0.2919827 ,  0.23178202,  1.2711294 ,\n",
       "       -0.8156887 , -0.6243209 ,  0.44467938, -1.5013701 , -1.1926812 ,\n",
       "        0.119969  ,  1.1576918 ,  1.3919752 ,  1.1371547 , -1.4060467 ,\n",
       "        0.60545385,  2.3057826 ,  1.1076227 ,  2.1360598 , -0.92843205,\n",
       "        0.9693827 ,  0.30911267,  0.11761329,  0.92237455,  0.10395517,\n",
       "       -0.29072   , -0.63737255, -0.49007002, -1.1304507 , -0.04394938,\n",
       "       -0.16633803, -2.3050394 ,  0.626664  , -1.2652435 ,  2.1184778 ,\n",
       "       -0.5878867 , -0.9782664 ,  0.44741085,  2.3926346 , -0.2861221 ,\n",
       "        1.5525513 , -3.8200874 , -0.49392608, -0.77948403,  0.51482415,\n",
       "       -0.5788314 ,  1.3044467 ,  0.3496266 ,  0.7280905 ,  0.05980193,\n",
       "       -0.7516347 , -0.02081935,  0.8384826 , -1.6571085 , -0.11303523,\n",
       "       -0.9284498 , -1.64274   , -0.1060771 , -1.9070873 ,  1.6490254 ,\n",
       "       -2.4378297 , -0.15216401, -3.1865242 ,  1.2621568 , -2.33946   ,\n",
       "        1.4347913 ,  0.26474708,  1.2112905 ,  1.2140481 ,  1.824557  ,\n",
       "        0.2830061 , -0.67118466, -2.3010104 ,  0.92332464,  0.37952   ,\n",
       "       -0.10647867, -0.13613817,  1.7320279 , -0.30024594, -1.6877714 ,\n",
       "        0.27737987, -0.33533478,  1.0281717 , -0.04707344, -1.2224733 ,\n",
       "        1.1522443 , -0.33215398, -1.2861996 , -0.5678613 ,  0.28303054,\n",
       "        0.753878  ,  1.1353242 ,  1.2732418 ,  0.9475021 , -0.11166801,\n",
       "        1.2198379 , -0.56263405, -0.56447375,  0.48459107,  1.4038405 ,\n",
       "        0.8030201 , -1.3012346 ,  2.8564732 ,  0.16382648,  0.9164087 ,\n",
       "       -0.20889066, -0.299892  , -0.5778479 ,  0.28151026, -1.0706006 ,\n",
       "       -0.6024593 ,  0.22464524,  1.1737592 ,  1.0615381 , -2.5720015 ,\n",
       "       -0.2853378 , -0.69893366,  0.07267079, -1.3845619 ,  0.5598594 ,\n",
       "        1.1444087 ,  1.0127712 ,  0.6851639 , -0.91983885, -1.7880405 ,\n",
       "        2.5883403 ,  0.16471955, -1.7736121 , -0.92249465, -1.3492852 ,\n",
       "       -0.02800401, -0.33612934,  0.39272395, -1.4426417 , -1.19998   ,\n",
       "       -1.1296426 ,  0.7279585 ,  0.55731547, -0.0996226 ,  0.01313198,\n",
       "       -1.6938893 , -0.6496175 , -0.19539675,  1.1351129 ,  0.437188  ],\n",
       "      dtype=float32)"
      ]
     },
     "execution_count": 74,
     "metadata": {},
     "output_type": "execute_result"
    }
   ],
   "source": [
    "satz1.vector"
   ]
  },
  {
   "cell_type": "code",
   "execution_count": 80,
   "metadata": {},
   "outputs": [
    {
     "data": {
      "text/plain": [
       "0.4484151297248238"
      ]
     },
     "execution_count": 80,
     "metadata": {},
     "output_type": "execute_result"
    }
   ],
   "source": [
    "satz1.similarity(satz2)"
   ]
  },
  {
   "cell_type": "code",
   "execution_count": 81,
   "metadata": {},
   "outputs": [
    {
     "data": {
      "text/plain": [
       "0.4572296123334658"
      ]
     },
     "execution_count": 81,
     "metadata": {},
     "output_type": "execute_result"
    }
   ],
   "source": [
    "satz1.similarity(satz3)"
   ]
  },
  {
   "cell_type": "code",
   "execution_count": 82,
   "metadata": {},
   "outputs": [
    {
     "data": {
      "text/plain": [
       "0.30568440828642696"
      ]
     },
     "execution_count": 82,
     "metadata": {},
     "output_type": "execute_result"
    }
   ],
   "source": [
    "satz2.similarity(satz3)"
   ]
  },
  {
   "cell_type": "markdown",
   "metadata": {},
   "source": [
    "##  Dokumente vergleichen oder Sätze finden die sich ähneln"
   ]
  },
  {
   "cell_type": "code",
   "execution_count": 48,
   "metadata": {},
   "outputs": [],
   "source": [
    "rede_weidel = u'''Sehr geehrter Herr Präsident! Liebe Kolleginnen und Kollegen!\n",
    "\n",
    "Der Haushalt ist der Nerv des Staates. Daher muss er den profanen Augen des Untertanen entzogen werden.\n",
    "\n",
    "Diesen Satz, der Kardinal Richelieu zugeordnet wird, haben Sie sich offensichtlich seit Jahrzehnten auf die Fahnen geschrieben; denn pünktlich zur Vorstellung des Haushaltes beginnt das Tarnen und Täuschen. Statt dem Souverän, dem Bürger, reinen Wein einzuschenken, werden vollmundige Sonntagsreden gehalten. Und dabei fühlen Sie sich dem Schriftzug am Hohen Hause „DEM DEUTSCHEN VOLKE“ ohnehin nicht mehr verpflichtet. Das Volk wollen Sie sich nämlich selbst aussuchen und zusammenstellen.\n",
    "\n",
    "Sie reden von einer schwarzen Null – doch in Wahrheit sitzen die Steuerzahler auf einem gewaltigen Schuldenberg, den die künftigen Generationen erben werden. Dennoch binden uns die jeweiligen Finanzminister, wie gestern auch Olaf Scholz, Jahr für Jahr einen Bären auf. Wie das gelingt? Ganz einfach: Im Bundeshaushalt werden schlicht nicht alle Ausgabenposten aufgeführt. Denn: Wo ist zum Beispiel der EU-Etat zu finden? Richtig – gar nicht. Die rund 30 Milliarden Euro, die Deutschland nach Brüssel transferiert, werden im Budget verschwiegen. Nach dem Brexit wird der Posten sogar noch größer. Die Haftungen und Garantien für andere Euro-Staaten, Banken und die diversen Euro-Rettungsfonds sind gigantisch, ganz zu schweigen von den TARGET2-Salden, mit denen wir unsere Exporte nämlich selbst bezahlen.\n",
    "\n",
    "Auch ist nur ein Teil der tatsächlichen Schulden überhaupt veröffentlicht. Es ist nämlich die Schattenverschuldung, die Sie der jüngeren Generation wie einen Mühlenstein um den Hals gehängt haben. Der Ökonom Rafelhüschen hat in seiner Generationenbilanz nachgewiesen: Auf unglaubliche 7 Billionen Euro beläuft sich die Gesamtverschuldung, die Bund, Länder und Gemeinden angehäuft haben, zuzüglich der zukünftigen Zahlungen und Verpflichtungen aus dem gesetzlichen Sozialversicherungssystem und Ihrer stattlichen Pensionen. Ich stelle die Frage: Ist das eigentlich noch verantwortliches Haushalten?\n",
    "\n",
    "Sie reden von Verantwortung, doch in Wahrheit geben Sie das Königsrecht des Parlamentes, die Budgethoheit, schamlos aus der Hand. „No taxation without representation“ – keine Besteuerung ohne Zustimmung des Parlaments – ist Grundsatz einer jeden parlamentarischen Demokratie. Das Bundesverfassungsgericht hat ganz klar festgehalten: Als Repräsentanten des Volkes müssen die gewählten Abgeordneten des Deutschen Bundestages … die Kontrolle über grundlegende haushaltspolitische Entscheidungen behalten. Der Deutsche Bundestag darf seine Budgetverantwortung nicht durch unbestimmte haushaltspolitische Ermächtigungen auf andere Akteure übertragen. Sie haben aber dennoch den Rettungsschirmen, den dauerhaften automatisierten Finanzierungsmechanismen zugestimmt, und Sie bejubeln die Pläne von Präsident Emmanuel Macron – kein Widerspruch zum gigantischen Transfer von deutschem Steuergeld, kein Widerspruch zu einem EU-Finanzminister. Ganz im Gegenteil: Es scheint Ihnen nicht schnell genug zu gehen, Verantwortung nach Paris und Brüssel zu übertragen – und damit das Steuergeld, das Sie hier nie erarbeitet haben, sehr geehrte Damen und Herren.\n",
    "\n",
    "Unser Haushalt ist sozial gerecht, behaupten Sie tatsächlich. Deutschland hat eine der höchsten Einkommens- und Ausgabenbelastungen aller westlichen Staaten. Durch Ihre absurde Steuerpolitik sind vor allem die Verdiener mittlerer und kleiner Einkommen, vor allem die Familien belastet. Die Steuerzahler bluten zusätzlich mit dem Abschmelzen ihrer Ersparnisse für die Zinsersparnis, die sich der Staat über die Null- und Negativzinspolitik der EZB ermöglicht. Der Staat entschuldet sich also auf Kosten der Sparer und Steuerzahler.\n",
    "\n",
    "Und dann über die schwarze Null reden! Was ist daran gerecht, was ist daran sozial, sehr geehrte Damen und Herren? Es ist nichts anderes als Steuerzahlerausbeutung nach Gutsherrenart, was Sie hier praktizieren. Während die Infrastruktur dieses Landes zerfällt, der Staat seine Bürger nicht mehr schützen kann, fließen Abermilliarden in die Aufnahme und Alimentierung illegaler Einwanderer und in die Sozialsysteme.\n",
    "\n",
    "Es ist erschreckend: In spätestens 20 Jahren wird jeder fünfte Rentner auf die Grundsicherung angewiesen sein. Trotz eines harten Arbeitslebens haben heute unzählige Senioren kaum genug zum Leben. Zwei Beispiele aus Bochum: Zum einen Herbert W. Bis Mitte der 70er-Jahre hat er unter Tage gearbeitet, später bei Opel, hat viele Jahre ins deutsche Rentensystem eingezahlt, sammelt am Wochenende Flaschen vor dem Ruhrstadion, um seine kümmerliche Rente aufzubessern. Zum anderen Sami A. Er ging früher auch einer beschwerlichen Arbeit nach, er war Leibwächter von Osama Bin Laden, hat nie ins deutsche Sozialsystem eingezahlt, fährt am Wochenende gern mit seinem Moped ins Grüne, erhält vom Staat 1 200 Euro pro Monat, und das seit sage und schreibe zehn Jahren. Das ist aus meiner Sicht eine himmelschreiende Ungerechtigkeit, die Sie zu verantworten haben.\n",
    "\n",
    "Sie behaupten, der Haushalt sei zukunftsorientiert. Im Gegenteil: Sie verbauen die Chancen der zukünftigen Generationen. Das Fundament unseres Staates sind die Menschen, die hier leben und arbeiten. Es sind aber nicht nur die Menschen, die jetzt hier leben, sondern auch diejenigen, die in Zukunft hier leben werden. Ja, wir haben die Hauptverantwortung für die Menschen, die Familien, die schon länger hier leben, und diesen Menschen haben Sie zu dienen. Staatsaufgabe ist nämlich, das über Generationen aufgebaute Volksvermögen treuhänderisch zum Wohle des deutschen Volkes zu verwalten und es nicht mit vollen Händen zum Fenster rauszuschmeißen; denn Eigentümer sind die deutschen Bürger und nicht Sie, nicht die Regierung. Seit 1972 werden in Deutschland jedes Jahr weniger Kinder geboren, als Menschen sterben. Für die Überlebensfähigkeit eines leistungsfähigen Staates ist das ein Problem. Was haben Sie dagegen getan? Nichts, na ja, jedenfalls nichts Wirksames. Denn Sie setzen ausschließlich auf kompensatorische Einwanderung – das sagen Sie ja die ganze Zeit. Bei muslimischen Zuwanderern schaut die Geburtenrate nämlich ganz anders aus. Sogar die Aufettung der Einwohnerzahl durch zugewanderte Straftäter mit mehrfachen Identitäten scheint Sie überhaupt gar nicht zu stören. Doch ich kann Ihnen sagen: Burkas, Kopftuchmädchen, alimentierte Messermänner und sonstige Taugenichtse werden unseren Wohlstand, das Wirtschaftswachstum und vor allem den Sozialstaat nicht sichern. Dazu, Herr Kauder, bedarf es einer qualifizierten und keiner plan- und zügellosen, bildungsfernen Zuwanderung.\n",
    "\n",
    "Deutschland ist schon lange ein grenzenloses Einwanderungsland für Unqualifzierte und ein Auswanderungsland für Hochqualifzierte geworden. Und was tun Sie dagegen? Wer soll in Zukunft für die Renten aufkommen? Wer zahlt denn Ihre stattlichen Pensionen, auch Ihre, Herr Hofreiter, Sie Schreihals? Ihre eingewanderten Goldstücke etwa? Das glauben Sie doch wohl nicht im Ernst. Die Bürger scheinen Ihnen vollkommen egal zu sein. Sie wollen sich darauf beschränken, den Niedergang unseres Landes zu verwalten, teilweise haben wir den Eindruck, dass Sie ihn sogar befeuern. Aber das wird wohl Ihrem Wertekanon entsprechen. Wenn eine Bundestagsvizepräsidentin einem Transparent hinterherrennt, auf dem steht „Deutschland, du mieses Stück Scheiße“, und alle hier das mittragen, indem sie zur Bundestagsvizeprä- sidentin gewählt wird – ich spreche von Claudia Roth –, dann muss man sich über nichts mehr wundern hier in diesem Hohen Haus.\n",
    "\n",
    "Die AfD hingegen tritt für Verantwortung, Gerechtigkeit und für eine lebenswerte Zukunft ein. Deshalb fordern wir erstens einen schonungslosen Kassensturz. Alle Zahlen müssen endlich offen auf den Tisch gelegt werden.\n",
    "\n",
    "Zweitens. Wir fordern, den Sozialstaat endlich zu sichern und die Zukunft zu gestalten. Die Strategie des Generationenersatzes durch eine ungeregelte Zuwanderung, teilweise aus frauenverachtenden Stammeskulturen, hat sich als Holzweg erwiesen. Wohlstand kann nur gesichert werden, wenn in sichere Grenzen und in die kommenden Generationen investiert wird.\n",
    "\n",
    "Drittens. Wir wollen echte Steuergerechtigkeit. Mittel- und Geringverdiener müssen endlich ehrlich belastet werden. Dazu muss der Grundfreibetrag endlich angehoben werden. 2 000 Euro brutto im Monat steuerfrei, das wäre doch einmal visionär; denn es kann doch nicht sein, dass ein Facharbeiter bereits beim 1,3-Fachen des Durchschnittslohnes den Spitzensteuersatz zu zahlen hat. Ich kann Ihnen sagen: Es ist endlich Zeit für eine ehrliche Entlastung.\n",
    "\n",
    "Viertens. Keine weitere Aushöhlung der Souveränität. Die Hoheit über unseren Haushalt gehört nach Berlin und nicht nach Brüssel. In diesem Sinne schließe ich mit einem Zitat des früheren tschechischen Präsidenten Zeman, das Ihnen auch schon die ehrenwerte ehemalige CDU-Abgeordnete Erika Steinbach vorgetragen hat – ich zitiere –: Falls Sie in einem Land leben, in dem Sie für das Fischen ohne Angelschein bestraft werden, jedoch nicht für den illegalen Grenzübertritt ohne gültigen Reisepass, dann haben Sie das volle Recht, zu sagen, dieses Land wird von Idioten regiert.\n",
    "'''\n",
    "\n"
   ]
  },
  {
   "cell_type": "code",
   "execution_count": 49,
   "metadata": {},
   "outputs": [],
   "source": [
    "rede_bernd = u'''Björn Höcke: Liebe Freunde, liebe Mitstreiter innerhalb und außerhalb unserer Partei, liebe Patrioten von nah und fern, ich bin einfach nur überglücklich heute hier bei euch in Dresden... [unv., geht in Jubel unter]\n",
    "\n",
    "Es ist mir schon lange Zeit ein Herzensanliegen, das tun zu dürfen. Ich bin der Jungen Alternative hier in Dresden hier dankbar dafür, dass sie die Einladung ausgesprochen hat, dass sie den Mut bewiesen hat, einen unbequemen Redner einzuladen...\n",
    "\n",
    "...Mut bewiesen hat, diese Veranstaltung, die ja wirklich eine große Veranstaltung ist, zu stemmen. Das zu leisten, das ist ein großer, schwieriger organisatorischer Akt, gerade wenn man gegen so viele Gegner zu kämpfen hat. Sie hat‘s getan. Lieber Herr Scholz [Anm.: Matthias Scholz, Vorsitzender der Jungen Alternative], herzlichen Dank für ihre Einladung, für die Einladung ihres Stadtverbandes... [unv., geht in Jubel unter]\n",
    "\n",
    "Wir haben eine großartige Rede gehört von Markus Mohr, Stadtrat in Aachen, der ein ganz wichtiges Thema hier ausgebreitet hat, das Thema der sozialen Frage. Dazu will ich heute nichts sagen. Ich will heute würdigen, ich will hier und da auch mahnen und ich will vor allen Dingen appellieren. Wir haben zwei potentielle Bundestagskandidaten gehört, denen ich von Herzen alles, alles Gute wünsche. Ich hoffe, lieber Herr Vogel [Anm.: Stefan Vogel, AfD-Stadtratsfraktion Dresden] lieber Herr Maier [Anm.: Jens Maier, Richter am Landgericht Dresden und Direktkandidat der AfD in Dresden] sie können hier reüssieren und können in den Bundestag einziehen. So aufrechte Patrioten können... [unv., geht in Jubel unter]\n",
    "\n",
    "Liebe Freunde, Dresden ist eine ganz besondere Stadt. Ich kann mich noch gut erinnern, wie hier im Oktober 2014 die Straßenproteste begonnen haben und ich kann mich noch sehr gut daran erinnern, wie ich mich kurze Zeit später mit einigen frisch gewählten Abgeordneten des Thüringer Landtages auf den Weg nach Dresden machte, und das [sic!] in Augenschein zu nehmen, was innerhalb von wenigen Wochen und Monaten eine weltweite Aufmerksamkeit erzwungen hatte.\n",
    "\n",
    "Wir suchten den Beginn des Pegida-Spazierganges und wir fanden ihn nicht direkt, weil wir etwas ortsunkundig waren. Und ich kann mich noch gut erinnern, wie wir durch mehrere Gruppen von sogenannten Antifaschisten durch mussten…\n",
    "\n",
    "...damals, damals waren wir noch unbekannt, damals war ich noch unbekannt. Heute wäre das für mich wahrscheinlich eine lebensgefährliche Aktion.\n",
    "\n",
    "Sie können sich vorstellen wie froh ich war, als ich diese wilden Horden verlassen hatte und mit meiner kleinen Thüringer Gruppe dann endlich den Pegida-Spaziergang gefunden hatte.\n",
    "\n",
    "Liebe Freunde, ihr dürft mir jetzt, wenn ich hier rede, nicht die Schamesröte ins Gesicht treiben.\n",
    "\n",
    "Wir gingen dann damals nach Dresden und haben uns die Lage vor Ort angeguckt, und was wir sahen bei den Spaziergängern, das waren keine verschrobenen Sonderlinge, das waren keine wirtschaftlich Abgehängten und das waren auch keine grölenden Nazis, die wir dort antrafen. Wir haben uns dann dem Spaziergang angeschlossen. Und während dieses Spaziergangs sind wir an kreischenden, verhetzten, von induziertem Irresein gekennzeichneten jugendlichen Wirrköpfen vorbeigekommen…\n",
    "\n",
    "...und waren einfach nur erstaunt darüber, dass diese Spaziergänger trotz dieser unflätigen Provokation dieser Wirrköpfe, trotz einer staatsgefährdenden Politik der Altparteien zu Tausenden in so vornehmer und vorbildlicher Art und Weise ihre Bürgerrechte wahrnahmen.\n",
    "\n",
    "\"Ihr Sachsen seid das große, unerreichte Vorbild\"\n",
    "\n",
    "Weil wir Patrioten dasselbe Leiden in den Knochen haben und weil wir derselben Sache dienen, möchte ich es hier nochmal in aller Öffentlichkeit und aller Deutlichkeit aussprechen: Ich persönlich, liebe Freunde, ich persönlich bin stolz auf das, was ihr in Dresden erreicht habt. Ihr Sachsen, ihr Dresdner, seid für uns Thüringer und für uns Erfurter das große, unerreichte Vorbild!\n",
    "\n",
    "Protest gegen den Auftritt des AfD-Politikers Björn Höcke am Dienstagabend im Dresdner Ballhaus Watzke\n",
    "Protest gegen den Auftritt des AfD-Politikers Björn Höcke am Dienstagabend im Dresdner Ballhaus WatzkeFOTO: ZB\n",
    "Euch Dresdnern, euch Patrioten aus Sachsen gebührt das große Verdienst, und dieses große Verdienst nimmt euch niemand mehr. Es ist ein historisches Verdienst, den ersten Schritt getan zu haben. Den ersten Schritt, der notwendig war, der der Lage geschuldet war, in einer Bewegung, die eine inhaltliche Fundamentalopposition darstellt. Und dieser erste Schritt hin zur Tat ist gerade für uns Bürger doch so schwer, weil er sich, dieser Bürger – und so empfindet er es zumindest in seinem Innersten, und auch das habe ich immer wieder in vielen Gesprächen gespürt, die ich geführt habe in den letzten Monaten und Jahren – weil er sich im Innersten glaubt, gegen seinen Staat, gegen den Staat, den er doch maßgeblich trägt und den er grundsätzlich befürwortet, stellen muss.\n",
    "\n",
    "Der Philosoph Frank Lisson hat das mal vor kurzem sehr schön beschrieben und zwar aus der Sicht eines Westdeutschen, ich zitiere: „Wer hätte als Westdeutscher vor zwanzig, dreißig Jahren noch gedacht, selber einmal vor die Gewissensfrage der ehemaligen DDR-Bürger gestellt zu werden, die da lautet: Wie habe ich mich in einem Staat zu verhalten, dessen Regierung kapitale Rechtsbrüche begeht, die Verfassung mißachtet, sich willkürlich über geltende Gesetze erhebt und im Namen einer verhängnisvollen Ideologie verantwortungslose Politik gegen das eigene Volk betreibt?“ [Anm.: Auszug aus Lisson, Frank: „Fundamentalopposition“, in „Sezession“, Nr. 75, 2016]\n",
    "\n",
    "Diese Frage, die Frank Lisson, wie so viele Westdeutsche, gestellt hat – wir hier im Osten haben sie für uns endgültig und abschließend beantwortet, liebe Mitbürger.\n",
    "\n",
    "Wir sagen ja! Wir sagen ja, nicht zur strukturellen Fundamentalopposition, weil wir diesen Staat ja wollen! Wir wollen ihn am Leben erhalten und wir wollen ihn stützen. Wir sagen aber ja zu einer inhaltlichen Fundamentalopposition um diesen Staat, den wir erhalten wollen, vor den verbrauchten politischen Alteliten zu schützen, die ihn nur missbrauchen um ihn abzuschaffen! Das werden wir nicht zulassen, liebe Freunde!\n",
    "\n",
    "Dresden – und ich habe es eingangs betont und es ist meine tiefe und feste Überzeugung – Dresden ist die Hauptstadt der Mutbürger.\n",
    "\n",
    "Und wenn ich euren Verdienst anschaue und bewerte, den ihr euch erworben habt, und die Deutschland-abschaffende Politik der Altparteien, und wenn ich heute wieder in diesem Saal wie glaube ich noch niemals zuvor seit ich in einer Partei Politik mache eine reine, ehrliche bescheidende und tief begründete Vaterlandsliebe spüre, und wenn ich mir jetzt die desolate innere und äußere Lage der Bundeshauptstadt Berlin vor Augen führe, dann meine ich, eigentlich dürfte nicht Berlin, eigentlich müsste Dresden die deutsche Hauptstadt... [unv., geht in Applaus unter]'''"
   ]
  },
  {
   "cell_type": "code",
   "execution_count": 50,
   "metadata": {},
   "outputs": [],
   "source": [
    "rede_sarah = u'''Dr. Sahra Wagenknecht (DIE LINKE):\n",
    "\n",
    "Herr Präsident! Werte Kolleginnen und Kollegen! Frau Bundeskanzlerin, Sie werden hier gleich ans Mikrofon treten und wieder ausgiebig Ihre Politik loben.\n",
    "\n",
    "Aber wenn man sich die derzeitige Politik und die derzeitige Situation in Deutschland, in Europa und in der Welt ansieht und wenn man vor allen Dingen Ihre ganz persönliche Mitverantwortung für diese Situation in Rechnung stellt, dann fragt man sich schon, wie Sie darauf auch noch stolz sein können.\n",
    "\n",
    "Ja, wir leben in einem reichen Land, das gute Autos und international gefragte Maschinen produziert. Aber es ist ein zutiefst gespaltenes Land. Es ist ein Land, in dem selbst fleißige Arbeit nicht mehr vor Armut schützt und in dem inzwischen die Auswahl des Elternhauses wichtiger geworden ist als die Auswahl des Berufs. Es ist ein Land, in dem kaum noch investiert wird, in dem Straßen und Brücken verrotten, in dem viele Kinder in verwahrlosten Wohngebieten aufwachsen,\n",
    "\n",
    "(Norbert Barthle (CDU/CSU): Sprechen Sie jetzt von Afrika?)\n",
    "\n",
    "in dem ihnen elementare Bildung vorenthalten wird.\n",
    "\n",
    "(Michael Grosse-Brömer (CDU/CSU): Um Gottes willen! Wo leben Sie eigentlich?)\n",
    "\n",
    "Was tun Sie, Frau Bundeskanzlerin? Statt Problemlösungen liefern Sie Taschenspielertricks, statt solider Finanzierungen liefern Sie kreative Buchführung, und statt wirtschaftspolitischer Rationalität liefern Sie okkulte Opferrituale vor Ihrer neuen Göttin, der schwarzen Null, die Ihnen trotz aller Beschwörungsformeln im nächsten Jahr wieder nicht erscheinen wird.\n",
    "\n",
    "(Beifall bei der LINKEN - Unruhe bei der CDU/CSU)\n",
    "\n",
    "Solide öffentliche Finanzen gibt es eben nicht ohne eine dynamische Wirtschaft. Es gibt sie nicht ohne Konsumenten, die genug Geld in der Tasche haben, um sich ein gutes Leben leisten zu können, und es gibt sie auch nicht ohne Unternehmen, die genau wegen dieser Nachfrage Anreize haben, zu investieren, statt ihr Geld zu bunkern oder ihre Aktionäre mit immer neuen Rekorddividenden glücklich zu machen. Es gibt solide öffentliche Finanzen auch nicht, wenn gerade die reichsten Familien und die größten Konzerne kaum noch einen müden Euro zur Finanzierung des Gemeinwesens beitragen und der Staat dabei wegschaut.\n",
    "\n",
    "Und deswegen ist für mich die schwarze Null eigentlich ein Ausdruck einer Null-Kompetenz in der Wirtschaftspolitik.\n",
    "\n",
    "Das ist das Urteil des Wirtschaftsweisen Peter Bofinger über Ihre Politik, Frau Kanzlerin. Vielleicht erinnern Sie sich auch noch, was Sie im August im schönen Lindau am Bodensee von den Wirtschaftsnobelpreisträgern zu hören bekommen haben. Ich gebe eine kleine Kostprobe:\n",
    "\n",
    "Merkel verfolgt ... eine völlig falsche Politik.\n",
    "\n",
    "Merkel scheint den Ernst der Lage nicht kapiert zu haben.\n",
    "\n",
    "Merkels Rede sei eine einzige Katastrophe gewesen. Wohlgemerkt: Das ist kein Mitschnitt aus einer Mitgliederversammlung der Linken. Das waren die Urteile international renommierter Wirtschaftsnobelpreisträger über Ihre Politik, Frau Merkel. Wenn Sie vielleicht einmal zuhören könnten, vielleicht würde Ihnen das zu denken geben;\n",
    "\n",
    "aber offensichtlich interessiert Sie das überhaupt nicht.\n",
    "\n",
    "Weggucken, wegducken, wegreden ‑ das ist Ihr Dreiklang im Umgang mit den Gefahren und Problemen der Gegenwart.\n",
    "\n",
    "Aber die Gefahren sind einfach zu groß und die Probleme zu ernst, als dass wir so weiter mit ihnen umgehen könnten. Die deutsche Wirtschaft stagniert. Alle Prognosen für das nächste Jahr mussten nach unten korrigiert werden.\n",
    "\n",
    "Aus konjunkturellen wie aus prinzipiellen Gründen braucht dieses Land endlich mehr Investitionen. Sie haben nun lauthals ein Investitionsprogramm angekündigt. Aber was sieht man, wenn man in das Kleingedruckte schaut? Dann sieht man, dass nach Ihren eigenen Planungen der Anteil der Investitionsausgaben des Bundes weiter sinken soll, nämlich von aktuell 10,1 Prozent auf nur noch 8,3 Prozent im Jahr 2018. So viel wirtschaftspolitische Ignoranz kann einem wirklich die Sprache verschlagen.\n",
    "\n",
    "‑ Sie können sich ruhig aufregen. Es wäre aber besser, wenn Sie sich nicht nur aufregen würden, sondern auch Konsequenzen ziehen würden.\n",
    "\n",
    "Es geht nicht nur um Straßen, es geht auch nicht nur um Brücken, es geht auch um Zukunftstechnologien und Innovationen. Wer meint, dafür wird schon der Markt sorgen, der sollte sich einmal fragen, warum sich eigentlich alle wichtigen digitalen Technologien heutzutage in der Hand von US-Unternehmen befinden, die Möglichkeit zur globalen Überwachung inklusive. Nicht, weil der Markt jenseits des Atlantiks so viel besser funktioniert, sondern weil sich der Staat das zumindest früher ziemlich viel hat kosten lassen. Fast die gesamte Technologie, die heute in einem iPhone steckt, ist doch nicht in Steve Jobs Garage entwickelt worden. Die ist in staatlichen Forschungszentren entwickelt worden. Wer glaubt, dass ein fundamentaler technologischer Umbruch wie die Energiewende möglich wäre ohne massive öffentliche Investitionen in die Erforschung und Umsetzung alternativer Technologien, der hat wirklich nichts verstanden.\n",
    "\n",
    "(Beifall bei der LINKEN - Michael Grosse-Brömer (CDU/CSU): Sie hatten doch nur Robotron! Die größten Chips der Welt!)\n",
    "\n",
    "Aber statt über solche Fragen auch nur nachzudenken, verhandelt diese Regierung lieber über Investorenschutz. Genau genommen verhandelt sie nicht, sondern der Wirtschaftsminister führt einen unglaublichen Eiertanz auf, um der Öffentlichkeit Sand in die Augen zu streuen. Ich rede von den geplanten Freihandelsabkommen CETA und TTIP,\n",
    "\n",
    "(Michael Grosse-Brömer (CDU/CSU): Eine große Chance! Die müssen wir schnell umsetzen!)\n",
    "\n",
    "und ich rede von den Sondergerichten für große Konzerne, mittels derer diese Konzerne den deutschen Staat in Zukunft für jede Mindestlohnerhöhung und für jedes Umweltschutzgesetz vor den Kadi ziehen können.\n",
    "\n",
    "Aber offensichtlich hat Herr Gabriel in seiner politischen Laufbahn nicht mehr vor, den Mindestlohn zu erhöhen oder die Umwelt zu schützen. Zumindest habe ich vernommen, dass er der Öffentlichkeit mitgeteilt hat, diese Sondergerichte ließen sich - leider, leider - nicht mehr aus dem Abkommen CETA herausverhandeln. Ja, Herr Gabriel, wenn sich diese Sondergerichte nicht mehr herausverhandeln lassen, dann muss Deutschland diese Abkommen eben ablehnen. Dann muss man CETA ablehnen, und das Gleiche gilt auch für TTIP.\n",
    "\n",
    "Beide Abkommen haben doch im Kern nur das Ziel, Löhne, Sozialstandards und Verbraucherschutz noch weiter auf Sinkflug zu schicken und den Kapitalismus endgültig vor den Zumutungen der Demokratie zu schützen; das ist doch das, worum es bei diesen Abkommen geht. Das ist das Letzte, was wir brauchen. Denn dann kann man auf Wahlen und Parlamentarismus konsequenterweise auch ganz verzichten. Wenn wir hier im Bundestag keine Gesetze mehr machen können, die den Banken und Konzernen nicht gefallen, dann verkommt das, was wir hier tun, wirklich zu einer schlichten Theatervorstellung. Da muss ich Ihnen sagen: Für ein Theater ist dieses Haus wirklich zu teuer und am Ende vielleicht auch zu wenig unterhaltsam.\n",
    "\n",
    "Der bekannte Ordoliberale Alexander Rüstow - vielleicht gibt es bei Ihnen noch den einen oder anderen, der ihn kennt - hat bereits vor einem halben Jahrhundert gewarnt, dass - ich zitiere -\n",
    "\n",
    "der Staat, der damit anfängt, die Raubtiere der organisierten Unternehmerinteressen zu füttern, letzten Endes von ihnen verschlungen wird.\n",
    "\n",
    "Gerade deshalb haben die Ordoliberalen ja immer wieder davor gewarnt, Unternehmen oder auch Banken so groß oder so mächtig werden zu lassen, dass sie die Allgemeinheit erpressen oder ihr schlicht auf der Nase herumtanzen können. Es war ihre zentrale Botschaft, dass das verhindert werden muss.\n",
    "\n",
    "Versagt der Staat auf diesem Felde, dann ist es bald um die soziale Marktwirtschaft geschehen, war Ludwig Erhards knappe Prognose zu diesem Thema. Gerade Sie von der CDU/CSU, die Sie sich so gern auf Ludwig Erhard berufen, sollten zugeben, dass er recht behalten hat. Der Staat hat auf diesem Feld versagt. Deswegen ist es um die soziale Marktwirtschaft geschehen. Wir haben nämlich keine mehr.\n",
    "\n",
    "Auch in Brisbane haben Sie, Frau Merkel, und auch die anderen Regierungschefs wieder auf vielen wichtigen Feldern vor den Raubtieren kapituliert: bei der Finanzmarktregulierung, beim Klimaschutz und natürlich auch bei der Bekämpfung der Steuerflucht von Konzernen. Es ist einem schon aufgefallen, wie eilig sich diese Regierung, als die Enthüllungen über die Steuersparmodelle in Luxemburg in der Presse waren, bemüht hat, zur Tagesordnung überzugehen. Nun nehme ich Ihnen ja ab, dass Sie über die Enthüllungen nicht besonders verblüfft waren. Auch ich war nicht besonders verblüfft. Es ist lange bekannt, dass es solche Steuersparmodelle gibt, und zwar nicht nur in Luxemburg, sondern auch in vielen anderen EU-Staaten. Es ist auch bekannt, dass dem deutschen Staat - dem Bund, den Ländern und auch den Kommunen - schätzungsweise 100 Milliarden Euro im Jahr entgehen, weil es solche Modelle gibt. 100 Milliarden Euro!\n",
    "\n",
    "Die Unternehmen gehen sogar ganz offen damit um, dass sie das praktizieren. Die Deutsche Bank zum Beispiel lobt sich in ihrem Geschäftsbericht ausdrücklich dafür, dass sie durch eine, wie es vornehm heißt, vorteilhafte geografische Verteilung ihres Konzernergebnisses ihre Steuerzahlungen minimiert, sprich die Öffentlichkeit kräftig geschädigt hat. Ich finde, das muss man sich einmal auf der Zunge zergehen lassen: Eine Bank, die es ohne die Milliardenzahlungen der Steuerzahlerinnen und Steuerzahler überhaupt nicht mehr gäbe, die bankrott gewesen wäre, ist auch noch stolz darauf, dass sie solche Modelle nutzt und dadurch die Öffentlichkeit in Milliardenhöhe schädigt. Natürlich ist das kriminell.'''"
   ]
  },
  {
   "cell_type": "code",
   "execution_count": 92,
   "metadata": {},
   "outputs": [],
   "source": [
    "buegeleisen_bedienungsanleitung = \"\"\"\n",
    "Reinigung Kunststoffteile Gerät vollständig abkühlen lassen Kunststoffteile mit einem leicht feuchten Tuch abwischen und dann trockenreiben.\n",
    "Netzstecker/-kabel dabei nicht berühren, bzw. nie feucht reinigen. Bügeleisen niemals ins Wasser oder in andere Flüssigkeiten tauchen: Kurzschluss- und Stromschlaggefahr! Keine scharfen, kratzenden Gegenstände oder ätzende Chemikalien verwenden\n",
    "Sohle Inox-Sohle gelegentlich mit einem Metallpflegemittel reinigen und danach gründlich abwischen  Anschliessend auf einem Tuch gut durchdampfen lassen, damit Reinigungsmittelrückstände austreten können Keine scharfe und scheuernde Reinigungsmittel verwenden\n",
    "Dampfkammer\n",
    "Die Dampfkammer muss regelmässig mit der «CALC-CLEAN» -Funktion gereinigt werden (bei hartem Wasser wöchentlich). Auch nach längeren Standzeiten (z.B. nach den Ferien), vor dem Bügeln Dampfkammer reinigen.  Netzstecker ziehen  Tank bis zur Hälfte mit Wasser befüllen  Dampf-Regler auf «0» stellen  Temperatur-Wählscheibe auf «MIN» drehen  Netzstecker einstecken (in der Nähe des\n",
    "Spülbeckens)  Temperatur-Wählscheibe auf «MAX» drehen\n",
    "und Bügeleisen aufheizen lassen  Sobald die Aufheiz-Kontrolllampe erlischt, ist\n",
    "die richtige Sohlentemperatur erreicht  Bügeleisen waagrecht über Spülbecken halten  «CALC-CLEAN»-Taste drücken (Taste nicht\n",
    "loslassen)  Bügeleisen hin und her bewegen\n",
    "Nach einer anfänglich starken Dampfbildung spülen Wasser und Dampf, Schmutz und Kalkpartikel aus der Dampfkammer.  Gleichzeitig kann der Dampfstossknopf\n",
    "« » kurz gedrückt werden.\n",
    "Hinweis\n",
    "vor dem nächsten Dampfstoss mindestens\n",
    "5 Sekunden warten Wenn keine weiteren Partikel mehr austreten:  «CALC-CLEAN»-Taste loslassen  Temperatur-Wählscheibe auf «MIN» drehen\n",
    "und Netzstecker ziehen  Bügeleisen abkühlen lassen und dann Sohle\n",
    "mit einem feuchten Tuch abwischen\n",
    "Sicherheits- vorschriften Vor Inbetriebnahme Bedienungsanleitung vollständig durchlesen  Den Netzstecker ziehen: vor jedem Befüllen oder Entleeren vor jedem Verlassen des Raums vor jeder Pflege oder Reinigung oder nach\n",
    "dem Gebrauch Heisse Bügeleisensohle nicht berühren:\n",
    "Verbrennungsgefahr  Gerät nicht unbeaufsichtigt lassen, wenn es\n",
    "am Netz angeschlossen ist: Brandgefahr! Niemals am Körper befindliche\n",
    "Kleidungsstücke bügeln oder Personen mit\n",
    "Dampf besprühen: Verbrühungsgefahr! Personen, einschliesslich Kinder, die aufgrund ihrer physischen, sensorischen oder geistigen\n",
    "Fähigkeiten oder ihrer Unerfahrenheit oder Unkenntnis nicht in der Lage sind, das Gerät sicher zu benutzen, dürfen das Gerät nicht ohne Aufsicht oder Anweisung durch eine verantwortliche Person benutzen Gerät auf eine trockene, stabile und ebene Entsorgung Fläche stellen\n",
    " Gerät nicht in der Nähe von offenen Flammen abstellen. Mindestabstand von 50 cm einhalten Stellen Sie das Gerät nicht auf oder unter entflammbare, schmelzbare Vorrichtungen und Küchenvorbauten Das Netzkabel nicht herunterhängen lassen und niemals über Ecken und scharfe Kanten ziehen oder einklemmen Netzkabel nicht über heisse Gegenstände legen oder hängen, sowie vor Öl schützen Stecker niemals mit nassen Händen oder am Netzkabel aus der Steckdose ziehen Gerät niemals am Netzkabel tragen oder ziehen Vor Reinigung des Gerätes Netzstecker ziehen und vollständig abkühlen lassen Gerät oder Kabel nie in Wasser oder andere Flüssigkeiten tauchen: Verletzungs-, Feuer- oder Stromschlag-Gefahr Kabel und Stecker regelmässig auf Beschädigungen untersuchen. Gerät nicht\n",
    "mit beschädigtem Netzkabel oder Netzstecker verwenden. Defekte Kabel und Stecker sofort durch den MIGROS-Service ersetzen lassen Nur Original-Ersatzteile benutzen Gerät darf nur in Privathaushalten und in\n",
    "trockenen Räumen angewendet werden Für Schäden, die durch Nichtbeachten dieser Bedienungsanleitung entstehen, wird jegliche\n",
    "Haftung abgelehnt Bedienungsanleitung sorgfältig aufbewahren\n",
    "und allenfalls an Nachbenutzer weitergeben Ausgediente Geräte bei einer Verkaufsstelle zur kostenlosen, fachgerechten Entsorgung abgeben Geräte mit gefährlichem Defekt sofort entsorgen und sicherstellen, dass sie nicht mehr verwendet werden können Geräte nicht mit dem Hauskehricht entsorgen (Umweltschutz!)\"\"\""
   ]
  },
  {
   "cell_type": "code",
   "execution_count": 93,
   "metadata": {},
   "outputs": [],
   "source": [
    "doc1 = nlp(rede_weidel)\n",
    "doc2 = nlp(rede_bernd)\n",
    "doc3 = nlp(rede_sarah)\n",
    "doc4 = nlp(buegeleisen_bedienungsanleitung)"
   ]
  },
  {
   "cell_type": "code",
   "execution_count": 94,
   "metadata": {},
   "outputs": [
    {
     "data": {
      "text/plain": [
       "0.935720677701149"
      ]
     },
     "execution_count": 94,
     "metadata": {},
     "output_type": "execute_result"
    }
   ],
   "source": [
    "doc1.similarity(doc2)"
   ]
  },
  {
   "cell_type": "code",
   "execution_count": 95,
   "metadata": {},
   "outputs": [
    {
     "data": {
      "text/plain": [
       "0.9858206351926188"
      ]
     },
     "execution_count": 95,
     "metadata": {},
     "output_type": "execute_result"
    }
   ],
   "source": [
    "doc1.similarity(doc3)"
   ]
  },
  {
   "cell_type": "code",
   "execution_count": 96,
   "metadata": {},
   "outputs": [
    {
     "data": {
      "text/plain": [
       "0.9532894971959969"
      ]
     },
     "execution_count": 96,
     "metadata": {},
     "output_type": "execute_result"
    }
   ],
   "source": [
    "doc2.similarity(doc3)"
   ]
  },
  {
   "cell_type": "code",
   "execution_count": 97,
   "metadata": {},
   "outputs": [
    {
     "data": {
      "text/plain": [
       "0.8315653670879192"
      ]
     },
     "execution_count": 97,
     "metadata": {},
     "output_type": "execute_result"
    }
   ],
   "source": [
    "doc4.similarity(doc3)"
   ]
  },
  {
   "cell_type": "code",
   "execution_count": 98,
   "metadata": {},
   "outputs": [
    {
     "data": {
      "text/plain": [
       "0.7509050913346156"
      ]
     },
     "execution_count": 98,
     "metadata": {},
     "output_type": "execute_result"
    }
   ],
   "source": [
    "doc4.similarity(doc2)"
   ]
  },
  {
   "cell_type": "code",
   "execution_count": 99,
   "metadata": {},
   "outputs": [
    {
     "data": {
      "text/plain": [
       "0.8358488946857895"
      ]
     },
     "execution_count": 99,
     "metadata": {},
     "output_type": "execute_result"
    }
   ],
   "source": [
    "doc4.similarity(doc1)"
   ]
  },
  {
   "cell_type": "markdown",
   "metadata": {},
   "source": [
    "- Anscheinend ähneln sich die Reden mehr als man denkt..."
   ]
  },
  {
   "cell_type": "markdown",
   "metadata": {},
   "source": [
    "## Die ähnlichsten Sätze zwischen zwei Reden finden"
   ]
  },
  {
   "cell_type": "code",
   "execution_count": 100,
   "metadata": {},
   "outputs": [],
   "source": [
    "doc1_sentences = list(doc1.sents)\n",
    "doc2_sentences = list(doc2.sents)\n",
    "doc3_sentences = list(doc3.sents)"
   ]
  },
  {
   "cell_type": "code",
   "execution_count": 101,
   "metadata": {},
   "outputs": [],
   "source": [
    "max = 0\n",
    "top = \"\"\n",
    "for s1 in doc1_sentences:\n",
    "    for s2 in doc2_sentences:\n",
    "        if s1.similarity(s2) > max:\n",
    "            top = [s1,s2]\n",
    "            max = s1.similarity(s2)"
   ]
  },
  {
   "cell_type": "code",
   "execution_count": 102,
   "metadata": {},
   "outputs": [
    {
     "data": {
      "text/plain": [
       "0.9241944"
      ]
     },
     "execution_count": 102,
     "metadata": {},
     "output_type": "execute_result"
    }
   ],
   "source": [
    "max"
   ]
  },
  {
   "cell_type": "code",
   "execution_count": 103,
   "metadata": {},
   "outputs": [
    {
     "data": {
      "text/plain": [
       "[Sie wollen sich darauf beschränken, den Niedergang unseres Landes zu verwalten, teilweise haben wir den Eindruck, dass Sie ihn sogar befeuern.,\n",
       " Wir sagen aber ja zu einer inhaltlichen Fundamentalopposition um diesen Staat, den wir erhalten wollen, vor den verbrauchten politischen Alteliten zu schützen, die ihn nur missbrauchen um ihn abzuschaffen!]"
      ]
     },
     "execution_count": 103,
     "metadata": {},
     "output_type": "execute_result"
    }
   ],
   "source": [
    "top"
   ]
  },
  {
   "cell_type": "code",
   "execution_count": 104,
   "metadata": {},
   "outputs": [],
   "source": [
    "max = 0\n",
    "top = \"\"\n",
    "for s1 in doc2_sentences:\n",
    "    for s2 in doc3_sentences:\n",
    "        if s1.similarity(s2) != 1:\n",
    "            if s1.similarity(s2) > max:\n",
    "                top = [s1,s2]\n",
    "                max = s1.similarity(s2)"
   ]
  },
  {
   "cell_type": "code",
   "execution_count": 105,
   "metadata": {},
   "outputs": [
    {
     "data": {
      "text/plain": [
       "0.92047894"
      ]
     },
     "execution_count": 105,
     "metadata": {},
     "output_type": "execute_result"
    }
   ],
   "source": [
    "max"
   ]
  },
  {
   "cell_type": "code",
   "execution_count": 106,
   "metadata": {},
   "outputs": [
    {
     "data": {
      "text/plain": [
       "[Wir sagen aber ja zu einer inhaltlichen Fundamentalopposition um diesen Staat, den wir erhalten wollen, vor den verbrauchten politischen Alteliten zu schützen, die ihn nur missbrauchen um ihn abzuschaffen!,\n",
       " Es gibt sie nicht ohne Konsumenten, die genug Geld in der Tasche haben, um sich ein gutes Leben leisten zu können, und es gibt sie auch nicht ohne Unternehmen, die genau wegen dieser Nachfrage Anreize haben, zu investieren, statt ihr Geld zu bunkern oder ihre Aktionäre mit immer neuen Rekorddividenden glücklich zu machen.]"
      ]
     },
     "execution_count": 106,
     "metadata": {},
     "output_type": "execute_result"
    }
   ],
   "source": [
    "top"
   ]
  },
  {
   "cell_type": "markdown",
   "metadata": {},
   "source": [
    "- Interessant :) dh. Auf Satzebene ist es nicht unbedingt aufgrund der Wordembeddings nachvollziehbar warum Sätze ähnlich sind. Es kann sein dass ähnliche Themen diskutiert werden aber es ist schwer nachzuvollziehen."
   ]
  }
 ],
 "metadata": {
  "kernelspec": {
   "display_name": "Python 3",
   "language": "python",
   "name": "python3"
  },
  "language_info": {
   "codemirror_mode": {
    "name": "ipython",
    "version": 3
   },
   "file_extension": ".py",
   "mimetype": "text/x-python",
   "name": "python",
   "nbconvert_exporter": "python",
   "pygments_lexer": "ipython3",
   "version": "3.8.6"
  }
 },
 "nbformat": 4,
 "nbformat_minor": 2
}
