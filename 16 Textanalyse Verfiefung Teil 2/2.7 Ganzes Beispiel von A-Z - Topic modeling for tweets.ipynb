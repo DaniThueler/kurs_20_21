{
 "cells": [
  {
   "cell_type": "markdown",
   "metadata": {},
   "source": [
    "# Könnnen wir durch Topic Modelling rausfinden worüber Demokratische Kandidaten reden?\n",
    "\n",
    "Im Grunde wollen wir ein bisschen das hier nachbauen https://www.bloomberg.com/graphics/2020-democratic-presidential-candidate-policies/\n",
    "\n",
    "Agenda:\n",
    "\n",
    "- Topic Modeling als Inspiration für Themen\n",
    "- Themen anhand von Keywords anlegen\n",
    "- Steamgraphs machen\n"
   ]
  },
  {
   "cell_type": "code",
   "execution_count": 49,
   "metadata": {},
   "outputs": [],
   "source": [
    "import pandas as pd\n",
    "pd.set_option(\"display.max_columns\", 60)\n",
    "pd.set_option(\"display.max_colwidth\", 300)"
   ]
  },
  {
   "cell_type": "markdown",
   "metadata": {},
   "source": [
    "# Topic Modeling"
   ]
  },
  {
   "cell_type": "markdown",
   "metadata": {},
   "source": [
    "Ich habe 39 Tausend Tweets aus Twitter Accounts folgender Demokraten heruntergeladen.  Ich habe [GetOldTweets3](https://github.com/Mottl/GetOldTweets3/) benutzt, aktuell scheint es Probleme zu machen, deswegen verwenden wir meine alten Daten."
   ]
  },
  {
   "cell_type": "code",
   "execution_count": 50,
   "metadata": {},
   "outputs": [],
   "source": [
    "usernames = [\n",
    "    'joebiden', 'corybooker','petebuttigieg','juliancastro','kamalaharris',\n",
    "    'amyklobuchar','betoorourke','berniesanders','ewarren','andrewyang',\n",
    "    'michaelbennet','governorbullock','billdeblasio','johndelaney',\n",
    "    'tulsigabbard','waynemessam','timryan','joesestak','tomsteyer',\n",
    "    'marwilliamson','sengillibrand','hickenlooper','jayinslee',\n",
    "    'sethmoulton','ericswalwell'\n",
    "]"
   ]
  },
  {
   "cell_type": "markdown",
   "metadata": {},
   "source": [
    "# Schauen wir mal rein"
   ]
  },
  {
   "cell_type": "code",
   "execution_count": 5,
   "metadata": {},
   "outputs": [
    {
     "data": {
      "text/html": [
       "<div>\n",
       "<style scoped>\n",
       "    .dataframe tbody tr th:only-of-type {\n",
       "        vertical-align: middle;\n",
       "    }\n",
       "\n",
       "    .dataframe tbody tr th {\n",
       "        vertical-align: top;\n",
       "    }\n",
       "\n",
       "    .dataframe thead th {\n",
       "        text-align: right;\n",
       "    }\n",
       "</style>\n",
       "<table border=\"1\" class=\"dataframe\">\n",
       "  <thead>\n",
       "    <tr style=\"text-align: right;\">\n",
       "      <th></th>\n",
       "      <th>username</th>\n",
       "      <th>text</th>\n",
       "      <th>date</th>\n",
       "    </tr>\n",
       "  </thead>\n",
       "  <tbody>\n",
       "    <tr>\n",
       "      <th>27208</th>\n",
       "      <td>CoryBooker</td>\n",
       "      <td>This should be interesting ....</td>\n",
       "      <td>2019-01-27 12:55:44+00:00</td>\n",
       "    </tr>\n",
       "    <tr>\n",
       "      <th>19112</th>\n",
       "      <td>JayInslee</td>\n",
       "      <td>I said it at the march, and I’ll say it here, too. Let’s go build a clean energy future. Let’s go get ‘em.</td>\n",
       "      <td>2019-05-09 20:17:52+00:00</td>\n",
       "    </tr>\n",
       "    <tr>\n",
       "      <th>26981</th>\n",
       "      <td>CoryBooker</td>\n",
       "      <td>100% - we won’t give up the fight until expanded background checks becomes law. Grateful to my friend @ChrisMurphyCT for introducing this.</td>\n",
       "      <td>2019-03-20 22:57:05+00:00</td>\n",
       "    </tr>\n",
       "    <tr>\n",
       "      <th>26490</th>\n",
       "      <td>CoryBooker</td>\n",
       "      <td>I’m about to take the stage at the Iowa Hall of Fame celebration to talk about how we can unite to build a fairer, more just country. Watch live here: https://coryb.kr/iowahalloffame</td>\n",
       "      <td>2019-06-09 19:21:01+00:00</td>\n",
       "    </tr>\n",
       "    <tr>\n",
       "      <th>28140</th>\n",
       "      <td>MichaelBennet</td>\n",
       "      <td>In order for us to leave a better country for our kids and grandkids, we need a much better politics than we have now. We can’t accept politicians who are destroying the institutions that generations before us worked so hard to preserve.</td>\n",
       "      <td>2019-03-02 16:47:46+00:00</td>\n",
       "    </tr>\n",
       "  </tbody>\n",
       "</table>\n",
       "</div>"
      ],
      "text/plain": [
       "            username  \\\n",
       "27208     CoryBooker   \n",
       "19112      JayInslee   \n",
       "26981     CoryBooker   \n",
       "26490     CoryBooker   \n",
       "28140  MichaelBennet   \n",
       "\n",
       "                                                                                                                                                                                                                                                text  \\\n",
       "27208                                                                                                                                                                                                                This should be interesting ....   \n",
       "19112                                                                                                                                     I said it at the march, and I’ll say it here, too. Let’s go build a clean energy future. Let’s go get ‘em.   \n",
       "26981                                                                                                     100% - we won’t give up the fight until expanded background checks becomes law. Grateful to my friend @ChrisMurphyCT for introducing this.   \n",
       "26490                                                         I’m about to take the stage at the Iowa Hall of Fame celebration to talk about how we can unite to build a fairer, more just country. Watch live here: https://coryb.kr/iowahalloffame   \n",
       "28140  In order for us to leave a better country for our kids and grandkids, we need a much better politics than we have now. We can’t accept politicians who are destroying the institutions that generations before us worked so hard to preserve.   \n",
       "\n",
       "                            date  \n",
       "27208  2019-01-27 12:55:44+00:00  \n",
       "19112  2019-05-09 20:17:52+00:00  \n",
       "26981  2019-03-20 22:57:05+00:00  \n",
       "26490  2019-06-09 19:21:01+00:00  \n",
       "28140  2019-03-02 16:47:46+00:00  "
      ]
     },
     "execution_count": 5,
     "metadata": {},
     "output_type": "execute_result"
    }
   ],
   "source": [
    "# We don't need all of the columns, let's leave out a lot of them\n",
    "columns = ['username', 'text', 'date']\n",
    "\n",
    "df = pd.read_csv(\"data/tweets.csv\", usecols=columns)\n",
    "df.sample(5)"
   ]
  },
  {
   "cell_type": "markdown",
   "metadata": {},
   "source": [
    "Wie viele haben wir genau?"
   ]
  },
  {
   "cell_type": "code",
   "execution_count": 6,
   "metadata": {},
   "outputs": [
    {
     "data": {
      "text/plain": [
       "(38559, 3)"
      ]
     },
     "execution_count": 6,
     "metadata": {},
     "output_type": "execute_result"
    }
   ],
   "source": [
    "df.shape"
   ]
  },
  {
   "cell_type": "markdown",
   "metadata": {},
   "source": [
    "Wie viele von jedem Kandidaten?"
   ]
  },
  {
   "cell_type": "code",
   "execution_count": 7,
   "metadata": {},
   "outputs": [
    {
     "data": {
      "text/plain": [
       "AndrewYang         4425\n",
       "marwilliamson      2571\n",
       "ewarren            2570\n",
       "JayInslee          2120\n",
       "KamalaHarris       2110\n",
       "JohnDelaney        1913\n",
       "BernieSanders      1881\n",
       "GovernorBullock    1721\n",
       "ericswalwell       1705\n",
       "BetoORourke        1667\n",
       "SenGillibrand      1538\n",
       "TimRyan            1481\n",
       "amyklobuchar       1405\n",
       "CoryBooker         1315\n",
       "TomSteyer          1279\n",
       "sethmoulton        1239\n",
       "JulianCastro       1220\n",
       "Hickenlooper        959\n",
       "MichaelBennet       904\n",
       "TulsiGabbard        893\n",
       "PeteButtigieg       856\n",
       "JoeBiden            856\n",
       "WayneMessam         815\n",
       "JoeSestak           619\n",
       "BilldeBlasio        497\n",
       "Name: username, dtype: int64"
      ]
     },
     "execution_count": 7,
     "metadata": {},
     "output_type": "execute_result"
    }
   ],
   "source": [
    "df.username.value_counts()"
   ]
  },
  {
   "cell_type": "markdown",
   "metadata": {},
   "source": [
    "## Topic Modelling\n",
    "\n",
    "Wir werden versuchen, mithilfe des **Topic Modeling** eine Liste von Themen zu erstellen, um die es in jedem Tweet geht, sowie Wörter, die mit jedem Thema verknüpft sind. Warum machen wir das? Weil es eine Anwendung der Methoden ist die wir gerade kennengelernt haben :) \n",
    "\n",
    "Zuerst müssen wir unseren Text in Zahlen **vektorisieren**, die Scikit-Learn verstehen kann, und dann verwenden wir die Topic Modellierung, um die darin enthaltenen Themen zu finden.\n",
    "\n",
    "### Vektorisierung des Textes\n",
    "\n",
    "Wenn man eine Themenmodellierung durchführt, hängt die Art der Vektorisierung, die man verwendent, von der Art des Themenmodells ab, das man erstellen möchte. Für die Verwendung eines LDA-Themenmodells ist ein CountVectorizer erforderlich. \n",
    "\n",
    "Für jede andere Art von Themenmodell funktioniert am besten mit einem `TfidfVectorizer`. In LDA ist TF-IDF auf magische Weise integriert, sodass es den Unterschied zwischen niederfrequenten und hochfrequenten Wörtern versteht.\n",
    "\n",
    "Ich bin faul und es dauert lange, bis LDA ausgeführt wird - ausserdem ist es etwas komplizert. Daher werden wir LDA nicht verwenden, was bedeutet, dass wir einen `TfidfVectorizer` benötigen. \n",
    "\n",
    "Da ich Wörter wie \"Tomate\" und \"Tomaten\" und \"Tomaten\" kombiniert haben möchte, werde ich auch einen Stemmer verwenden. "
   ]
  },
  {
   "cell_type": "code",
   "execution_count": 51,
   "metadata": {},
   "outputs": [],
   "source": [
    "#!pip install pystemmer"
   ]
  },
  {
   "cell_type": "code",
   "execution_count": 52,
   "metadata": {},
   "outputs": [],
   "source": [
    "from sklearn.feature_extraction.text import TfidfVectorizer\n",
    "import Stemmer\n",
    "\n",
    "# Using pyStemmer because it's way faster than NLTK\n",
    "stemmer = Stemmer.Stemmer('en')\n",
    "\n",
    "# Based on TfidfVectorizer\n",
    "# Das hier müsst ihr nicht nachvollziehen können, im grunde bauen wir uns dadurch unseren eigenen Vectorizer\n",
    "class StemmedTfidfVectorizer(TfidfVectorizer):\n",
    "    def build_analyzer(self):\n",
    "        analyzer = super(StemmedTfidfVectorizer, self).build_analyzer()\n",
    "        return lambda doc: stemmer.stemWords([w for w in analyzer(doc)])"
   ]
  },
  {
   "cell_type": "markdown",
   "metadata": {},
   "source": [
    "Wir werden alle Wörter zählen, die mindestens einhundert Mal auftauchen. Wenn es in 40.000 Tweets nicht hundertmal erwähnt wird, ist das Wort wahrscheinlich nicht so wichtig."
   ]
  },
  {
   "cell_type": "code",
   "execution_count": 54,
   "metadata": {},
   "outputs": [
    {
     "name": "stdout",
     "output_type": "stream",
     "text": [
      "CPU times: user 2.1 s, sys: 28.7 ms, total: 2.12 s\n",
      "Wall time: 2.13 s\n"
     ]
    }
   ],
   "source": [
    "%%time\n",
    "vectorizer = StemmedTfidfVectorizer(stop_words='english',\n",
    "                                    min_df=100)\n",
    "\n",
    "matrix = vectorizer.fit_transform(df.text.str.replace(\"[^\\w ]\", \"\"))"
   ]
  },
  {
   "cell_type": "code",
   "execution_count": 12,
   "metadata": {},
   "outputs": [
    {
     "data": {
      "text/plain": [
       "(38559, 975)"
      ]
     },
     "execution_count": 12,
     "metadata": {},
     "output_type": "execute_result"
    }
   ],
   "source": [
    "matrix.shape # hier drin sind nur noch zahlen für jedes wort eine eindeutige zahl"
   ]
  },
  {
   "cell_type": "markdown",
   "metadata": {},
   "source": [
    "Wir haben nun die Wörter bis auf knapp tausend reduziert. Jetzt, da wir vektorisiert sind, können wir mit der Themenmodellierung fortfahren.\n",
    "Jetzt, da wir vektorisiert sind, können wir mit der Themenmodellierung fortfahren."
   ]
  },
  {
   "cell_type": "markdown",
   "metadata": {},
   "source": [
    "###  LSI for topic modeling\n",
    "\n",
    "Wann immer wir ein Themenmodell erstellen, haben wir die wichtige Frage: **Wie viele Themen?** Zu wenige ist es zu grob, zu viele ist es zu kleinteilig, es erfordert einiges an ausprobieren. Ich fand 17 nicht schlecht. "
   ]
  },
  {
   "cell_type": "code",
   "execution_count": 12,
   "metadata": {},
   "outputs": [
    {
     "name": "stdout",
     "output_type": "stream",
     "text": [
      "Topic #0: thank, have, leadership, appreci, come, soon, host, share, amaz, convers\n",
      "Topic #1: work, famili, worker, pay, american, year, countri, job, economi, america\n",
      "Topic #2: im, join, live, campaign, tune, run, talk, fight, tonight, iowa\n",
      "Topic #3: trump, presid, donald, administr, immigr, mr, run, elect, state, unit\n",
      "Topic #4: climat, chang, crisi, defeat, plan, threat, ourclimatemo, action, issu, big\n",
      "Topic #5: right, fight, women, vote, protect, stand, human, reproduct, equal, abort\n",
      "Topic #6: gun, violenc, end, epidem, communiti, live, action, safeti, nra, check\n",
      "Topic #7: great, iowa, meet, day, talk, morn, today, enjoy, state, convers\n",
      "Topic #8: care, health, afford, plan, medicar, access, mental, insur, univers, million\n",
      "Topic #9: make, let, debat, sure, help, just, stage, happen, donat, donor\n",
      "Topic #10: peopl, american, power, polit, govern, campaign, money, want, young, dont\n",
      "Topic #11: need, dont, help, countri, real, donor, that, america, talk, secur\n",
      "Topic #12: love, happi, day, hate, one, today, life, celebr, world, birthday\n",
      "Topic #13: time, spend, long, year, past, come, congress, impeach, start, act\n",
      "Topic #14: look, forward, like, soon, see, join, come, good, way, hope\n",
      "Topic #15: new, hampshir, plan, york, citi, green, town, event, soon, state\n",
      "Topic #16: support, appreci, team, donat, proud, grate, help, yes, campaign, debat\n",
      "\n",
      "CPU times: user 4.8 s, sys: 304 ms, total: 5.1 s\n",
      "Wall time: 5.77 s\n"
     ]
    }
   ],
   "source": [
    "%%time\n",
    "from sklearn.decomposition import NMF\n",
    "\n",
    "# Tell the model to find the topics\n",
    "model = NMF(n_components=17)\n",
    "model.fit(matrix)\n",
    "\n",
    "# Print the top 10 words per category\n",
    "n_words = 10\n",
    "feature_names = vectorizer.get_feature_names()\n",
    "\n",
    "for topic_idx, topic in enumerate(model.components_):\n",
    "    message = \"Topic #%d: \" % topic_idx\n",
    "    message += \", \".join([feature_names[i]\n",
    "                         for i in topic.argsort()[:-n_words - 1:-1]])\n",
    "    print(message)\n",
    "print()"
   ]
  },
  {
   "cell_type": "markdown",
   "metadata": {},
   "source": [
    "Diese sehen tatsächlich ganz gut  aus - Wertschätzung, Arbeit und Familie, Klimawandel, \"reproductive rights\", Iowa, Waffengewalt, Gesundheitswesen, Spender und politische Macht und vielleicht ein bisschen Green New Deal."
   ]
  },
  {
   "cell_type": "markdown",
   "metadata": {},
   "source": [
    "## Themenmodelle als Inspiration\n",
    "\n",
    "Nachdem wir unsere Themenmodelle haben, lautet die große Frage: **Was machen wir mit ihnen?** Normalerweise verwenden wir Themenmodelle, um Dingen automatisch Kategorien zuzuweisen - \"Hier geht es um das Gesundheitswesen\", \"Hier geht es um Waffengewalt\". \"etc - aber hier sieht es etwas anders aus.\n",
    "\n",
    "Wir können nun **Schlüsselwörter** nutzen, um jedem Tweet eine Kategorie (oder Kategorien) zuzuweisen. Statt jetzt automatisch mit Topic modeling dem Tweet eine Kategorie zuzuweisen, lassen wir uns stattdessen nur durch die gefundenen Topic inspirieren und nutzen unsere eigenen Keywords. Das funktioniert für kleine Tweets besser als Topic Modeling - das funktioniert gut bei längeren Texten. "
   ]
  },
  {
   "cell_type": "markdown",
   "metadata": {},
   "source": [
    "# Topics mit Keywords selbst machen"
   ]
  },
  {
   "cell_type": "markdown",
   "metadata": {},
   "source": [
    "Wir erstellen eine kurze Liste von Wörtern , die mit dem Thema verbunden sind. Unser Ansatz wird etwas umständlich sein, aber er ist ziemlich flexibel für Dinge, die wir in Zukunft vielleicht tun möchten."
   ]
  },
  {
   "cell_type": "code",
   "execution_count": 16,
   "metadata": {},
   "outputs": [
    {
     "data": {
      "text/plain": [
       "{'immigration': ['immigration', 'border', 'wall'],\n",
       " 'education': ['students', 'education', 'teacher'],\n",
       " 'foreign_policy': ['foreign policy', 'peace'],\n",
       " 'climate_change': ['climate', 'emissions', 'carbon'],\n",
       " 'economy': ['economy', 'tariffs', 'taxes'],\n",
       " 'military': ['veterans', 'troops', 'war'],\n",
       " 'jobs': ['jobs', 'unemployment', 'wages'],\n",
       " 'drugs': ['drugs', 'opioid'],\n",
       " 'health': ['health', 'insurance', 'medicare'],\n",
       " 'repro_rights': ['reproductive', 'abortion'],\n",
       " 'gun_control': ['gun']}"
      ]
     },
     "execution_count": 16,
     "metadata": {},
     "output_type": "execute_result"
    }
   ],
   "source": [
    "# We're only using single words (no \"green new deal\") because the\n",
    "# stemmer won't work with multiple words\n",
    "\n",
    "categories = {\n",
    "    'immigration': ['immigration', 'border', 'wall'],\n",
    "    'education': ['students', 'education', 'teacher'],\n",
    "    'foreign_policy': ['foreign policy', 'peace'],\n",
    "    'climate_change': ['climate', 'emissions', 'carbon'],\n",
    "    'economy': ['economy', 'tariffs', 'taxes'],\n",
    "    'military': ['veterans', 'troops', 'war'],\n",
    "    'jobs': ['jobs', 'unemployment', 'wages'],\n",
    "    'drugs': ['drugs', 'opioid'],\n",
    "    'health': ['health', 'insurance', 'medicare'],\n",
    "    'repro_rights': ['reproductive', 'abortion'],\n",
    "    'gun_control': ['gun'],\n",
    "}\n",
    "categories"
   ]
  },
  {
   "cell_type": "markdown",
   "metadata": {},
   "source": [
    "Wir werden diese in einen schönen langen Dataframe aus Wörtern und Kategorienamen verwandeln. \n",
    "Wir werden auch die Keywords stemmen, damit sie etwas breiter übereinstimmen: `immigrant`, `immigrants`, and `immigration` sollten alle als  `immigr` gestemmt werden."
   ]
  },
  {
   "cell_type": "code",
   "execution_count": 18,
   "metadata": {},
   "outputs": [
    {
     "data": {
      "text/html": [
       "<div>\n",
       "<style scoped>\n",
       "    .dataframe tbody tr th:only-of-type {\n",
       "        vertical-align: middle;\n",
       "    }\n",
       "\n",
       "    .dataframe tbody tr th {\n",
       "        vertical-align: top;\n",
       "    }\n",
       "\n",
       "    .dataframe thead th {\n",
       "        text-align: right;\n",
       "    }\n",
       "</style>\n",
       "<table border=\"1\" class=\"dataframe\">\n",
       "  <thead>\n",
       "    <tr style=\"text-align: right;\">\n",
       "      <th></th>\n",
       "      <th>category</th>\n",
       "      <th>term</th>\n",
       "    </tr>\n",
       "  </thead>\n",
       "  <tbody>\n",
       "    <tr>\n",
       "      <th>0</th>\n",
       "      <td>immigration</td>\n",
       "      <td>immigr</td>\n",
       "    </tr>\n",
       "    <tr>\n",
       "      <th>1</th>\n",
       "      <td>immigration</td>\n",
       "      <td>border</td>\n",
       "    </tr>\n",
       "    <tr>\n",
       "      <th>2</th>\n",
       "      <td>immigration</td>\n",
       "      <td>wall</td>\n",
       "    </tr>\n",
       "    <tr>\n",
       "      <th>0</th>\n",
       "      <td>education</td>\n",
       "      <td>student</td>\n",
       "    </tr>\n",
       "    <tr>\n",
       "      <th>1</th>\n",
       "      <td>education</td>\n",
       "      <td>educ</td>\n",
       "    </tr>\n",
       "    <tr>\n",
       "      <th>2</th>\n",
       "      <td>education</td>\n",
       "      <td>teacher</td>\n",
       "    </tr>\n",
       "    <tr>\n",
       "      <th>0</th>\n",
       "      <td>foreign_policy</td>\n",
       "      <td>foreign polici</td>\n",
       "    </tr>\n",
       "    <tr>\n",
       "      <th>1</th>\n",
       "      <td>foreign_policy</td>\n",
       "      <td>peac</td>\n",
       "    </tr>\n",
       "    <tr>\n",
       "      <th>0</th>\n",
       "      <td>climate_change</td>\n",
       "      <td>climat</td>\n",
       "    </tr>\n",
       "    <tr>\n",
       "      <th>1</th>\n",
       "      <td>climate_change</td>\n",
       "      <td>emiss</td>\n",
       "    </tr>\n",
       "    <tr>\n",
       "      <th>2</th>\n",
       "      <td>climate_change</td>\n",
       "      <td>carbon</td>\n",
       "    </tr>\n",
       "    <tr>\n",
       "      <th>0</th>\n",
       "      <td>economy</td>\n",
       "      <td>economi</td>\n",
       "    </tr>\n",
       "    <tr>\n",
       "      <th>1</th>\n",
       "      <td>economy</td>\n",
       "      <td>tariff</td>\n",
       "    </tr>\n",
       "    <tr>\n",
       "      <th>2</th>\n",
       "      <td>economy</td>\n",
       "      <td>tax</td>\n",
       "    </tr>\n",
       "    <tr>\n",
       "      <th>0</th>\n",
       "      <td>military</td>\n",
       "      <td>veteran</td>\n",
       "    </tr>\n",
       "    <tr>\n",
       "      <th>1</th>\n",
       "      <td>military</td>\n",
       "      <td>troop</td>\n",
       "    </tr>\n",
       "    <tr>\n",
       "      <th>2</th>\n",
       "      <td>military</td>\n",
       "      <td>war</td>\n",
       "    </tr>\n",
       "    <tr>\n",
       "      <th>0</th>\n",
       "      <td>jobs</td>\n",
       "      <td>job</td>\n",
       "    </tr>\n",
       "    <tr>\n",
       "      <th>1</th>\n",
       "      <td>jobs</td>\n",
       "      <td>unemploy</td>\n",
       "    </tr>\n",
       "    <tr>\n",
       "      <th>2</th>\n",
       "      <td>jobs</td>\n",
       "      <td>wage</td>\n",
       "    </tr>\n",
       "    <tr>\n",
       "      <th>0</th>\n",
       "      <td>drugs</td>\n",
       "      <td>drug</td>\n",
       "    </tr>\n",
       "    <tr>\n",
       "      <th>1</th>\n",
       "      <td>drugs</td>\n",
       "      <td>opioid</td>\n",
       "    </tr>\n",
       "    <tr>\n",
       "      <th>0</th>\n",
       "      <td>health</td>\n",
       "      <td>health</td>\n",
       "    </tr>\n",
       "    <tr>\n",
       "      <th>1</th>\n",
       "      <td>health</td>\n",
       "      <td>insur</td>\n",
       "    </tr>\n",
       "    <tr>\n",
       "      <th>2</th>\n",
       "      <td>health</td>\n",
       "      <td>medicar</td>\n",
       "    </tr>\n",
       "    <tr>\n",
       "      <th>0</th>\n",
       "      <td>repro_rights</td>\n",
       "      <td>reproduct</td>\n",
       "    </tr>\n",
       "    <tr>\n",
       "      <th>1</th>\n",
       "      <td>repro_rights</td>\n",
       "      <td>abort</td>\n",
       "    </tr>\n",
       "    <tr>\n",
       "      <th>0</th>\n",
       "      <td>gun_control</td>\n",
       "      <td>gun</td>\n",
       "    </tr>\n",
       "  </tbody>\n",
       "</table>\n",
       "</div>"
      ],
      "text/plain": [
       "         category            term\n",
       "0     immigration          immigr\n",
       "1     immigration          border\n",
       "2     immigration            wall\n",
       "0       education         student\n",
       "1       education            educ\n",
       "2       education         teacher\n",
       "0  foreign_policy  foreign polici\n",
       "1  foreign_policy            peac\n",
       "0  climate_change          climat\n",
       "1  climate_change           emiss\n",
       "2  climate_change          carbon\n",
       "0         economy         economi\n",
       "1         economy          tariff\n",
       "2         economy             tax\n",
       "0        military         veteran\n",
       "1        military           troop\n",
       "2        military             war\n",
       "0            jobs             job\n",
       "1            jobs        unemploy\n",
       "2            jobs            wage\n",
       "0           drugs            drug\n",
       "1           drugs          opioid\n",
       "0          health          health\n",
       "1          health           insur\n",
       "2          health         medicar\n",
       "0    repro_rights       reproduct\n",
       "1    repro_rights           abort\n",
       "0     gun_control             gun"
      ]
     },
     "execution_count": 18,
     "metadata": {},
     "output_type": "execute_result"
    }
   ],
   "source": [
    "import Stemmer\n",
    "\n",
    "stemmer = Stemmer.Stemmer('en')\n",
    "\n",
    "dfs = []\n",
    "for key,values in categories.items():\n",
    "    words = pd.DataFrame({'category': key, 'term': stemmer.stemWords(values)})\n",
    "    dfs.append(words)\n",
    "\n",
    "terms_df = pd.concat(dfs)\n",
    "\n",
    "terms_df"
   ]
  },
  {
   "cell_type": "markdown",
   "metadata": {},
   "source": [
    "## Custom Vectorizer"
   ]
  },
  {
   "cell_type": "markdown",
   "metadata": {},
   "source": [
    "Jetzt werden wir unseren eignen Vektorisierer machen: **Wir werden nur Wörter in unserer Liste zählen** und wir werden nur Ja / Nein (1/0) dh. existiert bzw. existiert nicht für jedes der Wörter aufschreiben."
   ]
  },
  {
   "cell_type": "code",
   "execution_count": 57,
   "metadata": {},
   "outputs": [],
   "source": [
    "from sklearn.feature_extraction.text import CountVectorizer\n",
    "import Stemmer\n",
    "\n",
    "# Using pyStemmer because it's way faster than NLTK\n",
    "stemmer = Stemmer.Stemmer('en')\n",
    "\n",
    "# Based on CountVectorizer\n",
    "# Auch hier wieder nicht relevant warum wir das so komisch machen\n",
    "class StemmedCountVectorizer(CountVectorizer):\n",
    "    def build_analyzer(self):\n",
    "        analyzer = super(StemmedCountVectorizer, self).build_analyzer()\n",
    "        return lambda doc: stemmer.stemWords([w for w in analyzer(doc)])"
   ]
  },
  {
   "cell_type": "code",
   "execution_count": 58,
   "metadata": {},
   "outputs": [
    {
     "data": {
      "text/html": [
       "<div>\n",
       "<style scoped>\n",
       "    .dataframe tbody tr th:only-of-type {\n",
       "        vertical-align: middle;\n",
       "    }\n",
       "\n",
       "    .dataframe tbody tr th {\n",
       "        vertical-align: top;\n",
       "    }\n",
       "\n",
       "    .dataframe thead th {\n",
       "        text-align: right;\n",
       "    }\n",
       "</style>\n",
       "<table border=\"1\" class=\"dataframe\">\n",
       "  <thead>\n",
       "    <tr style=\"text-align: right;\">\n",
       "      <th></th>\n",
       "      <th>immigr</th>\n",
       "      <th>border</th>\n",
       "      <th>wall</th>\n",
       "      <th>student</th>\n",
       "      <th>educ</th>\n",
       "      <th>teacher</th>\n",
       "      <th>foreign polici</th>\n",
       "      <th>peac</th>\n",
       "      <th>climat</th>\n",
       "      <th>emiss</th>\n",
       "      <th>carbon</th>\n",
       "      <th>economi</th>\n",
       "      <th>tariff</th>\n",
       "      <th>tax</th>\n",
       "      <th>veteran</th>\n",
       "      <th>troop</th>\n",
       "      <th>war</th>\n",
       "      <th>job</th>\n",
       "      <th>unemploy</th>\n",
       "      <th>wage</th>\n",
       "      <th>drug</th>\n",
       "      <th>opioid</th>\n",
       "      <th>health</th>\n",
       "      <th>insur</th>\n",
       "      <th>medicar</th>\n",
       "      <th>reproduct</th>\n",
       "      <th>abort</th>\n",
       "      <th>gun</th>\n",
       "    </tr>\n",
       "  </thead>\n",
       "  <tbody>\n",
       "    <tr>\n",
       "      <th>0</th>\n",
       "      <td>0</td>\n",
       "      <td>0</td>\n",
       "      <td>0</td>\n",
       "      <td>0</td>\n",
       "      <td>0</td>\n",
       "      <td>0</td>\n",
       "      <td>0</td>\n",
       "      <td>0</td>\n",
       "      <td>0</td>\n",
       "      <td>0</td>\n",
       "      <td>0</td>\n",
       "      <td>0</td>\n",
       "      <td>0</td>\n",
       "      <td>0</td>\n",
       "      <td>0</td>\n",
       "      <td>0</td>\n",
       "      <td>0</td>\n",
       "      <td>0</td>\n",
       "      <td>0</td>\n",
       "      <td>0</td>\n",
       "      <td>0</td>\n",
       "      <td>0</td>\n",
       "      <td>0</td>\n",
       "      <td>0</td>\n",
       "      <td>0</td>\n",
       "      <td>0</td>\n",
       "      <td>0</td>\n",
       "      <td>0</td>\n",
       "    </tr>\n",
       "    <tr>\n",
       "      <th>1</th>\n",
       "      <td>0</td>\n",
       "      <td>0</td>\n",
       "      <td>0</td>\n",
       "      <td>0</td>\n",
       "      <td>0</td>\n",
       "      <td>0</td>\n",
       "      <td>0</td>\n",
       "      <td>0</td>\n",
       "      <td>0</td>\n",
       "      <td>0</td>\n",
       "      <td>0</td>\n",
       "      <td>0</td>\n",
       "      <td>0</td>\n",
       "      <td>0</td>\n",
       "      <td>0</td>\n",
       "      <td>0</td>\n",
       "      <td>0</td>\n",
       "      <td>0</td>\n",
       "      <td>0</td>\n",
       "      <td>0</td>\n",
       "      <td>0</td>\n",
       "      <td>0</td>\n",
       "      <td>0</td>\n",
       "      <td>0</td>\n",
       "      <td>0</td>\n",
       "      <td>0</td>\n",
       "      <td>0</td>\n",
       "      <td>0</td>\n",
       "    </tr>\n",
       "    <tr>\n",
       "      <th>2</th>\n",
       "      <td>0</td>\n",
       "      <td>0</td>\n",
       "      <td>0</td>\n",
       "      <td>0</td>\n",
       "      <td>0</td>\n",
       "      <td>0</td>\n",
       "      <td>0</td>\n",
       "      <td>0</td>\n",
       "      <td>0</td>\n",
       "      <td>0</td>\n",
       "      <td>0</td>\n",
       "      <td>0</td>\n",
       "      <td>0</td>\n",
       "      <td>0</td>\n",
       "      <td>0</td>\n",
       "      <td>0</td>\n",
       "      <td>0</td>\n",
       "      <td>0</td>\n",
       "      <td>0</td>\n",
       "      <td>0</td>\n",
       "      <td>0</td>\n",
       "      <td>0</td>\n",
       "      <td>0</td>\n",
       "      <td>0</td>\n",
       "      <td>0</td>\n",
       "      <td>0</td>\n",
       "      <td>0</td>\n",
       "      <td>0</td>\n",
       "    </tr>\n",
       "    <tr>\n",
       "      <th>3</th>\n",
       "      <td>0</td>\n",
       "      <td>0</td>\n",
       "      <td>0</td>\n",
       "      <td>0</td>\n",
       "      <td>0</td>\n",
       "      <td>1</td>\n",
       "      <td>0</td>\n",
       "      <td>0</td>\n",
       "      <td>0</td>\n",
       "      <td>0</td>\n",
       "      <td>0</td>\n",
       "      <td>0</td>\n",
       "      <td>0</td>\n",
       "      <td>0</td>\n",
       "      <td>0</td>\n",
       "      <td>0</td>\n",
       "      <td>0</td>\n",
       "      <td>0</td>\n",
       "      <td>0</td>\n",
       "      <td>0</td>\n",
       "      <td>0</td>\n",
       "      <td>0</td>\n",
       "      <td>0</td>\n",
       "      <td>0</td>\n",
       "      <td>0</td>\n",
       "      <td>0</td>\n",
       "      <td>0</td>\n",
       "      <td>0</td>\n",
       "    </tr>\n",
       "    <tr>\n",
       "      <th>4</th>\n",
       "      <td>0</td>\n",
       "      <td>0</td>\n",
       "      <td>0</td>\n",
       "      <td>0</td>\n",
       "      <td>0</td>\n",
       "      <td>0</td>\n",
       "      <td>0</td>\n",
       "      <td>0</td>\n",
       "      <td>0</td>\n",
       "      <td>0</td>\n",
       "      <td>0</td>\n",
       "      <td>0</td>\n",
       "      <td>0</td>\n",
       "      <td>0</td>\n",
       "      <td>0</td>\n",
       "      <td>0</td>\n",
       "      <td>0</td>\n",
       "      <td>0</td>\n",
       "      <td>0</td>\n",
       "      <td>0</td>\n",
       "      <td>0</td>\n",
       "      <td>0</td>\n",
       "      <td>0</td>\n",
       "      <td>0</td>\n",
       "      <td>0</td>\n",
       "      <td>0</td>\n",
       "      <td>0</td>\n",
       "      <td>0</td>\n",
       "    </tr>\n",
       "  </tbody>\n",
       "</table>\n",
       "</div>"
      ],
      "text/plain": [
       "   immigr  border  wall  student  educ  teacher  foreign polici  peac  climat  \\\n",
       "0       0       0     0        0     0        0               0     0       0   \n",
       "1       0       0     0        0     0        0               0     0       0   \n",
       "2       0       0     0        0     0        0               0     0       0   \n",
       "3       0       0     0        0     0        1               0     0       0   \n",
       "4       0       0     0        0     0        0               0     0       0   \n",
       "\n",
       "   emiss  carbon  economi  tariff  tax  veteran  troop  war  job  unemploy  \\\n",
       "0      0       0        0       0    0        0      0    0    0         0   \n",
       "1      0       0        0       0    0        0      0    0    0         0   \n",
       "2      0       0        0       0    0        0      0    0    0         0   \n",
       "3      0       0        0       0    0        0      0    0    0         0   \n",
       "4      0       0        0       0    0        0      0    0    0         0   \n",
       "\n",
       "   wage  drug  opioid  health  insur  medicar  reproduct  abort  gun  \n",
       "0     0     0       0       0      0        0          0      0    0  \n",
       "1     0     0       0       0      0        0          0      0    0  \n",
       "2     0     0       0       0      0        0          0      0    0  \n",
       "3     0     0       0       0      0        0          0      0    0  \n",
       "4     0     0       0       0      0        0          0      0    0  "
      ]
     },
     "execution_count": 58,
     "metadata": {},
     "output_type": "execute_result"
    }
   ],
   "source": [
    "# Take the 'term' column from our list of terms\n",
    "term_list = list(terms_df.term)\n",
    "\n",
    "# binary=True macht nur 0/1\n",
    "# vocabulary= das Vokabular das wir tracken wollen\n",
    "vectorizer = StemmedCountVectorizer(binary=True, vocabulary=term_list)\n",
    "matrix = vectorizer.fit_transform(df.text)\n",
    "words_df = pd.DataFrame(matrix.toarray(),columns=vectorizer.get_feature_names())\n",
    "words_df.head()"
   ]
  },
  {
   "cell_type": "markdown",
   "metadata": {},
   "source": [
    "Von den ersten fünf Tweets scheint nur der vierte in eine Kategorie zu passen - er enthält das Wort **teacher**, also werden wir es in die Bildungskategorie (education) aufnehmen.\n",
    "\n",
    "Wir werden jede Kategorie durchlaufen und dann prüfen, ob einer der Begriffe für diese Kategorie eine \"1\" enthält. In diesem Fall weisen wir dieser Zeile eine \"1\" für die Kategorie zu. Wenn nicht, geben wir eine 0.\n",
    "\n",
    "Zum Beispiel hat Zeile 3 nicht \"students\" oder \"education\", sondern \"teacher\". Als Ergebnis erhält es eine \"1\" für die Bildungskategorie."
   ]
  },
  {
   "cell_type": "code",
   "execution_count": 59,
   "metadata": {},
   "outputs": [
    {
     "name": "stdout",
     "output_type": "stream",
     "text": [
      "Looking at climate_change with terms ['climat', 'emiss', 'carbon']\n",
      "Looking at drugs with terms ['drug', 'opioid']\n",
      "Looking at economy with terms ['economi', 'tariff', 'tax']\n",
      "Looking at education with terms ['student', 'educ', 'teacher']\n",
      "Looking at foreign_policy with terms ['foreign polici', 'peac']\n",
      "Looking at gun_control with terms ['gun']\n",
      "Looking at health with terms ['health', 'insur', 'medicar']\n",
      "Looking at immigration with terms ['immigr', 'border', 'wall']\n",
      "Looking at jobs with terms ['job', 'unemploy', 'wage']\n",
      "Looking at military with terms ['veteran', 'troop', 'war']\n",
      "Looking at repro_rights with terms ['reproduct', 'abort']\n"
     ]
    }
   ],
   "source": [
    "# Group the terms by category, then loop through each category\n",
    "for category_name, rows in terms_df.groupby('category'):\n",
    "    # Wandle die begriffe für eine Kategorie in eine einfache liste um z.B. ['student', 'educ', 'teacher']\n",
    "    terms = list(rows['term'])\n",
    "    print(f\"Looking at {category_name} with terms {terms}\")\n",
    "\n",
    "    # words_df[terms] holt alle columns für 'student', 'educ', und 'teacher'\n",
    "    # .any(axis=1) schaut ob eine davon eine 1 ist , weisst dann True/False zu\n",
    "    # .astype(int) wandelt True/False in 1/0 um\n",
    "    # df[category_name] = weist dann den wert df['education'] zu\n",
    "    df[category_name] = words_df[terms].any(axis=1).astype(int)"
   ]
  },
  {
   "cell_type": "code",
   "execution_count": 60,
   "metadata": {},
   "outputs": [
    {
     "data": {
      "text/html": [
       "<div>\n",
       "<style scoped>\n",
       "    .dataframe tbody tr th:only-of-type {\n",
       "        vertical-align: middle;\n",
       "    }\n",
       "\n",
       "    .dataframe tbody tr th {\n",
       "        vertical-align: top;\n",
       "    }\n",
       "\n",
       "    .dataframe thead th {\n",
       "        text-align: right;\n",
       "    }\n",
       "</style>\n",
       "<table border=\"1\" class=\"dataframe\">\n",
       "  <thead>\n",
       "    <tr style=\"text-align: right;\">\n",
       "      <th></th>\n",
       "      <th>username</th>\n",
       "      <th>text</th>\n",
       "      <th>date</th>\n",
       "      <th>climate_change</th>\n",
       "      <th>drugs</th>\n",
       "      <th>economy</th>\n",
       "      <th>education</th>\n",
       "      <th>foreign_policy</th>\n",
       "      <th>gun_control</th>\n",
       "      <th>health</th>\n",
       "      <th>immigration</th>\n",
       "      <th>jobs</th>\n",
       "      <th>military</th>\n",
       "      <th>repro_rights</th>\n",
       "    </tr>\n",
       "  </thead>\n",
       "  <tbody>\n",
       "    <tr>\n",
       "      <th>0</th>\n",
       "      <td>KamalaHarris</td>\n",
       "      <td>Keeping the Midland and Odessa community and the victims in my thoughts and prayers. Grateful to first responders who ran into harm's way. I’m sick of this. America is sick of this. We need to act.</td>\n",
       "      <td>2019-08-31 23:22:40+00:00</td>\n",
       "      <td>0</td>\n",
       "      <td>0</td>\n",
       "      <td>0</td>\n",
       "      <td>0</td>\n",
       "      <td>0</td>\n",
       "      <td>0</td>\n",
       "      <td>0</td>\n",
       "      <td>0</td>\n",
       "      <td>0</td>\n",
       "      <td>0</td>\n",
       "      <td>0</td>\n",
       "    </tr>\n",
       "    <tr>\n",
       "      <th>1</th>\n",
       "      <td>KamalaHarris</td>\n",
       "      <td>Today is the last day to give before our critical August fundraising deadline. Together, we’re building something special — and every dollar makes a difference to reaching more voters across the country. Chip in now.</td>\n",
       "      <td>2019-08-31 21:35:00+00:00</td>\n",
       "      <td>0</td>\n",
       "      <td>0</td>\n",
       "      <td>0</td>\n",
       "      <td>0</td>\n",
       "      <td>0</td>\n",
       "      <td>0</td>\n",
       "      <td>0</td>\n",
       "      <td>0</td>\n",
       "      <td>0</td>\n",
       "      <td>0</td>\n",
       "      <td>0</td>\n",
       "    </tr>\n",
       "    <tr>\n",
       "      <th>2</th>\n",
       "      <td>KamalaHarris</td>\n",
       "      <td>Brazil's President Bolsonaro’s fanning the flames of the Amazon fires and weakening of regulations protecting Indigenous lands has put people there in harm’s way.</td>\n",
       "      <td>2019-08-31 19:34:00+00:00</td>\n",
       "      <td>0</td>\n",
       "      <td>0</td>\n",
       "      <td>0</td>\n",
       "      <td>0</td>\n",
       "      <td>0</td>\n",
       "      <td>0</td>\n",
       "      <td>0</td>\n",
       "      <td>0</td>\n",
       "      <td>0</td>\n",
       "      <td>0</td>\n",
       "      <td>0</td>\n",
       "    </tr>\n",
       "    <tr>\n",
       "      <th>3</th>\n",
       "      <td>KamalaHarris</td>\n",
       "      <td>Investing in our nation’s teachers shouldn’t be an afterthought.</td>\n",
       "      <td>2019-08-31 17:42:00+00:00</td>\n",
       "      <td>0</td>\n",
       "      <td>0</td>\n",
       "      <td>0</td>\n",
       "      <td>1</td>\n",
       "      <td>0</td>\n",
       "      <td>0</td>\n",
       "      <td>0</td>\n",
       "      <td>0</td>\n",
       "      <td>0</td>\n",
       "      <td>0</td>\n",
       "      <td>0</td>\n",
       "    </tr>\n",
       "  </tbody>\n",
       "</table>\n",
       "</div>"
      ],
      "text/plain": [
       "       username  \\\n",
       "0  KamalaHarris   \n",
       "1  KamalaHarris   \n",
       "2  KamalaHarris   \n",
       "3  KamalaHarris   \n",
       "\n",
       "                                                                                                                                                                                                                       text  \\\n",
       "0                     Keeping the Midland and Odessa community and the victims in my thoughts and prayers. Grateful to first responders who ran into harm's way. I’m sick of this. America is sick of this. We need to act.   \n",
       "1  Today is the last day to give before our critical August fundraising deadline. Together, we’re building something special — and every dollar makes a difference to reaching more voters across the country. Chip in now.   \n",
       "2                                                        Brazil's President Bolsonaro’s fanning the flames of the Amazon fires and weakening of regulations protecting Indigenous lands has put people there in harm’s way.   \n",
       "3                                                                                                                                                          Investing in our nation’s teachers shouldn’t be an afterthought.   \n",
       "\n",
       "                       date  climate_change  drugs  economy  education  \\\n",
       "0 2019-08-31 23:22:40+00:00               0      0        0          0   \n",
       "1 2019-08-31 21:35:00+00:00               0      0        0          0   \n",
       "2 2019-08-31 19:34:00+00:00               0      0        0          0   \n",
       "3 2019-08-31 17:42:00+00:00               0      0        0          1   \n",
       "\n",
       "   foreign_policy  gun_control  health  immigration  jobs  military  \\\n",
       "0               0            0       0            0     0         0   \n",
       "1               0            0       0            0     0         0   \n",
       "2               0            0       0            0     0         0   \n",
       "3               0            0       0            0     0         0   \n",
       "\n",
       "   repro_rights  \n",
       "0             0  \n",
       "1             0  \n",
       "2             0  \n",
       "3             0  "
      ]
     },
     "execution_count": 60,
     "metadata": {},
     "output_type": "execute_result"
    }
   ],
   "source": [
    "df.head(4)"
   ]
  },
  {
   "cell_type": "markdown",
   "metadata": {},
   "source": [
    "## Nach Person gruppieren\n",
    "\n",
    "Nachdem wir nun eine Reihe von Tweets haben, die mit verschiedenen Kategorien gekennzeichnet sind, können wir beginnen, sie zu zählen und zu klassifizieren. Zum Beispiel können wir sehen, wer am meisten über Jobs twittert. "
   ]
  },
  {
   "cell_type": "code",
   "execution_count": 25,
   "metadata": {},
   "outputs": [
    {
     "data": {
      "text/plain": [
       "username\n",
       "BernieSanders      218\n",
       "AndrewYang         132\n",
       "ewarren            122\n",
       "JohnDelaney        118\n",
       "JayInslee          113\n",
       "KamalaHarris       113\n",
       "TimRyan             82\n",
       "GovernorBullock     75\n",
       "BetoORourke         63\n",
       "Hickenlooper        60\n",
       "marwilliamson       59\n",
       "SenGillibrand       52\n",
       "CoryBooker          51\n",
       "WayneMessam         41\n",
       "JoeBiden            41\n",
       "TomSteyer           40\n",
       "amyklobuchar        39\n",
       "sethmoulton         38\n",
       "BilldeBlasio        31\n",
       "JulianCastro        30\n",
       "PeteButtigieg       29\n",
       "TulsiGabbard        27\n",
       "MichaelBennet       26\n",
       "ericswalwell        19\n",
       "JoeSestak           15\n",
       "Name: jobs, dtype: int64"
      ]
     },
     "execution_count": 25,
     "metadata": {},
     "output_type": "execute_result"
    }
   ],
   "source": [
    "df.groupby('username').jobs.sum().sort_values(ascending=False)"
   ]
  },
  {
   "cell_type": "markdown",
   "metadata": {},
   "source": [
    "# Nach allen Themen gruppieren\n",
    "\n",
    "Da diese 0 und 1 unsere einzigen numerischen Spalten sind, können wir den Dataframe einfach auffordern, nach Benutzernamen zu gruppieren und jede Kategorie zu addieren."
   ]
  },
  {
   "cell_type": "code",
   "execution_count": 61,
   "metadata": {},
   "outputs": [
    {
     "data": {
      "text/html": [
       "<div>\n",
       "<style scoped>\n",
       "    .dataframe tbody tr th:only-of-type {\n",
       "        vertical-align: middle;\n",
       "    }\n",
       "\n",
       "    .dataframe tbody tr th {\n",
       "        vertical-align: top;\n",
       "    }\n",
       "\n",
       "    .dataframe thead th {\n",
       "        text-align: right;\n",
       "    }\n",
       "</style>\n",
       "<table border=\"1\" class=\"dataframe\">\n",
       "  <thead>\n",
       "    <tr style=\"text-align: right;\">\n",
       "      <th></th>\n",
       "      <th>climate_change</th>\n",
       "      <th>drugs</th>\n",
       "      <th>economy</th>\n",
       "      <th>education</th>\n",
       "      <th>foreign_policy</th>\n",
       "      <th>gun_control</th>\n",
       "      <th>health</th>\n",
       "      <th>immigration</th>\n",
       "      <th>jobs</th>\n",
       "      <th>military</th>\n",
       "      <th>repro_rights</th>\n",
       "    </tr>\n",
       "    <tr>\n",
       "      <th>username</th>\n",
       "      <th></th>\n",
       "      <th></th>\n",
       "      <th></th>\n",
       "      <th></th>\n",
       "      <th></th>\n",
       "      <th></th>\n",
       "      <th></th>\n",
       "      <th></th>\n",
       "      <th></th>\n",
       "      <th></th>\n",
       "      <th></th>\n",
       "    </tr>\n",
       "  </thead>\n",
       "  <tbody>\n",
       "    <tr>\n",
       "      <th>AndrewYang</th>\n",
       "      <td>41</td>\n",
       "      <td>20</td>\n",
       "      <td>142</td>\n",
       "      <td>65</td>\n",
       "      <td>2</td>\n",
       "      <td>21</td>\n",
       "      <td>51</td>\n",
       "      <td>27</td>\n",
       "      <td>132</td>\n",
       "      <td>38</td>\n",
       "      <td>5</td>\n",
       "    </tr>\n",
       "    <tr>\n",
       "      <th>BernieSanders</th>\n",
       "      <td>87</td>\n",
       "      <td>72</td>\n",
       "      <td>111</td>\n",
       "      <td>146</td>\n",
       "      <td>16</td>\n",
       "      <td>38</td>\n",
       "      <td>321</td>\n",
       "      <td>123</td>\n",
       "      <td>218</td>\n",
       "      <td>73</td>\n",
       "      <td>36</td>\n",
       "    </tr>\n",
       "    <tr>\n",
       "      <th>BetoORourke</th>\n",
       "      <td>86</td>\n",
       "      <td>23</td>\n",
       "      <td>57</td>\n",
       "      <td>146</td>\n",
       "      <td>9</td>\n",
       "      <td>83</td>\n",
       "      <td>126</td>\n",
       "      <td>165</td>\n",
       "      <td>63</td>\n",
       "      <td>94</td>\n",
       "      <td>24</td>\n",
       "    </tr>\n",
       "    <tr>\n",
       "      <th>BilldeBlasio</th>\n",
       "      <td>10</td>\n",
       "      <td>1</td>\n",
       "      <td>18</td>\n",
       "      <td>13</td>\n",
       "      <td>1</td>\n",
       "      <td>11</td>\n",
       "      <td>29</td>\n",
       "      <td>14</td>\n",
       "      <td>31</td>\n",
       "      <td>8</td>\n",
       "      <td>4</td>\n",
       "    </tr>\n",
       "    <tr>\n",
       "      <th>CoryBooker</th>\n",
       "      <td>18</td>\n",
       "      <td>37</td>\n",
       "      <td>26</td>\n",
       "      <td>39</td>\n",
       "      <td>4</td>\n",
       "      <td>108</td>\n",
       "      <td>62</td>\n",
       "      <td>49</td>\n",
       "      <td>51</td>\n",
       "      <td>33</td>\n",
       "      <td>33</td>\n",
       "    </tr>\n",
       "    <tr>\n",
       "      <th>GovernorBullock</th>\n",
       "      <td>62</td>\n",
       "      <td>19</td>\n",
       "      <td>59</td>\n",
       "      <td>63</td>\n",
       "      <td>2</td>\n",
       "      <td>30</td>\n",
       "      <td>34</td>\n",
       "      <td>32</td>\n",
       "      <td>75</td>\n",
       "      <td>32</td>\n",
       "      <td>3</td>\n",
       "    </tr>\n",
       "    <tr>\n",
       "      <th>Hickenlooper</th>\n",
       "      <td>46</td>\n",
       "      <td>9</td>\n",
       "      <td>70</td>\n",
       "      <td>20</td>\n",
       "      <td>7</td>\n",
       "      <td>72</td>\n",
       "      <td>43</td>\n",
       "      <td>24</td>\n",
       "      <td>60</td>\n",
       "      <td>23</td>\n",
       "      <td>15</td>\n",
       "    </tr>\n",
       "    <tr>\n",
       "      <th>JayInslee</th>\n",
       "      <td>747</td>\n",
       "      <td>4</td>\n",
       "      <td>121</td>\n",
       "      <td>53</td>\n",
       "      <td>3</td>\n",
       "      <td>41</td>\n",
       "      <td>64</td>\n",
       "      <td>52</td>\n",
       "      <td>113</td>\n",
       "      <td>28</td>\n",
       "      <td>53</td>\n",
       "    </tr>\n",
       "    <tr>\n",
       "      <th>JoeBiden</th>\n",
       "      <td>40</td>\n",
       "      <td>7</td>\n",
       "      <td>48</td>\n",
       "      <td>48</td>\n",
       "      <td>16</td>\n",
       "      <td>37</td>\n",
       "      <td>72</td>\n",
       "      <td>37</td>\n",
       "      <td>41</td>\n",
       "      <td>20</td>\n",
       "      <td>0</td>\n",
       "    </tr>\n",
       "    <tr>\n",
       "      <th>JoeSestak</th>\n",
       "      <td>32</td>\n",
       "      <td>6</td>\n",
       "      <td>29</td>\n",
       "      <td>16</td>\n",
       "      <td>9</td>\n",
       "      <td>1</td>\n",
       "      <td>21</td>\n",
       "      <td>22</td>\n",
       "      <td>15</td>\n",
       "      <td>30</td>\n",
       "      <td>7</td>\n",
       "    </tr>\n",
       "    <tr>\n",
       "      <th>JohnDelaney</th>\n",
       "      <td>130</td>\n",
       "      <td>43</td>\n",
       "      <td>152</td>\n",
       "      <td>64</td>\n",
       "      <td>3</td>\n",
       "      <td>14</td>\n",
       "      <td>152</td>\n",
       "      <td>58</td>\n",
       "      <td>118</td>\n",
       "      <td>37</td>\n",
       "      <td>6</td>\n",
       "    </tr>\n",
       "    <tr>\n",
       "      <th>JulianCastro</th>\n",
       "      <td>25</td>\n",
       "      <td>2</td>\n",
       "      <td>20</td>\n",
       "      <td>55</td>\n",
       "      <td>4</td>\n",
       "      <td>28</td>\n",
       "      <td>37</td>\n",
       "      <td>139</td>\n",
       "      <td>30</td>\n",
       "      <td>14</td>\n",
       "      <td>24</td>\n",
       "    </tr>\n",
       "    <tr>\n",
       "      <th>KamalaHarris</th>\n",
       "      <td>65</td>\n",
       "      <td>31</td>\n",
       "      <td>88</td>\n",
       "      <td>200</td>\n",
       "      <td>8</td>\n",
       "      <td>147</td>\n",
       "      <td>208</td>\n",
       "      <td>94</td>\n",
       "      <td>113</td>\n",
       "      <td>23</td>\n",
       "      <td>54</td>\n",
       "    </tr>\n",
       "    <tr>\n",
       "      <th>MichaelBennet</th>\n",
       "      <td>54</td>\n",
       "      <td>11</td>\n",
       "      <td>58</td>\n",
       "      <td>69</td>\n",
       "      <td>0</td>\n",
       "      <td>19</td>\n",
       "      <td>124</td>\n",
       "      <td>29</td>\n",
       "      <td>26</td>\n",
       "      <td>15</td>\n",
       "      <td>3</td>\n",
       "    </tr>\n",
       "    <tr>\n",
       "      <th>PeteButtigieg</th>\n",
       "      <td>24</td>\n",
       "      <td>2</td>\n",
       "      <td>24</td>\n",
       "      <td>27</td>\n",
       "      <td>6</td>\n",
       "      <td>21</td>\n",
       "      <td>35</td>\n",
       "      <td>11</td>\n",
       "      <td>29</td>\n",
       "      <td>29</td>\n",
       "      <td>13</td>\n",
       "    </tr>\n",
       "    <tr>\n",
       "      <th>SenGillibrand</th>\n",
       "      <td>54</td>\n",
       "      <td>19</td>\n",
       "      <td>54</td>\n",
       "      <td>51</td>\n",
       "      <td>8</td>\n",
       "      <td>62</td>\n",
       "      <td>127</td>\n",
       "      <td>57</td>\n",
       "      <td>52</td>\n",
       "      <td>23</td>\n",
       "      <td>111</td>\n",
       "    </tr>\n",
       "    <tr>\n",
       "      <th>TimRyan</th>\n",
       "      <td>42</td>\n",
       "      <td>18</td>\n",
       "      <td>92</td>\n",
       "      <td>103</td>\n",
       "      <td>7</td>\n",
       "      <td>32</td>\n",
       "      <td>126</td>\n",
       "      <td>18</td>\n",
       "      <td>82</td>\n",
       "      <td>30</td>\n",
       "      <td>13</td>\n",
       "    </tr>\n",
       "    <tr>\n",
       "      <th>TomSteyer</th>\n",
       "      <td>117</td>\n",
       "      <td>2</td>\n",
       "      <td>67</td>\n",
       "      <td>26</td>\n",
       "      <td>3</td>\n",
       "      <td>27</td>\n",
       "      <td>17</td>\n",
       "      <td>55</td>\n",
       "      <td>40</td>\n",
       "      <td>18</td>\n",
       "      <td>6</td>\n",
       "    </tr>\n",
       "    <tr>\n",
       "      <th>TulsiGabbard</th>\n",
       "      <td>15</td>\n",
       "      <td>14</td>\n",
       "      <td>27</td>\n",
       "      <td>18</td>\n",
       "      <td>39</td>\n",
       "      <td>1</td>\n",
       "      <td>22</td>\n",
       "      <td>16</td>\n",
       "      <td>27</td>\n",
       "      <td>160</td>\n",
       "      <td>1</td>\n",
       "    </tr>\n",
       "    <tr>\n",
       "      <th>WayneMessam</th>\n",
       "      <td>16</td>\n",
       "      <td>1</td>\n",
       "      <td>40</td>\n",
       "      <td>80</td>\n",
       "      <td>6</td>\n",
       "      <td>27</td>\n",
       "      <td>13</td>\n",
       "      <td>35</td>\n",
       "      <td>41</td>\n",
       "      <td>4</td>\n",
       "      <td>2</td>\n",
       "    </tr>\n",
       "    <tr>\n",
       "      <th>amyklobuchar</th>\n",
       "      <td>45</td>\n",
       "      <td>56</td>\n",
       "      <td>47</td>\n",
       "      <td>41</td>\n",
       "      <td>3</td>\n",
       "      <td>59</td>\n",
       "      <td>82</td>\n",
       "      <td>31</td>\n",
       "      <td>39</td>\n",
       "      <td>18</td>\n",
       "      <td>8</td>\n",
       "    </tr>\n",
       "    <tr>\n",
       "      <th>ericswalwell</th>\n",
       "      <td>12</td>\n",
       "      <td>6</td>\n",
       "      <td>26</td>\n",
       "      <td>58</td>\n",
       "      <td>7</td>\n",
       "      <td>182</td>\n",
       "      <td>37</td>\n",
       "      <td>36</td>\n",
       "      <td>19</td>\n",
       "      <td>35</td>\n",
       "      <td>12</td>\n",
       "    </tr>\n",
       "    <tr>\n",
       "      <th>ewarren</th>\n",
       "      <td>79</td>\n",
       "      <td>44</td>\n",
       "      <td>151</td>\n",
       "      <td>195</td>\n",
       "      <td>1</td>\n",
       "      <td>65</td>\n",
       "      <td>95</td>\n",
       "      <td>131</td>\n",
       "      <td>122</td>\n",
       "      <td>29</td>\n",
       "      <td>43</td>\n",
       "    </tr>\n",
       "    <tr>\n",
       "      <th>marwilliamson</th>\n",
       "      <td>23</td>\n",
       "      <td>13</td>\n",
       "      <td>63</td>\n",
       "      <td>53</td>\n",
       "      <td>87</td>\n",
       "      <td>18</td>\n",
       "      <td>46</td>\n",
       "      <td>37</td>\n",
       "      <td>59</td>\n",
       "      <td>79</td>\n",
       "      <td>5</td>\n",
       "    </tr>\n",
       "    <tr>\n",
       "      <th>sethmoulton</th>\n",
       "      <td>43</td>\n",
       "      <td>16</td>\n",
       "      <td>40</td>\n",
       "      <td>24</td>\n",
       "      <td>9</td>\n",
       "      <td>34</td>\n",
       "      <td>60</td>\n",
       "      <td>49</td>\n",
       "      <td>38</td>\n",
       "      <td>110</td>\n",
       "      <td>5</td>\n",
       "    </tr>\n",
       "  </tbody>\n",
       "</table>\n",
       "</div>"
      ],
      "text/plain": [
       "                 climate_change  drugs  economy  education  foreign_policy  \\\n",
       "username                                                                     \n",
       "AndrewYang                   41     20      142         65               2   \n",
       "BernieSanders                87     72      111        146              16   \n",
       "BetoORourke                  86     23       57        146               9   \n",
       "BilldeBlasio                 10      1       18         13               1   \n",
       "CoryBooker                   18     37       26         39               4   \n",
       "GovernorBullock              62     19       59         63               2   \n",
       "Hickenlooper                 46      9       70         20               7   \n",
       "JayInslee                   747      4      121         53               3   \n",
       "JoeBiden                     40      7       48         48              16   \n",
       "JoeSestak                    32      6       29         16               9   \n",
       "JohnDelaney                 130     43      152         64               3   \n",
       "JulianCastro                 25      2       20         55               4   \n",
       "KamalaHarris                 65     31       88        200               8   \n",
       "MichaelBennet                54     11       58         69               0   \n",
       "PeteButtigieg                24      2       24         27               6   \n",
       "SenGillibrand                54     19       54         51               8   \n",
       "TimRyan                      42     18       92        103               7   \n",
       "TomSteyer                   117      2       67         26               3   \n",
       "TulsiGabbard                 15     14       27         18              39   \n",
       "WayneMessam                  16      1       40         80               6   \n",
       "amyklobuchar                 45     56       47         41               3   \n",
       "ericswalwell                 12      6       26         58               7   \n",
       "ewarren                      79     44      151        195               1   \n",
       "marwilliamson                23     13       63         53              87   \n",
       "sethmoulton                  43     16       40         24               9   \n",
       "\n",
       "                 gun_control  health  immigration  jobs  military  \\\n",
       "username                                                            \n",
       "AndrewYang                21      51           27   132        38   \n",
       "BernieSanders             38     321          123   218        73   \n",
       "BetoORourke               83     126          165    63        94   \n",
       "BilldeBlasio              11      29           14    31         8   \n",
       "CoryBooker               108      62           49    51        33   \n",
       "GovernorBullock           30      34           32    75        32   \n",
       "Hickenlooper              72      43           24    60        23   \n",
       "JayInslee                 41      64           52   113        28   \n",
       "JoeBiden                  37      72           37    41        20   \n",
       "JoeSestak                  1      21           22    15        30   \n",
       "JohnDelaney               14     152           58   118        37   \n",
       "JulianCastro              28      37          139    30        14   \n",
       "KamalaHarris             147     208           94   113        23   \n",
       "MichaelBennet             19     124           29    26        15   \n",
       "PeteButtigieg             21      35           11    29        29   \n",
       "SenGillibrand             62     127           57    52        23   \n",
       "TimRyan                   32     126           18    82        30   \n",
       "TomSteyer                 27      17           55    40        18   \n",
       "TulsiGabbard               1      22           16    27       160   \n",
       "WayneMessam               27      13           35    41         4   \n",
       "amyklobuchar              59      82           31    39        18   \n",
       "ericswalwell             182      37           36    19        35   \n",
       "ewarren                   65      95          131   122        29   \n",
       "marwilliamson             18      46           37    59        79   \n",
       "sethmoulton               34      60           49    38       110   \n",
       "\n",
       "                 repro_rights  \n",
       "username                       \n",
       "AndrewYang                  5  \n",
       "BernieSanders              36  \n",
       "BetoORourke                24  \n",
       "BilldeBlasio                4  \n",
       "CoryBooker                 33  \n",
       "GovernorBullock             3  \n",
       "Hickenlooper               15  \n",
       "JayInslee                  53  \n",
       "JoeBiden                    0  \n",
       "JoeSestak                   7  \n",
       "JohnDelaney                 6  \n",
       "JulianCastro               24  \n",
       "KamalaHarris               54  \n",
       "MichaelBennet               3  \n",
       "PeteButtigieg              13  \n",
       "SenGillibrand             111  \n",
       "TimRyan                    13  \n",
       "TomSteyer                   6  \n",
       "TulsiGabbard                1  \n",
       "WayneMessam                 2  \n",
       "amyklobuchar                8  \n",
       "ericswalwell               12  \n",
       "ewarren                    43  \n",
       "marwilliamson               5  \n",
       "sethmoulton                 5  "
      ]
     },
     "execution_count": 61,
     "metadata": {},
     "output_type": "execute_result"
    }
   ],
   "source": [
    "overall = df.groupby('username').sum()\n",
    "overall"
   ]
  },
  {
   "cell_type": "markdown",
   "metadata": {},
   "source": [
    "Das Problem mit dieser Ansicht ist, dass einige Kandidaten viel twittern und einige Kandidaten viel weniger. Wenn wir es grafisch darstellen, gibt es keinen guten Überblick darüber, welche Themen die Kampagnen der Kandidaten wertschätzen."
   ]
  },
  {
   "cell_type": "code",
   "execution_count": 27,
   "metadata": {},
   "outputs": [
    {
     "data": {
      "text/plain": [
       "<matplotlib.legend.Legend at 0x12d82a3a0>"
      ]
     },
     "execution_count": 27,
     "metadata": {},
     "output_type": "execute_result"
    },
    {
     "data": {
      "image/png": "[encoded data removed]",
      "text/plain": [
       "<Figure size 936x432 with 1 Axes>"
      ]
     },
     "metadata": {
      "needs_background": "light"
     },
     "output_type": "display_data"
    }
   ],
   "source": [
    "ax = overall.plot(kind='bar', stacked=True, figsize=(13,6), width=0.9)\n",
    "\n",
    "# Move the legend off of the chart\n",
    "ax.legend(loc=(1.04,0))"
   ]
  },
  {
   "cell_type": "markdown",
   "metadata": {},
   "source": [
    "Was wir brauchen ist eine Ansicht, die auf Prozentsätzen basiert. Dazu müssen wir jede Spalte durch die Summe der Zählungen in dieser Spalte teilen. Wegen \"Pandas-Logik\" müssen wir \".div\" anstelle von \"/\" verwenden. Das Teilungszeichen gibt euch möglicherweise keinen Fehler, aber es gibt definitiv falsche Ergebnisse!"
   ]
  },
  {
   "cell_type": "code",
   "execution_count": 28,
   "metadata": {},
   "outputs": [
    {
     "data": {
      "text/html": [
       "<div>\n",
       "<style scoped>\n",
       "    .dataframe tbody tr th:only-of-type {\n",
       "        vertical-align: middle;\n",
       "    }\n",
       "\n",
       "    .dataframe tbody tr th {\n",
       "        vertical-align: top;\n",
       "    }\n",
       "\n",
       "    .dataframe thead th {\n",
       "        text-align: right;\n",
       "    }\n",
       "</style>\n",
       "<table border=\"1\" class=\"dataframe\">\n",
       "  <thead>\n",
       "    <tr style=\"text-align: right;\">\n",
       "      <th></th>\n",
       "      <th>climate_change</th>\n",
       "      <th>drugs</th>\n",
       "      <th>economy</th>\n",
       "      <th>education</th>\n",
       "      <th>foreign_policy</th>\n",
       "      <th>gun_control</th>\n",
       "      <th>health</th>\n",
       "      <th>immigration</th>\n",
       "      <th>jobs</th>\n",
       "      <th>military</th>\n",
       "      <th>repro_rights</th>\n",
       "    </tr>\n",
       "    <tr>\n",
       "      <th>username</th>\n",
       "      <th></th>\n",
       "      <th></th>\n",
       "      <th></th>\n",
       "      <th></th>\n",
       "      <th></th>\n",
       "      <th></th>\n",
       "      <th></th>\n",
       "      <th></th>\n",
       "      <th></th>\n",
       "      <th></th>\n",
       "      <th></th>\n",
       "    </tr>\n",
       "  </thead>\n",
       "  <tbody>\n",
       "    <tr>\n",
       "      <th>AndrewYang</th>\n",
       "      <td>0.075368</td>\n",
       "      <td>0.036765</td>\n",
       "      <td>0.261029</td>\n",
       "      <td>0.119485</td>\n",
       "      <td>0.003676</td>\n",
       "      <td>0.038603</td>\n",
       "      <td>0.093750</td>\n",
       "      <td>0.049632</td>\n",
       "      <td>0.242647</td>\n",
       "      <td>0.069853</td>\n",
       "      <td>0.009191</td>\n",
       "    </tr>\n",
       "    <tr>\n",
       "      <th>BernieSanders</th>\n",
       "      <td>0.070105</td>\n",
       "      <td>0.058018</td>\n",
       "      <td>0.089444</td>\n",
       "      <td>0.117647</td>\n",
       "      <td>0.012893</td>\n",
       "      <td>0.030620</td>\n",
       "      <td>0.258662</td>\n",
       "      <td>0.099114</td>\n",
       "      <td>0.175665</td>\n",
       "      <td>0.058824</td>\n",
       "      <td>0.029009</td>\n",
       "    </tr>\n",
       "    <tr>\n",
       "      <th>BetoORourke</th>\n",
       "      <td>0.098174</td>\n",
       "      <td>0.026256</td>\n",
       "      <td>0.065068</td>\n",
       "      <td>0.166667</td>\n",
       "      <td>0.010274</td>\n",
       "      <td>0.094749</td>\n",
       "      <td>0.143836</td>\n",
       "      <td>0.188356</td>\n",
       "      <td>0.071918</td>\n",
       "      <td>0.107306</td>\n",
       "      <td>0.027397</td>\n",
       "    </tr>\n",
       "    <tr>\n",
       "      <th>BilldeBlasio</th>\n",
       "      <td>0.071429</td>\n",
       "      <td>0.007143</td>\n",
       "      <td>0.128571</td>\n",
       "      <td>0.092857</td>\n",
       "      <td>0.007143</td>\n",
       "      <td>0.078571</td>\n",
       "      <td>0.207143</td>\n",
       "      <td>0.100000</td>\n",
       "      <td>0.221429</td>\n",
       "      <td>0.057143</td>\n",
       "      <td>0.028571</td>\n",
       "    </tr>\n",
       "    <tr>\n",
       "      <th>CoryBooker</th>\n",
       "      <td>0.039130</td>\n",
       "      <td>0.080435</td>\n",
       "      <td>0.056522</td>\n",
       "      <td>0.084783</td>\n",
       "      <td>0.008696</td>\n",
       "      <td>0.234783</td>\n",
       "      <td>0.134783</td>\n",
       "      <td>0.106522</td>\n",
       "      <td>0.110870</td>\n",
       "      <td>0.071739</td>\n",
       "      <td>0.071739</td>\n",
       "    </tr>\n",
       "    <tr>\n",
       "      <th>GovernorBullock</th>\n",
       "      <td>0.150852</td>\n",
       "      <td>0.046229</td>\n",
       "      <td>0.143552</td>\n",
       "      <td>0.153285</td>\n",
       "      <td>0.004866</td>\n",
       "      <td>0.072993</td>\n",
       "      <td>0.082725</td>\n",
       "      <td>0.077859</td>\n",
       "      <td>0.182482</td>\n",
       "      <td>0.077859</td>\n",
       "      <td>0.007299</td>\n",
       "    </tr>\n",
       "    <tr>\n",
       "      <th>Hickenlooper</th>\n",
       "      <td>0.118252</td>\n",
       "      <td>0.023136</td>\n",
       "      <td>0.179949</td>\n",
       "      <td>0.051414</td>\n",
       "      <td>0.017995</td>\n",
       "      <td>0.185090</td>\n",
       "      <td>0.110540</td>\n",
       "      <td>0.061697</td>\n",
       "      <td>0.154242</td>\n",
       "      <td>0.059126</td>\n",
       "      <td>0.038560</td>\n",
       "    </tr>\n",
       "    <tr>\n",
       "      <th>JayInslee</th>\n",
       "      <td>0.584050</td>\n",
       "      <td>0.003127</td>\n",
       "      <td>0.094605</td>\n",
       "      <td>0.041439</td>\n",
       "      <td>0.002346</td>\n",
       "      <td>0.032056</td>\n",
       "      <td>0.050039</td>\n",
       "      <td>0.040657</td>\n",
       "      <td>0.088350</td>\n",
       "      <td>0.021892</td>\n",
       "      <td>0.041439</td>\n",
       "    </tr>\n",
       "    <tr>\n",
       "      <th>JoeBiden</th>\n",
       "      <td>0.109290</td>\n",
       "      <td>0.019126</td>\n",
       "      <td>0.131148</td>\n",
       "      <td>0.131148</td>\n",
       "      <td>0.043716</td>\n",
       "      <td>0.101093</td>\n",
       "      <td>0.196721</td>\n",
       "      <td>0.101093</td>\n",
       "      <td>0.112022</td>\n",
       "      <td>0.054645</td>\n",
       "      <td>0.000000</td>\n",
       "    </tr>\n",
       "    <tr>\n",
       "      <th>JoeSestak</th>\n",
       "      <td>0.170213</td>\n",
       "      <td>0.031915</td>\n",
       "      <td>0.154255</td>\n",
       "      <td>0.085106</td>\n",
       "      <td>0.047872</td>\n",
       "      <td>0.005319</td>\n",
       "      <td>0.111702</td>\n",
       "      <td>0.117021</td>\n",
       "      <td>0.079787</td>\n",
       "      <td>0.159574</td>\n",
       "      <td>0.037234</td>\n",
       "    </tr>\n",
       "    <tr>\n",
       "      <th>JohnDelaney</th>\n",
       "      <td>0.167310</td>\n",
       "      <td>0.055341</td>\n",
       "      <td>0.195624</td>\n",
       "      <td>0.082368</td>\n",
       "      <td>0.003861</td>\n",
       "      <td>0.018018</td>\n",
       "      <td>0.195624</td>\n",
       "      <td>0.074646</td>\n",
       "      <td>0.151866</td>\n",
       "      <td>0.047619</td>\n",
       "      <td>0.007722</td>\n",
       "    </tr>\n",
       "    <tr>\n",
       "      <th>JulianCastro</th>\n",
       "      <td>0.066138</td>\n",
       "      <td>0.005291</td>\n",
       "      <td>0.052910</td>\n",
       "      <td>0.145503</td>\n",
       "      <td>0.010582</td>\n",
       "      <td>0.074074</td>\n",
       "      <td>0.097884</td>\n",
       "      <td>0.367725</td>\n",
       "      <td>0.079365</td>\n",
       "      <td>0.037037</td>\n",
       "      <td>0.063492</td>\n",
       "    </tr>\n",
       "    <tr>\n",
       "      <th>KamalaHarris</th>\n",
       "      <td>0.063046</td>\n",
       "      <td>0.030068</td>\n",
       "      <td>0.085354</td>\n",
       "      <td>0.193986</td>\n",
       "      <td>0.007759</td>\n",
       "      <td>0.142580</td>\n",
       "      <td>0.201746</td>\n",
       "      <td>0.091174</td>\n",
       "      <td>0.109602</td>\n",
       "      <td>0.022308</td>\n",
       "      <td>0.052376</td>\n",
       "    </tr>\n",
       "    <tr>\n",
       "      <th>MichaelBennet</th>\n",
       "      <td>0.132353</td>\n",
       "      <td>0.026961</td>\n",
       "      <td>0.142157</td>\n",
       "      <td>0.169118</td>\n",
       "      <td>0.000000</td>\n",
       "      <td>0.046569</td>\n",
       "      <td>0.303922</td>\n",
       "      <td>0.071078</td>\n",
       "      <td>0.063725</td>\n",
       "      <td>0.036765</td>\n",
       "      <td>0.007353</td>\n",
       "    </tr>\n",
       "    <tr>\n",
       "      <th>PeteButtigieg</th>\n",
       "      <td>0.108597</td>\n",
       "      <td>0.009050</td>\n",
       "      <td>0.108597</td>\n",
       "      <td>0.122172</td>\n",
       "      <td>0.027149</td>\n",
       "      <td>0.095023</td>\n",
       "      <td>0.158371</td>\n",
       "      <td>0.049774</td>\n",
       "      <td>0.131222</td>\n",
       "      <td>0.131222</td>\n",
       "      <td>0.058824</td>\n",
       "    </tr>\n",
       "    <tr>\n",
       "      <th>SenGillibrand</th>\n",
       "      <td>0.087379</td>\n",
       "      <td>0.030744</td>\n",
       "      <td>0.087379</td>\n",
       "      <td>0.082524</td>\n",
       "      <td>0.012945</td>\n",
       "      <td>0.100324</td>\n",
       "      <td>0.205502</td>\n",
       "      <td>0.092233</td>\n",
       "      <td>0.084142</td>\n",
       "      <td>0.037217</td>\n",
       "      <td>0.179612</td>\n",
       "    </tr>\n",
       "    <tr>\n",
       "      <th>TimRyan</th>\n",
       "      <td>0.074600</td>\n",
       "      <td>0.031972</td>\n",
       "      <td>0.163410</td>\n",
       "      <td>0.182948</td>\n",
       "      <td>0.012433</td>\n",
       "      <td>0.056838</td>\n",
       "      <td>0.223801</td>\n",
       "      <td>0.031972</td>\n",
       "      <td>0.145648</td>\n",
       "      <td>0.053286</td>\n",
       "      <td>0.023091</td>\n",
       "    </tr>\n",
       "    <tr>\n",
       "      <th>TomSteyer</th>\n",
       "      <td>0.309524</td>\n",
       "      <td>0.005291</td>\n",
       "      <td>0.177249</td>\n",
       "      <td>0.068783</td>\n",
       "      <td>0.007937</td>\n",
       "      <td>0.071429</td>\n",
       "      <td>0.044974</td>\n",
       "      <td>0.145503</td>\n",
       "      <td>0.105820</td>\n",
       "      <td>0.047619</td>\n",
       "      <td>0.015873</td>\n",
       "    </tr>\n",
       "    <tr>\n",
       "      <th>TulsiGabbard</th>\n",
       "      <td>0.044118</td>\n",
       "      <td>0.041176</td>\n",
       "      <td>0.079412</td>\n",
       "      <td>0.052941</td>\n",
       "      <td>0.114706</td>\n",
       "      <td>0.002941</td>\n",
       "      <td>0.064706</td>\n",
       "      <td>0.047059</td>\n",
       "      <td>0.079412</td>\n",
       "      <td>0.470588</td>\n",
       "      <td>0.002941</td>\n",
       "    </tr>\n",
       "    <tr>\n",
       "      <th>WayneMessam</th>\n",
       "      <td>0.060377</td>\n",
       "      <td>0.003774</td>\n",
       "      <td>0.150943</td>\n",
       "      <td>0.301887</td>\n",
       "      <td>0.022642</td>\n",
       "      <td>0.101887</td>\n",
       "      <td>0.049057</td>\n",
       "      <td>0.132075</td>\n",
       "      <td>0.154717</td>\n",
       "      <td>0.015094</td>\n",
       "      <td>0.007547</td>\n",
       "    </tr>\n",
       "    <tr>\n",
       "      <th>amyklobuchar</th>\n",
       "      <td>0.104895</td>\n",
       "      <td>0.130536</td>\n",
       "      <td>0.109557</td>\n",
       "      <td>0.095571</td>\n",
       "      <td>0.006993</td>\n",
       "      <td>0.137529</td>\n",
       "      <td>0.191142</td>\n",
       "      <td>0.072261</td>\n",
       "      <td>0.090909</td>\n",
       "      <td>0.041958</td>\n",
       "      <td>0.018648</td>\n",
       "    </tr>\n",
       "    <tr>\n",
       "      <th>ericswalwell</th>\n",
       "      <td>0.027907</td>\n",
       "      <td>0.013953</td>\n",
       "      <td>0.060465</td>\n",
       "      <td>0.134884</td>\n",
       "      <td>0.016279</td>\n",
       "      <td>0.423256</td>\n",
       "      <td>0.086047</td>\n",
       "      <td>0.083721</td>\n",
       "      <td>0.044186</td>\n",
       "      <td>0.081395</td>\n",
       "      <td>0.027907</td>\n",
       "    </tr>\n",
       "    <tr>\n",
       "      <th>ewarren</th>\n",
       "      <td>0.082723</td>\n",
       "      <td>0.046073</td>\n",
       "      <td>0.158115</td>\n",
       "      <td>0.204188</td>\n",
       "      <td>0.001047</td>\n",
       "      <td>0.068063</td>\n",
       "      <td>0.099476</td>\n",
       "      <td>0.137173</td>\n",
       "      <td>0.127749</td>\n",
       "      <td>0.030366</td>\n",
       "      <td>0.045026</td>\n",
       "    </tr>\n",
       "    <tr>\n",
       "      <th>marwilliamson</th>\n",
       "      <td>0.047619</td>\n",
       "      <td>0.026915</td>\n",
       "      <td>0.130435</td>\n",
       "      <td>0.109731</td>\n",
       "      <td>0.180124</td>\n",
       "      <td>0.037267</td>\n",
       "      <td>0.095238</td>\n",
       "      <td>0.076605</td>\n",
       "      <td>0.122153</td>\n",
       "      <td>0.163561</td>\n",
       "      <td>0.010352</td>\n",
       "    </tr>\n",
       "    <tr>\n",
       "      <th>sethmoulton</th>\n",
       "      <td>0.100467</td>\n",
       "      <td>0.037383</td>\n",
       "      <td>0.093458</td>\n",
       "      <td>0.056075</td>\n",
       "      <td>0.021028</td>\n",
       "      <td>0.079439</td>\n",
       "      <td>0.140187</td>\n",
       "      <td>0.114486</td>\n",
       "      <td>0.088785</td>\n",
       "      <td>0.257009</td>\n",
       "      <td>0.011682</td>\n",
       "    </tr>\n",
       "  </tbody>\n",
       "</table>\n",
       "</div>"
      ],
      "text/plain": [
       "                 climate_change     drugs   economy  education  \\\n",
       "username                                                         \n",
       "AndrewYang             0.075368  0.036765  0.261029   0.119485   \n",
       "BernieSanders          0.070105  0.058018  0.089444   0.117647   \n",
       "BetoORourke            0.098174  0.026256  0.065068   0.166667   \n",
       "BilldeBlasio           0.071429  0.007143  0.128571   0.092857   \n",
       "CoryBooker             0.039130  0.080435  0.056522   0.084783   \n",
       "GovernorBullock        0.150852  0.046229  0.143552   0.153285   \n",
       "Hickenlooper           0.118252  0.023136  0.179949   0.051414   \n",
       "JayInslee              0.584050  0.003127  0.094605   0.041439   \n",
       "JoeBiden               0.109290  0.019126  0.131148   0.131148   \n",
       "JoeSestak              0.170213  0.031915  0.154255   0.085106   \n",
       "JohnDelaney            0.167310  0.055341  0.195624   0.082368   \n",
       "JulianCastro           0.066138  0.005291  0.052910   0.145503   \n",
       "KamalaHarris           0.063046  0.030068  0.085354   0.193986   \n",
       "MichaelBennet          0.132353  0.026961  0.142157   0.169118   \n",
       "PeteButtigieg          0.108597  0.009050  0.108597   0.122172   \n",
       "SenGillibrand          0.087379  0.030744  0.087379   0.082524   \n",
       "TimRyan                0.074600  0.031972  0.163410   0.182948   \n",
       "TomSteyer              0.309524  0.005291  0.177249   0.068783   \n",
       "TulsiGabbard           0.044118  0.041176  0.079412   0.052941   \n",
       "WayneMessam            0.060377  0.003774  0.150943   0.301887   \n",
       "amyklobuchar           0.104895  0.130536  0.109557   0.095571   \n",
       "ericswalwell           0.027907  0.013953  0.060465   0.134884   \n",
       "ewarren                0.082723  0.046073  0.158115   0.204188   \n",
       "marwilliamson          0.047619  0.026915  0.130435   0.109731   \n",
       "sethmoulton            0.100467  0.037383  0.093458   0.056075   \n",
       "\n",
       "                 foreign_policy  gun_control    health  immigration      jobs  \\\n",
       "username                                                                        \n",
       "AndrewYang             0.003676     0.038603  0.093750     0.049632  0.242647   \n",
       "BernieSanders          0.012893     0.030620  0.258662     0.099114  0.175665   \n",
       "BetoORourke            0.010274     0.094749  0.143836     0.188356  0.071918   \n",
       "BilldeBlasio           0.007143     0.078571  0.207143     0.100000  0.221429   \n",
       "CoryBooker             0.008696     0.234783  0.134783     0.106522  0.110870   \n",
       "GovernorBullock        0.004866     0.072993  0.082725     0.077859  0.182482   \n",
       "Hickenlooper           0.017995     0.185090  0.110540     0.061697  0.154242   \n",
       "JayInslee              0.002346     0.032056  0.050039     0.040657  0.088350   \n",
       "JoeBiden               0.043716     0.101093  0.196721     0.101093  0.112022   \n",
       "JoeSestak              0.047872     0.005319  0.111702     0.117021  0.079787   \n",
       "JohnDelaney            0.003861     0.018018  0.195624     0.074646  0.151866   \n",
       "JulianCastro           0.010582     0.074074  0.097884     0.367725  0.079365   \n",
       "KamalaHarris           0.007759     0.142580  0.201746     0.091174  0.109602   \n",
       "MichaelBennet          0.000000     0.046569  0.303922     0.071078  0.063725   \n",
       "PeteButtigieg          0.027149     0.095023  0.158371     0.049774  0.131222   \n",
       "SenGillibrand          0.012945     0.100324  0.205502     0.092233  0.084142   \n",
       "TimRyan                0.012433     0.056838  0.223801     0.031972  0.145648   \n",
       "TomSteyer              0.007937     0.071429  0.044974     0.145503  0.105820   \n",
       "TulsiGabbard           0.114706     0.002941  0.064706     0.047059  0.079412   \n",
       "WayneMessam            0.022642     0.101887  0.049057     0.132075  0.154717   \n",
       "amyklobuchar           0.006993     0.137529  0.191142     0.072261  0.090909   \n",
       "ericswalwell           0.016279     0.423256  0.086047     0.083721  0.044186   \n",
       "ewarren                0.001047     0.068063  0.099476     0.137173  0.127749   \n",
       "marwilliamson          0.180124     0.037267  0.095238     0.076605  0.122153   \n",
       "sethmoulton            0.021028     0.079439  0.140187     0.114486  0.088785   \n",
       "\n",
       "                 military  repro_rights  \n",
       "username                                 \n",
       "AndrewYang       0.069853      0.009191  \n",
       "BernieSanders    0.058824      0.029009  \n",
       "BetoORourke      0.107306      0.027397  \n",
       "BilldeBlasio     0.057143      0.028571  \n",
       "CoryBooker       0.071739      0.071739  \n",
       "GovernorBullock  0.077859      0.007299  \n",
       "Hickenlooper     0.059126      0.038560  \n",
       "JayInslee        0.021892      0.041439  \n",
       "JoeBiden         0.054645      0.000000  \n",
       "JoeSestak        0.159574      0.037234  \n",
       "JohnDelaney      0.047619      0.007722  \n",
       "JulianCastro     0.037037      0.063492  \n",
       "KamalaHarris     0.022308      0.052376  \n",
       "MichaelBennet    0.036765      0.007353  \n",
       "PeteButtigieg    0.131222      0.058824  \n",
       "SenGillibrand    0.037217      0.179612  \n",
       "TimRyan          0.053286      0.023091  \n",
       "TomSteyer        0.047619      0.015873  \n",
       "TulsiGabbard     0.470588      0.002941  \n",
       "WayneMessam      0.015094      0.007547  \n",
       "amyklobuchar     0.041958      0.018648  \n",
       "ericswalwell     0.081395      0.027907  \n",
       "ewarren          0.030366      0.045026  \n",
       "marwilliamson    0.163561      0.010352  \n",
       "sethmoulton      0.257009      0.011682  "
      ]
     },
     "execution_count": 28,
     "metadata": {},
     "output_type": "execute_result"
    }
   ],
   "source": [
    "overall_pct = overall.div(overall.sum(axis=1), axis=0)\n",
    "overall_pct"
   ]
  },
  {
   "cell_type": "code",
   "execution_count": 29,
   "metadata": {},
   "outputs": [
    {
     "data": {
      "text/plain": [
       "<matplotlib.legend.Legend at 0x1309c5280>"
      ]
     },
     "execution_count": 29,
     "metadata": {},
     "output_type": "execute_result"
    },
    {
     "data": {
      "image/png": "[encoded data removed]",
      "text/plain": [
       "<Figure size 936x432 with 1 Axes>"
      ]
     },
     "metadata": {
      "needs_background": "light"
     },
     "output_type": "display_data"
    }
   ],
   "source": [
    "ax = overall_pct.plot(kind='bar', stacked=True, figsize=(13,6), width=0.9)\n",
    "\n",
    "# Move the legend off of the chart\n",
    "ax.legend(loc=(1.04,0))"
   ]
  },
  {
   "cell_type": "markdown",
   "metadata": {},
   "source": [
    "# Mit Plotly visualisieren\n",
    "Matplotlib sieht oft ewas hässlich aus. Lasst uns lieber plotly nehmen, das ist schön interaktiv. \n",
    "Wir müssen dafür den Dataframe etwas re-shapen."
   ]
  },
  {
   "cell_type": "code",
   "execution_count": 62,
   "metadata": {},
   "outputs": [
    {
     "data": {
      "text/html": [
       "<div>\n",
       "<style scoped>\n",
       "    .dataframe tbody tr th:only-of-type {\n",
       "        vertical-align: middle;\n",
       "    }\n",
       "\n",
       "    .dataframe tbody tr th {\n",
       "        vertical-align: top;\n",
       "    }\n",
       "\n",
       "    .dataframe thead th {\n",
       "        text-align: right;\n",
       "    }\n",
       "</style>\n",
       "<table border=\"1\" class=\"dataframe\">\n",
       "  <thead>\n",
       "    <tr style=\"text-align: right;\">\n",
       "      <th></th>\n",
       "      <th>username</th>\n",
       "      <th>topic</th>\n",
       "      <th>pct</th>\n",
       "    </tr>\n",
       "  </thead>\n",
       "  <tbody>\n",
       "    <tr>\n",
       "      <th>0</th>\n",
       "      <td>AndrewYang</td>\n",
       "      <td>climate_change</td>\n",
       "      <td>0.075368</td>\n",
       "    </tr>\n",
       "    <tr>\n",
       "      <th>1</th>\n",
       "      <td>BernieSanders</td>\n",
       "      <td>climate_change</td>\n",
       "      <td>0.070105</td>\n",
       "    </tr>\n",
       "    <tr>\n",
       "      <th>2</th>\n",
       "      <td>BetoORourke</td>\n",
       "      <td>climate_change</td>\n",
       "      <td>0.098174</td>\n",
       "    </tr>\n",
       "    <tr>\n",
       "      <th>3</th>\n",
       "      <td>BilldeBlasio</td>\n",
       "      <td>climate_change</td>\n",
       "      <td>0.071429</td>\n",
       "    </tr>\n",
       "    <tr>\n",
       "      <th>4</th>\n",
       "      <td>CoryBooker</td>\n",
       "      <td>climate_change</td>\n",
       "      <td>0.039130</td>\n",
       "    </tr>\n",
       "  </tbody>\n",
       "</table>\n",
       "</div>"
      ],
      "text/plain": [
       "        username           topic       pct\n",
       "0     AndrewYang  climate_change  0.075368\n",
       "1  BernieSanders  climate_change  0.070105\n",
       "2    BetoORourke  climate_change  0.098174\n",
       "3   BilldeBlasio  climate_change  0.071429\n",
       "4     CoryBooker  climate_change  0.039130"
      ]
     },
     "execution_count": 62,
     "metadata": {},
     "output_type": "execute_result"
    }
   ],
   "source": [
    "reshaped = overall_pct.reset_index().melt(id_vars=['username'], var_name='topic', value_name='pct')\n",
    "reshaped.head()"
   ]
  },
  {
   "cell_type": "code",
   "execution_count": 63,
   "metadata": {},
   "outputs": [
    {
     "data": {
      "application/vnd.plotly.v1+json": {
       "config": {
        "plotlyServerURL": "https://plot.ly"
       },
       "data": [
        {
         "alignmentgroup": "True",
         "hovertemplate": "topic=climate_change<br>username=%{x}<br>pct=%{y}<extra></extra>",
         "legendgroup": "climate_change",
         "marker": {
          "color": "#636efa"
         },
         "name": "climate_change",
         "offsetgroup": "climate_change",
         "orientation": "v",
         "showlegend": true,
         "textposition": "auto",
         "type": "bar",
         "x": [
          "AndrewYang",
          "BernieSanders",
          "BetoORourke",
          "BilldeBlasio",
          "CoryBooker",
          "GovernorBullock",
          "Hickenlooper",
          "JayInslee",
          "JoeBiden",
          "JoeSestak",
          "JohnDelaney",
          "JulianCastro",
          "KamalaHarris",
          "MichaelBennet",
          "PeteButtigieg",
          "SenGillibrand",
          "TimRyan",
          "TomSteyer",
          "TulsiGabbard",
          "WayneMessam",
          "amyklobuchar",
          "ericswalwell",
          "ewarren",
          "marwilliamson",
          "sethmoulton"
         ],
         "xaxis": "x",
         "y": [
          0.07536764705882353,
          0.07010475423045931,
          0.09817351598173515,
          0.07142857142857142,
          0.0391304347826087,
          0.15085158150851583,
          0.11825192802056556,
          0.5840500390930414,
          0.1092896174863388,
          0.1702127659574468,
          0.16731016731016732,
          0.06613756613756613,
          0.06304558680892337,
          0.1323529411764706,
          0.1085972850678733,
          0.08737864077669903,
          0.07460035523978685,
          0.30952380952380953,
          0.04411764705882353,
          0.06037735849056604,
          0.1048951048951049,
          0.027906976744186046,
          0.08272251308900523,
          0.047619047619047616,
          0.10046728971962617
         ],
         "yaxis": "y"
        },
        {
         "alignmentgroup": "True",
         "hovertemplate": "topic=drugs<br>username=%{x}<br>pct=%{y}<extra></extra>",
         "legendgroup": "drugs",
         "marker": {
          "color": "#EF553B"
         },
         "name": "drugs",
         "offsetgroup": "drugs",
         "orientation": "v",
         "showlegend": true,
         "textposition": "auto",
         "type": "bar",
         "x": [
          "AndrewYang",
          "BernieSanders",
          "BetoORourke",
          "BilldeBlasio",
          "CoryBooker",
          "GovernorBullock",
          "Hickenlooper",
          "JayInslee",
          "JoeBiden",
          "JoeSestak",
          "JohnDelaney",
          "JulianCastro",
          "KamalaHarris",
          "MichaelBennet",
          "PeteButtigieg",
          "SenGillibrand",
          "TimRyan",
          "TomSteyer",
          "TulsiGabbard",
          "WayneMessam",
          "amyklobuchar",
          "ericswalwell",
          "ewarren",
          "marwilliamson",
          "sethmoulton"
         ],
         "xaxis": "x",
         "y": [
          0.03676470588235294,
          0.05801772763900081,
          0.026255707762557076,
          0.007142857142857143,
          0.08043478260869565,
          0.046228710462287104,
          0.02313624678663239,
          0.003127443315089914,
          0.01912568306010929,
          0.031914893617021274,
          0.055341055341055344,
          0.005291005291005291,
          0.030067895247332686,
          0.02696078431372549,
          0.00904977375565611,
          0.030744336569579287,
          0.03197158081705151,
          0.005291005291005291,
          0.041176470588235294,
          0.0037735849056603774,
          0.13053613053613053,
          0.013953488372093023,
          0.04607329842931937,
          0.026915113871635612,
          0.037383177570093455
         ],
         "yaxis": "y"
        },
        {
         "alignmentgroup": "True",
         "hovertemplate": "topic=economy<br>username=%{x}<br>pct=%{y}<extra></extra>",
         "legendgroup": "economy",
         "marker": {
          "color": "#00cc96"
         },
         "name": "economy",
         "offsetgroup": "economy",
         "orientation": "v",
         "showlegend": true,
         "textposition": "auto",
         "type": "bar",
         "x": [
          "AndrewYang",
          "BernieSanders",
          "BetoORourke",
          "BilldeBlasio",
          "CoryBooker",
          "GovernorBullock",
          "Hickenlooper",
          "JayInslee",
          "JoeBiden",
          "JoeSestak",
          "JohnDelaney",
          "JulianCastro",
          "KamalaHarris",
          "MichaelBennet",
          "PeteButtigieg",
          "SenGillibrand",
          "TimRyan",
          "TomSteyer",
          "TulsiGabbard",
          "WayneMessam",
          "amyklobuchar",
          "ericswalwell",
          "ewarren",
          "marwilliamson",
          "sethmoulton"
         ],
         "xaxis": "x",
         "y": [
          0.2610294117647059,
          0.0894439967767929,
          0.06506849315068493,
          0.12857142857142856,
          0.05652173913043478,
          0.1435523114355231,
          0.17994858611825193,
          0.0946051602814699,
          0.13114754098360656,
          0.15425531914893617,
          0.1956241956241956,
          0.05291005291005291,
          0.08535402521823472,
          0.14215686274509803,
          0.1085972850678733,
          0.08737864077669903,
          0.16341030195381884,
          0.17724867724867724,
          0.07941176470588235,
          0.1509433962264151,
          0.10955710955710955,
          0.06046511627906977,
          0.1581151832460733,
          0.13043478260869565,
          0.09345794392523364
         ],
         "yaxis": "y"
        },
        {
         "alignmentgroup": "True",
         "hovertemplate": "topic=education<br>username=%{x}<br>pct=%{y}<extra></extra>",
         "legendgroup": "education",
         "marker": {
          "color": "#ab63fa"
         },
         "name": "education",
         "offsetgroup": "education",
         "orientation": "v",
         "showlegend": true,
         "textposition": "auto",
         "type": "bar",
         "x": [
          "AndrewYang",
          "BernieSanders",
          "BetoORourke",
          "BilldeBlasio",
          "CoryBooker",
          "GovernorBullock",
          "Hickenlooper",
          "JayInslee",
          "JoeBiden",
          "JoeSestak",
          "JohnDelaney",
          "JulianCastro",
          "KamalaHarris",
          "MichaelBennet",
          "PeteButtigieg",
          "SenGillibrand",
          "TimRyan",
          "TomSteyer",
          "TulsiGabbard",
          "WayneMessam",
          "amyklobuchar",
          "ericswalwell",
          "ewarren",
          "marwilliamson",
          "sethmoulton"
         ],
         "xaxis": "x",
         "y": [
          0.11948529411764706,
          0.11764705882352941,
          0.16666666666666666,
          0.09285714285714286,
          0.08478260869565217,
          0.15328467153284672,
          0.05141388174807198,
          0.04143862392494136,
          0.13114754098360656,
          0.0851063829787234,
          0.08236808236808237,
          0.1455026455026455,
          0.19398642095053345,
          0.16911764705882354,
          0.12217194570135746,
          0.0825242718446602,
          0.18294849023090587,
          0.06878306878306878,
          0.052941176470588235,
          0.3018867924528302,
          0.09557109557109557,
          0.13488372093023257,
          0.20418848167539266,
          0.10973084886128365,
          0.056074766355140186
         ],
         "yaxis": "y"
        },
        {
         "alignmentgroup": "True",
         "hovertemplate": "topic=foreign_policy<br>username=%{x}<br>pct=%{y}<extra></extra>",
         "legendgroup": "foreign_policy",
         "marker": {
          "color": "#FFA15A"
         },
         "name": "foreign_policy",
         "offsetgroup": "foreign_policy",
         "orientation": "v",
         "showlegend": true,
         "textposition": "auto",
         "type": "bar",
         "x": [
          "AndrewYang",
          "BernieSanders",
          "BetoORourke",
          "BilldeBlasio",
          "CoryBooker",
          "GovernorBullock",
          "Hickenlooper",
          "JayInslee",
          "JoeBiden",
          "JoeSestak",
          "JohnDelaney",
          "JulianCastro",
          "KamalaHarris",
          "MichaelBennet",
          "PeteButtigieg",
          "SenGillibrand",
          "TimRyan",
          "TomSteyer",
          "TulsiGabbard",
          "WayneMessam",
          "amyklobuchar",
          "ericswalwell",
          "ewarren",
          "marwilliamson",
          "sethmoulton"
         ],
         "xaxis": "x",
         "y": [
          0.003676470588235294,
          0.0128928283642224,
          0.010273972602739725,
          0.007142857142857143,
          0.008695652173913044,
          0.004866180048661801,
          0.017994858611825194,
          0.0023455824863174357,
          0.04371584699453552,
          0.047872340425531915,
          0.003861003861003861,
          0.010582010582010581,
          0.007759456838021339,
          0,
          0.027149321266968326,
          0.012944983818770227,
          0.012433392539964476,
          0.007936507936507936,
          0.11470588235294117,
          0.022641509433962263,
          0.006993006993006993,
          0.01627906976744186,
          0.0010471204188481676,
          0.18012422360248448,
          0.02102803738317757
         ],
         "yaxis": "y"
        },
        {
         "alignmentgroup": "True",
         "hovertemplate": "topic=gun_control<br>username=%{x}<br>pct=%{y}<extra></extra>",
         "legendgroup": "gun_control",
         "marker": {
          "color": "#19d3f3"
         },
         "name": "gun_control",
         "offsetgroup": "gun_control",
         "orientation": "v",
         "showlegend": true,
         "textposition": "auto",
         "type": "bar",
         "x": [
          "AndrewYang",
          "BernieSanders",
          "BetoORourke",
          "BilldeBlasio",
          "CoryBooker",
          "GovernorBullock",
          "Hickenlooper",
          "JayInslee",
          "JoeBiden",
          "JoeSestak",
          "JohnDelaney",
          "JulianCastro",
          "KamalaHarris",
          "MichaelBennet",
          "PeteButtigieg",
          "SenGillibrand",
          "TimRyan",
          "TomSteyer",
          "TulsiGabbard",
          "WayneMessam",
          "amyklobuchar",
          "ericswalwell",
          "ewarren",
          "marwilliamson",
          "sethmoulton"
         ],
         "xaxis": "x",
         "y": [
          0.03860294117647059,
          0.030620467365028204,
          0.09474885844748858,
          0.07857142857142857,
          0.23478260869565218,
          0.072992700729927,
          0.18508997429305912,
          0.03205629397967162,
          0.10109289617486339,
          0.005319148936170213,
          0.018018018018018018,
          0.07407407407407407,
          0.1425800193986421,
          0.04656862745098039,
          0.09502262443438914,
          0.10032362459546926,
          0.056838365896980464,
          0.07142857142857142,
          0.0029411764705882353,
          0.1018867924528302,
          0.13752913752913754,
          0.4232558139534884,
          0.06806282722513089,
          0.037267080745341616,
          0.0794392523364486
         ],
         "yaxis": "y"
        },
        {
         "alignmentgroup": "True",
         "hovertemplate": "topic=health<br>username=%{x}<br>pct=%{y}<extra></extra>",
         "legendgroup": "health",
         "marker": {
          "color": "#FF6692"
         },
         "name": "health",
         "offsetgroup": "health",
         "orientation": "v",
         "showlegend": true,
         "textposition": "auto",
         "type": "bar",
         "x": [
          "AndrewYang",
          "BernieSanders",
          "BetoORourke",
          "BilldeBlasio",
          "CoryBooker",
          "GovernorBullock",
          "Hickenlooper",
          "JayInslee",
          "JoeBiden",
          "JoeSestak",
          "JohnDelaney",
          "JulianCastro",
          "KamalaHarris",
          "MichaelBennet",
          "PeteButtigieg",
          "SenGillibrand",
          "TimRyan",
          "TomSteyer",
          "TulsiGabbard",
          "WayneMessam",
          "amyklobuchar",
          "ericswalwell",
          "ewarren",
          "marwilliamson",
          "sethmoulton"
         ],
         "xaxis": "x",
         "y": [
          0.09375,
          0.2586623690572119,
          0.14383561643835616,
          0.20714285714285716,
          0.13478260869565217,
          0.0827250608272506,
          0.11053984575835475,
          0.05003909304143862,
          0.19672131147540983,
          0.11170212765957446,
          0.1956241956241956,
          0.09788359788359788,
          0.2017458777885548,
          0.30392156862745096,
          0.1583710407239819,
          0.20550161812297735,
          0.22380106571936056,
          0.04497354497354497,
          0.06470588235294118,
          0.04905660377358491,
          0.19114219114219114,
          0.08604651162790698,
          0.09947643979057591,
          0.09523809523809523,
          0.14018691588785046
         ],
         "yaxis": "y"
        },
        {
         "alignmentgroup": "True",
         "hovertemplate": "topic=immigration<br>username=%{x}<br>pct=%{y}<extra></extra>",
         "legendgroup": "immigration",
         "marker": {
          "color": "#B6E880"
         },
         "name": "immigration",
         "offsetgroup": "immigration",
         "orientation": "v",
         "showlegend": true,
         "textposition": "auto",
         "type": "bar",
         "x": [
          "AndrewYang",
          "BernieSanders",
          "BetoORourke",
          "BilldeBlasio",
          "CoryBooker",
          "GovernorBullock",
          "Hickenlooper",
          "JayInslee",
          "JoeBiden",
          "JoeSestak",
          "JohnDelaney",
          "JulianCastro",
          "KamalaHarris",
          "MichaelBennet",
          "PeteButtigieg",
          "SenGillibrand",
          "TimRyan",
          "TomSteyer",
          "TulsiGabbard",
          "WayneMessam",
          "amyklobuchar",
          "ericswalwell",
          "ewarren",
          "marwilliamson",
          "sethmoulton"
         ],
         "xaxis": "x",
         "y": [
          0.04963235294117647,
          0.0991136180499597,
          0.18835616438356165,
          0.1,
          0.10652173913043478,
          0.07785888077858881,
          0.061696658097686374,
          0.040656763096168884,
          0.10109289617486339,
          0.11702127659574468,
          0.07464607464607464,
          0.36772486772486773,
          0.09117361784675072,
          0.07107843137254902,
          0.049773755656108594,
          0.09223300970873786,
          0.03197158081705151,
          0.1455026455026455,
          0.047058823529411764,
          0.1320754716981132,
          0.07226107226107226,
          0.08372093023255814,
          0.13717277486910995,
          0.07660455486542443,
          0.11448598130841121
         ],
         "yaxis": "y"
        },
        {
         "alignmentgroup": "True",
         "hovertemplate": "topic=jobs<br>username=%{x}<br>pct=%{y}<extra></extra>",
         "legendgroup": "jobs",
         "marker": {
          "color": "#FF97FF"
         },
         "name": "jobs",
         "offsetgroup": "jobs",
         "orientation": "v",
         "showlegend": true,
         "textposition": "auto",
         "type": "bar",
         "x": [
          "AndrewYang",
          "BernieSanders",
          "BetoORourke",
          "BilldeBlasio",
          "CoryBooker",
          "GovernorBullock",
          "Hickenlooper",
          "JayInslee",
          "JoeBiden",
          "JoeSestak",
          "JohnDelaney",
          "JulianCastro",
          "KamalaHarris",
          "MichaelBennet",
          "PeteButtigieg",
          "SenGillibrand",
          "TimRyan",
          "TomSteyer",
          "TulsiGabbard",
          "WayneMessam",
          "amyklobuchar",
          "ericswalwell",
          "ewarren",
          "marwilliamson",
          "sethmoulton"
         ],
         "xaxis": "x",
         "y": [
          0.2426470588235294,
          0.17566478646253023,
          0.07191780821917808,
          0.22142857142857142,
          0.1108695652173913,
          0.18248175182481752,
          0.15424164524421594,
          0.08835027365129007,
          0.11202185792349727,
          0.0797872340425532,
          0.15186615186615188,
          0.07936507936507936,
          0.1096023278370514,
          0.06372549019607843,
          0.13122171945701358,
          0.08414239482200647,
          0.14564831261101244,
          0.10582010582010581,
          0.07941176470588235,
          0.15471698113207547,
          0.09090909090909091,
          0.044186046511627906,
          0.12774869109947645,
          0.12215320910973085,
          0.08878504672897196
         ],
         "yaxis": "y"
        },
        {
         "alignmentgroup": "True",
         "hovertemplate": "topic=military<br>username=%{x}<br>pct=%{y}<extra></extra>",
         "legendgroup": "military",
         "marker": {
          "color": "#FECB52"
         },
         "name": "military",
         "offsetgroup": "military",
         "orientation": "v",
         "showlegend": true,
         "textposition": "auto",
         "type": "bar",
         "x": [
          "AndrewYang",
          "BernieSanders",
          "BetoORourke",
          "BilldeBlasio",
          "CoryBooker",
          "GovernorBullock",
          "Hickenlooper",
          "JayInslee",
          "JoeBiden",
          "JoeSestak",
          "JohnDelaney",
          "JulianCastro",
          "KamalaHarris",
          "MichaelBennet",
          "PeteButtigieg",
          "SenGillibrand",
          "TimRyan",
          "TomSteyer",
          "TulsiGabbard",
          "WayneMessam",
          "amyklobuchar",
          "ericswalwell",
          "ewarren",
          "marwilliamson",
          "sethmoulton"
         ],
         "xaxis": "x",
         "y": [
          0.06985294117647059,
          0.058823529411764705,
          0.10730593607305935,
          0.05714285714285714,
          0.07173913043478261,
          0.07785888077858881,
          0.05912596401028278,
          0.0218921032056294,
          0.0546448087431694,
          0.1595744680851064,
          0.047619047619047616,
          0.037037037037037035,
          0.02230843840931135,
          0.03676470588235294,
          0.13122171945701358,
          0.0372168284789644,
          0.05328596802841918,
          0.047619047619047616,
          0.47058823529411764,
          0.01509433962264151,
          0.04195804195804196,
          0.08139534883720931,
          0.030366492146596858,
          0.16356107660455488,
          0.2570093457943925
         ],
         "yaxis": "y"
        },
        {
         "alignmentgroup": "True",
         "hovertemplate": "topic=repro_rights<br>username=%{x}<br>pct=%{y}<extra></extra>",
         "legendgroup": "repro_rights",
         "marker": {
          "color": "#636efa"
         },
         "name": "repro_rights",
         "offsetgroup": "repro_rights",
         "orientation": "v",
         "showlegend": true,
         "textposition": "auto",
         "type": "bar",
         "x": [
          "AndrewYang",
          "BernieSanders",
          "BetoORourke",
          "BilldeBlasio",
          "CoryBooker",
          "GovernorBullock",
          "Hickenlooper",
          "JayInslee",
          "JoeBiden",
          "JoeSestak",
          "JohnDelaney",
          "JulianCastro",
          "KamalaHarris",
          "MichaelBennet",
          "PeteButtigieg",
          "SenGillibrand",
          "TimRyan",
          "TomSteyer",
          "TulsiGabbard",
          "WayneMessam",
          "amyklobuchar",
          "ericswalwell",
          "ewarren",
          "marwilliamson",
          "sethmoulton"
         ],
         "xaxis": "x",
         "y": [
          0.009191176470588236,
          0.029008863819500404,
          0.0273972602739726,
          0.02857142857142857,
          0.07173913043478261,
          0.0072992700729927005,
          0.038560411311053984,
          0.04143862392494136,
          0,
          0.03723404255319149,
          0.007722007722007722,
          0.06349206349206349,
          0.052376333656644035,
          0.007352941176470588,
          0.058823529411764705,
          0.1796116504854369,
          0.023090586145648313,
          0.015873015873015872,
          0.0029411764705882353,
          0.007547169811320755,
          0.018648018648018648,
          0.027906976744186046,
          0.04502617801047121,
          0.010351966873706004,
          0.011682242990654205
         ],
         "yaxis": "y"
        }
       ],
       "layout": {
        "barmode": "relative",
        "legend": {
         "title": {
          "text": "topic"
         },
         "tracegroupgap": 0
        },
        "margin": {
         "t": 60
        },
        "template": {
         "data": {
          "bar": [
           {
            "error_x": {
             "color": "#2a3f5f"
            },
            "error_y": {
             "color": "#2a3f5f"
            },
            "marker": {
             "line": {
              "color": "#E5ECF6",
              "width": 0.5
             }
            },
            "type": "bar"
           }
          ],
          "barpolar": [
           {
            "marker": {
             "line": {
              "color": "#E5ECF6",
              "width": 0.5
             }
            },
            "type": "barpolar"
           }
          ],
          "carpet": [
           {
            "aaxis": {
             "endlinecolor": "#2a3f5f",
             "gridcolor": "white",
             "linecolor": "white",
             "minorgridcolor": "white",
             "startlinecolor": "#2a3f5f"
            },
            "baxis": {
             "endlinecolor": "#2a3f5f",
             "gridcolor": "white",
             "linecolor": "white",
             "minorgridcolor": "white",
             "startlinecolor": "#2a3f5f"
            },
            "type": "carpet"
           }
          ],
          "choropleth": [
           {
            "colorbar": {
             "outlinewidth": 0,
             "ticks": ""
            },
            "type": "choropleth"
           }
          ],
          "contour": [
           {
            "colorbar": {
             "outlinewidth": 0,
             "ticks": ""
            },
            "colorscale": [
             [
              0,
              "#0d0887"
             ],
             [
              0.1111111111111111,
              "#46039f"
             ],
             [
              0.2222222222222222,
              "#7201a8"
             ],
             [
              0.3333333333333333,
              "#9c179e"
             ],
             [
              0.4444444444444444,
              "#bd3786"
             ],
             [
              0.5555555555555556,
              "#d8576b"
             ],
             [
              0.6666666666666666,
              "#ed7953"
             ],
             [
              0.7777777777777778,
              "#fb9f3a"
             ],
             [
              0.8888888888888888,
              "#fdca26"
             ],
             [
              1,
              "#f0f921"
             ]
            ],
            "type": "contour"
           }
          ],
          "contourcarpet": [
           {
            "colorbar": {
             "outlinewidth": 0,
             "ticks": ""
            },
            "type": "contourcarpet"
           }
          ],
          "heatmap": [
           {
            "colorbar": {
             "outlinewidth": 0,
             "ticks": ""
            },
            "colorscale": [
             [
              0,
              "#0d0887"
             ],
             [
              0.1111111111111111,
              "#46039f"
             ],
             [
              0.2222222222222222,
              "#7201a8"
             ],
             [
              0.3333333333333333,
              "#9c179e"
             ],
             [
              0.4444444444444444,
              "#bd3786"
             ],
             [
              0.5555555555555556,
              "#d8576b"
             ],
             [
              0.6666666666666666,
              "#ed7953"
             ],
             [
              0.7777777777777778,
              "#fb9f3a"
             ],
             [
              0.8888888888888888,
              "#fdca26"
             ],
             [
              1,
              "#f0f921"
             ]
            ],
            "type": "heatmap"
           }
          ],
          "heatmapgl": [
           {
            "colorbar": {
             "outlinewidth": 0,
             "ticks": ""
            },
            "colorscale": [
             [
              0,
              "#0d0887"
             ],
             [
              0.1111111111111111,
              "#46039f"
             ],
             [
              0.2222222222222222,
              "#7201a8"
             ],
             [
              0.3333333333333333,
              "#9c179e"
             ],
             [
              0.4444444444444444,
              "#bd3786"
             ],
             [
              0.5555555555555556,
              "#d8576b"
             ],
             [
              0.6666666666666666,
              "#ed7953"
             ],
             [
              0.7777777777777778,
              "#fb9f3a"
             ],
             [
              0.8888888888888888,
              "#fdca26"
             ],
             [
              1,
              "#f0f921"
             ]
            ],
            "type": "heatmapgl"
           }
          ],
          "histogram": [
           {
            "marker": {
             "colorbar": {
              "outlinewidth": 0,
              "ticks": ""
             }
            },
            "type": "histogram"
           }
          ],
          "histogram2d": [
           {
            "colorbar": {
             "outlinewidth": 0,
             "ticks": ""
            },
            "colorscale": [
             [
              0,
              "#0d0887"
             ],
             [
              0.1111111111111111,
              "#46039f"
             ],
             [
              0.2222222222222222,
              "#7201a8"
             ],
             [
              0.3333333333333333,
              "#9c179e"
             ],
             [
              0.4444444444444444,
              "#bd3786"
             ],
             [
              0.5555555555555556,
              "#d8576b"
             ],
             [
              0.6666666666666666,
              "#ed7953"
             ],
             [
              0.7777777777777778,
              "#fb9f3a"
             ],
             [
              0.8888888888888888,
              "#fdca26"
             ],
             [
              1,
              "#f0f921"
             ]
            ],
            "type": "histogram2d"
           }
          ],
          "histogram2dcontour": [
           {
            "colorbar": {
             "outlinewidth": 0,
             "ticks": ""
            },
            "colorscale": [
             [
              0,
              "#0d0887"
             ],
             [
              0.1111111111111111,
              "#46039f"
             ],
             [
              0.2222222222222222,
              "#7201a8"
             ],
             [
              0.3333333333333333,
              "#9c179e"
             ],
             [
              0.4444444444444444,
              "#bd3786"
             ],
             [
              0.5555555555555556,
              "#d8576b"
             ],
             [
              0.6666666666666666,
              "#ed7953"
             ],
             [
              0.7777777777777778,
              "#fb9f3a"
             ],
             [
              0.8888888888888888,
              "#fdca26"
             ],
             [
              1,
              "#f0f921"
             ]
            ],
            "type": "histogram2dcontour"
           }
          ],
          "mesh3d": [
           {
            "colorbar": {
             "outlinewidth": 0,
             "ticks": ""
            },
            "type": "mesh3d"
           }
          ],
          "parcoords": [
           {
            "line": {
             "colorbar": {
              "outlinewidth": 0,
              "ticks": ""
             }
            },
            "type": "parcoords"
           }
          ],
          "pie": [
           {
            "automargin": true,
            "type": "pie"
           }
          ],
          "scatter": [
           {
            "marker": {
             "colorbar": {
              "outlinewidth": 0,
              "ticks": ""
             }
            },
            "type": "scatter"
           }
          ],
          "scatter3d": [
           {
            "line": {
             "colorbar": {
              "outlinewidth": 0,
              "ticks": ""
             }
            },
            "marker": {
             "colorbar": {
              "outlinewidth": 0,
              "ticks": ""
             }
            },
            "type": "scatter3d"
           }
          ],
          "scattercarpet": [
           {
            "marker": {
             "colorbar": {
              "outlinewidth": 0,
              "ticks": ""
             }
            },
            "type": "scattercarpet"
           }
          ],
          "scattergeo": [
           {
            "marker": {
             "colorbar": {
              "outlinewidth": 0,
              "ticks": ""
             }
            },
            "type": "scattergeo"
           }
          ],
          "scattergl": [
           {
            "marker": {
             "colorbar": {
              "outlinewidth": 0,
              "ticks": ""
             }
            },
            "type": "scattergl"
           }
          ],
          "scattermapbox": [
           {
            "marker": {
             "colorbar": {
              "outlinewidth": 0,
              "ticks": ""
             }
            },
            "type": "scattermapbox"
           }
          ],
          "scatterpolar": [
           {
            "marker": {
             "colorbar": {
              "outlinewidth": 0,
              "ticks": ""
             }
            },
            "type": "scatterpolar"
           }
          ],
          "scatterpolargl": [
           {
            "marker": {
             "colorbar": {
              "outlinewidth": 0,
              "ticks": ""
             }
            },
            "type": "scatterpolargl"
           }
          ],
          "scatterternary": [
           {
            "marker": {
             "colorbar": {
              "outlinewidth": 0,
              "ticks": ""
             }
            },
            "type": "scatterternary"
           }
          ],
          "surface": [
           {
            "colorbar": {
             "outlinewidth": 0,
             "ticks": ""
            },
            "colorscale": [
             [
              0,
              "#0d0887"
             ],
             [
              0.1111111111111111,
              "#46039f"
             ],
             [
              0.2222222222222222,
              "#7201a8"
             ],
             [
              0.3333333333333333,
              "#9c179e"
             ],
             [
              0.4444444444444444,
              "#bd3786"
             ],
             [
              0.5555555555555556,
              "#d8576b"
             ],
             [
              0.6666666666666666,
              "#ed7953"
             ],
             [
              0.7777777777777778,
              "#fb9f3a"
             ],
             [
              0.8888888888888888,
              "#fdca26"
             ],
             [
              1,
              "#f0f921"
             ]
            ],
            "type": "surface"
           }
          ],
          "table": [
           {
            "cells": {
             "fill": {
              "color": "#EBF0F8"
             },
             "line": {
              "color": "white"
             }
            },
            "header": {
             "fill": {
              "color": "#C8D4E3"
             },
             "line": {
              "color": "white"
             }
            },
            "type": "table"
           }
          ]
         },
         "layout": {
          "annotationdefaults": {
           "arrowcolor": "#2a3f5f",
           "arrowhead": 0,
           "arrowwidth": 1
          },
          "coloraxis": {
           "colorbar": {
            "outlinewidth": 0,
            "ticks": ""
           }
          },
          "colorscale": {
           "diverging": [
            [
             0,
             "#8e0152"
            ],
            [
             0.1,
             "#c51b7d"
            ],
            [
             0.2,
             "#de77ae"
            ],
            [
             0.3,
             "#f1b6da"
            ],
            [
             0.4,
             "#fde0ef"
            ],
            [
             0.5,
             "#f7f7f7"
            ],
            [
             0.6,
             "#e6f5d0"
            ],
            [
             0.7,
             "#b8e186"
            ],
            [
             0.8,
             "#7fbc41"
            ],
            [
             0.9,
             "#4d9221"
            ],
            [
             1,
             "#276419"
            ]
           ],
           "sequential": [
            [
             0,
             "#0d0887"
            ],
            [
             0.1111111111111111,
             "#46039f"
            ],
            [
             0.2222222222222222,
             "#7201a8"
            ],
            [
             0.3333333333333333,
             "#9c179e"
            ],
            [
             0.4444444444444444,
             "#bd3786"
            ],
            [
             0.5555555555555556,
             "#d8576b"
            ],
            [
             0.6666666666666666,
             "#ed7953"
            ],
            [
             0.7777777777777778,
             "#fb9f3a"
            ],
            [
             0.8888888888888888,
             "#fdca26"
            ],
            [
             1,
             "#f0f921"
            ]
           ],
           "sequentialminus": [
            [
             0,
             "#0d0887"
            ],
            [
             0.1111111111111111,
             "#46039f"
            ],
            [
             0.2222222222222222,
             "#7201a8"
            ],
            [
             0.3333333333333333,
             "#9c179e"
            ],
            [
             0.4444444444444444,
             "#bd3786"
            ],
            [
             0.5555555555555556,
             "#d8576b"
            ],
            [
             0.6666666666666666,
             "#ed7953"
            ],
            [
             0.7777777777777778,
             "#fb9f3a"
            ],
            [
             0.8888888888888888,
             "#fdca26"
            ],
            [
             1,
             "#f0f921"
            ]
           ]
          },
          "colorway": [
           "#636efa",
           "#EF553B",
           "#00cc96",
           "#ab63fa",
           "#FFA15A",
           "#19d3f3",
           "#FF6692",
           "#B6E880",
           "#FF97FF",
           "#FECB52"
          ],
          "font": {
           "color": "#2a3f5f"
          },
          "geo": {
           "bgcolor": "white",
           "lakecolor": "white",
           "landcolor": "#E5ECF6",
           "showlakes": true,
           "showland": true,
           "subunitcolor": "white"
          },
          "hoverlabel": {
           "align": "left"
          },
          "hovermode": "closest",
          "mapbox": {
           "style": "light"
          },
          "paper_bgcolor": "white",
          "plot_bgcolor": "#E5ECF6",
          "polar": {
           "angularaxis": {
            "gridcolor": "white",
            "linecolor": "white",
            "ticks": ""
           },
           "bgcolor": "#E5ECF6",
           "radialaxis": {
            "gridcolor": "white",
            "linecolor": "white",
            "ticks": ""
           }
          },
          "scene": {
           "xaxis": {
            "backgroundcolor": "#E5ECF6",
            "gridcolor": "white",
            "gridwidth": 2,
            "linecolor": "white",
            "showbackground": true,
            "ticks": "",
            "zerolinecolor": "white"
           },
           "yaxis": {
            "backgroundcolor": "#E5ECF6",
            "gridcolor": "white",
            "gridwidth": 2,
            "linecolor": "white",
            "showbackground": true,
            "ticks": "",
            "zerolinecolor": "white"
           },
           "zaxis": {
            "backgroundcolor": "#E5ECF6",
            "gridcolor": "white",
            "gridwidth": 2,
            "linecolor": "white",
            "showbackground": true,
            "ticks": "",
            "zerolinecolor": "white"
           }
          },
          "shapedefaults": {
           "line": {
            "color": "#2a3f5f"
           }
          },
          "ternary": {
           "aaxis": {
            "gridcolor": "white",
            "linecolor": "white",
            "ticks": ""
           },
           "baxis": {
            "gridcolor": "white",
            "linecolor": "white",
            "ticks": ""
           },
           "bgcolor": "#E5ECF6",
           "caxis": {
            "gridcolor": "white",
            "linecolor": "white",
            "ticks": ""
           }
          },
          "title": {
           "x": 0.05
          },
          "xaxis": {
           "automargin": true,
           "gridcolor": "white",
           "linecolor": "white",
           "ticks": "",
           "title": {
            "standoff": 15
           },
           "zerolinecolor": "white",
           "zerolinewidth": 2
          },
          "yaxis": {
           "automargin": true,
           "gridcolor": "white",
           "linecolor": "white",
           "ticks": "",
           "title": {
            "standoff": 15
           },
           "zerolinecolor": "white",
           "zerolinewidth": 2
          }
         }
        },
        "xaxis": {
         "anchor": "y",
         "domain": [
          0,
          1
         ],
         "title": {
          "text": "username"
         }
        },
        "yaxis": {
         "anchor": "x",
         "domain": [
          0,
          1
         ],
         "title": {
          "text": "pct"
         }
        }
       }
      },
      "text/html": [
       "<div>                            <div id=\"24709443-b598-4592-acba-15bdd9c14ccd\" class=\"plotly-graph-div\" style=\"height:525px; width:100%;\"></div>            <script type=\"text/javascript\">                require([\"plotly\"], function(Plotly) {                    window.PLOTLYENV=window.PLOTLYENV || {};                                    if (document.getElementById(\"24709443-b598-4592-acba-15bdd9c14ccd\")) {                    Plotly.newPlot(                        \"24709443-b598-4592-acba-15bdd9c14ccd\",                        [{\"alignmentgroup\": \"True\", \"hovertemplate\": \"topic=climate_change<br>username=%{x}<br>pct=%{y}<extra></extra>\", \"legendgroup\": \"climate_change\", \"marker\": {\"color\": \"#636efa\"}, \"name\": \"climate_change\", \"offsetgroup\": \"climate_change\", \"orientation\": \"v\", \"showlegend\": true, \"textposition\": \"auto\", \"type\": \"bar\", \"x\": [\"AndrewYang\", \"BernieSanders\", \"BetoORourke\", \"BilldeBlasio\", \"CoryBooker\", \"GovernorBullock\", \"Hickenlooper\", \"JayInslee\", \"JoeBiden\", \"JoeSestak\", \"JohnDelaney\", \"JulianCastro\", \"KamalaHarris\", \"MichaelBennet\", \"PeteButtigieg\", \"SenGillibrand\", \"TimRyan\", \"TomSteyer\", \"TulsiGabbard\", \"WayneMessam\", \"amyklobuchar\", \"ericswalwell\", \"ewarren\", \"marwilliamson\", \"sethmoulton\"], \"xaxis\": \"x\", \"y\": [0.07536764705882353, 0.07010475423045931, 0.09817351598173515, 0.07142857142857142, 0.0391304347826087, 0.15085158150851583, 0.11825192802056556, 0.5840500390930414, 0.1092896174863388, 0.1702127659574468, 0.16731016731016732, 0.06613756613756613, 0.06304558680892337, 0.1323529411764706, 0.1085972850678733, 0.08737864077669903, 0.07460035523978685, 0.30952380952380953, 0.04411764705882353, 0.06037735849056604, 0.1048951048951049, 0.027906976744186046, 0.08272251308900523, 0.047619047619047616, 0.10046728971962617], \"yaxis\": \"y\"}, {\"alignmentgroup\": \"True\", \"hovertemplate\": \"topic=drugs<br>username=%{x}<br>pct=%{y}<extra></extra>\", \"legendgroup\": \"drugs\", \"marker\": {\"color\": \"#EF553B\"}, \"name\": \"drugs\", \"offsetgroup\": \"drugs\", \"orientation\": \"v\", \"showlegend\": true, \"textposition\": \"auto\", \"type\": \"bar\", \"x\": [\"AndrewYang\", \"BernieSanders\", \"BetoORourke\", \"BilldeBlasio\", \"CoryBooker\", \"GovernorBullock\", \"Hickenlooper\", \"JayInslee\", \"JoeBiden\", \"JoeSestak\", \"JohnDelaney\", \"JulianCastro\", \"KamalaHarris\", \"MichaelBennet\", \"PeteButtigieg\", \"SenGillibrand\", \"TimRyan\", \"TomSteyer\", \"TulsiGabbard\", \"WayneMessam\", \"amyklobuchar\", \"ericswalwell\", \"ewarren\", \"marwilliamson\", \"sethmoulton\"], \"xaxis\": \"x\", \"y\": [0.03676470588235294, 0.05801772763900081, 0.026255707762557076, 0.007142857142857143, 0.08043478260869565, 0.046228710462287104, 0.02313624678663239, 0.003127443315089914, 0.01912568306010929, 0.031914893617021274, 0.055341055341055344, 0.005291005291005291, 0.030067895247332686, 0.02696078431372549, 0.00904977375565611, 0.030744336569579287, 0.03197158081705151, 0.005291005291005291, 0.041176470588235294, 0.0037735849056603774, 0.13053613053613053, 0.013953488372093023, 0.04607329842931937, 0.026915113871635612, 0.037383177570093455], \"yaxis\": \"y\"}, {\"alignmentgroup\": \"True\", \"hovertemplate\": \"topic=economy<br>username=%{x}<br>pct=%{y}<extra></extra>\", \"legendgroup\": \"economy\", \"marker\": {\"color\": \"#00cc96\"}, \"name\": \"economy\", \"offsetgroup\": \"economy\", \"orientation\": \"v\", \"showlegend\": true, \"textposition\": \"auto\", \"type\": \"bar\", \"x\": [\"AndrewYang\", \"BernieSanders\", \"BetoORourke\", \"BilldeBlasio\", \"CoryBooker\", \"GovernorBullock\", \"Hickenlooper\", \"JayInslee\", \"JoeBiden\", \"JoeSestak\", \"JohnDelaney\", \"JulianCastro\", \"KamalaHarris\", \"MichaelBennet\", \"PeteButtigieg\", \"SenGillibrand\", \"TimRyan\", \"TomSteyer\", \"TulsiGabbard\", \"WayneMessam\", \"amyklobuchar\", \"ericswalwell\", \"ewarren\", \"marwilliamson\", \"sethmoulton\"], \"xaxis\": \"x\", \"y\": [0.2610294117647059, 0.0894439967767929, 0.06506849315068493, 0.12857142857142856, 0.05652173913043478, 0.1435523114355231, 0.17994858611825193, 0.0946051602814699, 0.13114754098360656, 0.15425531914893617, 0.1956241956241956, 0.05291005291005291, 0.08535402521823472, 0.14215686274509803, 0.1085972850678733, 0.08737864077669903, 0.16341030195381884, 0.17724867724867724, 0.07941176470588235, 0.1509433962264151, 0.10955710955710955, 0.06046511627906977, 0.1581151832460733, 0.13043478260869565, 0.09345794392523364], \"yaxis\": \"y\"}, {\"alignmentgroup\": \"True\", \"hovertemplate\": \"topic=education<br>username=%{x}<br>pct=%{y}<extra></extra>\", \"legendgroup\": \"education\", \"marker\": {\"color\": \"#ab63fa\"}, \"name\": \"education\", \"offsetgroup\": \"education\", \"orientation\": \"v\", \"showlegend\": true, \"textposition\": \"auto\", \"type\": \"bar\", \"x\": [\"AndrewYang\", \"BernieSanders\", \"BetoORourke\", \"BilldeBlasio\", \"CoryBooker\", \"GovernorBullock\", \"Hickenlooper\", \"JayInslee\", \"JoeBiden\", \"JoeSestak\", \"JohnDelaney\", \"JulianCastro\", \"KamalaHarris\", \"MichaelBennet\", \"PeteButtigieg\", \"SenGillibrand\", \"TimRyan\", \"TomSteyer\", \"TulsiGabbard\", \"WayneMessam\", \"amyklobuchar\", \"ericswalwell\", \"ewarren\", \"marwilliamson\", \"sethmoulton\"], \"xaxis\": \"x\", \"y\": [0.11948529411764706, 0.11764705882352941, 0.16666666666666666, 0.09285714285714286, 0.08478260869565217, 0.15328467153284672, 0.05141388174807198, 0.04143862392494136, 0.13114754098360656, 0.0851063829787234, 0.08236808236808237, 0.1455026455026455, 0.19398642095053345, 0.16911764705882354, 0.12217194570135746, 0.0825242718446602, 0.18294849023090587, 0.06878306878306878, 0.052941176470588235, 0.3018867924528302, 0.09557109557109557, 0.13488372093023257, 0.20418848167539266, 0.10973084886128365, 0.056074766355140186], \"yaxis\": \"y\"}, {\"alignmentgroup\": \"True\", \"hovertemplate\": \"topic=foreign_policy<br>username=%{x}<br>pct=%{y}<extra></extra>\", \"legendgroup\": \"foreign_policy\", \"marker\": {\"color\": \"#FFA15A\"}, \"name\": \"foreign_policy\", \"offsetgroup\": \"foreign_policy\", \"orientation\": \"v\", \"showlegend\": true, \"textposition\": \"auto\", \"type\": \"bar\", \"x\": [\"AndrewYang\", \"BernieSanders\", \"BetoORourke\", \"BilldeBlasio\", \"CoryBooker\", \"GovernorBullock\", \"Hickenlooper\", \"JayInslee\", \"JoeBiden\", \"JoeSestak\", \"JohnDelaney\", \"JulianCastro\", \"KamalaHarris\", \"MichaelBennet\", \"PeteButtigieg\", \"SenGillibrand\", \"TimRyan\", \"TomSteyer\", \"TulsiGabbard\", \"WayneMessam\", \"amyklobuchar\", \"ericswalwell\", \"ewarren\", \"marwilliamson\", \"sethmoulton\"], \"xaxis\": \"x\", \"y\": [0.003676470588235294, 0.0128928283642224, 0.010273972602739725, 0.007142857142857143, 0.008695652173913044, 0.004866180048661801, 0.017994858611825194, 0.0023455824863174357, 0.04371584699453552, 0.047872340425531915, 0.003861003861003861, 0.010582010582010581, 0.007759456838021339, 0.0, 0.027149321266968326, 0.012944983818770227, 0.012433392539964476, 0.007936507936507936, 0.11470588235294117, 0.022641509433962263, 0.006993006993006993, 0.01627906976744186, 0.0010471204188481676, 0.18012422360248448, 0.02102803738317757], \"yaxis\": \"y\"}, {\"alignmentgroup\": \"True\", \"hovertemplate\": \"topic=gun_control<br>username=%{x}<br>pct=%{y}<extra></extra>\", \"legendgroup\": \"gun_control\", \"marker\": {\"color\": \"#19d3f3\"}, \"name\": \"gun_control\", \"offsetgroup\": \"gun_control\", \"orientation\": \"v\", \"showlegend\": true, \"textposition\": \"auto\", \"type\": \"bar\", \"x\": [\"AndrewYang\", \"BernieSanders\", \"BetoORourke\", \"BilldeBlasio\", \"CoryBooker\", \"GovernorBullock\", \"Hickenlooper\", \"JayInslee\", \"JoeBiden\", \"JoeSestak\", \"JohnDelaney\", \"JulianCastro\", \"KamalaHarris\", \"MichaelBennet\", \"PeteButtigieg\", \"SenGillibrand\", \"TimRyan\", \"TomSteyer\", \"TulsiGabbard\", \"WayneMessam\", \"amyklobuchar\", \"ericswalwell\", \"ewarren\", \"marwilliamson\", \"sethmoulton\"], \"xaxis\": \"x\", \"y\": [0.03860294117647059, 0.030620467365028204, 0.09474885844748858, 0.07857142857142857, 0.23478260869565218, 0.072992700729927, 0.18508997429305912, 0.03205629397967162, 0.10109289617486339, 0.005319148936170213, 0.018018018018018018, 0.07407407407407407, 0.1425800193986421, 0.04656862745098039, 0.09502262443438914, 0.10032362459546926, 0.056838365896980464, 0.07142857142857142, 0.0029411764705882353, 0.1018867924528302, 0.13752913752913754, 0.4232558139534884, 0.06806282722513089, 0.037267080745341616, 0.0794392523364486], \"yaxis\": \"y\"}, {\"alignmentgroup\": \"True\", \"hovertemplate\": \"topic=health<br>username=%{x}<br>pct=%{y}<extra></extra>\", \"legendgroup\": \"health\", \"marker\": {\"color\": \"#FF6692\"}, \"name\": \"health\", \"offsetgroup\": \"health\", \"orientation\": \"v\", \"showlegend\": true, \"textposition\": \"auto\", \"type\": \"bar\", \"x\": [\"AndrewYang\", \"BernieSanders\", \"BetoORourke\", \"BilldeBlasio\", \"CoryBooker\", \"GovernorBullock\", \"Hickenlooper\", \"JayInslee\", \"JoeBiden\", \"JoeSestak\", \"JohnDelaney\", \"JulianCastro\", \"KamalaHarris\", \"MichaelBennet\", \"PeteButtigieg\", \"SenGillibrand\", \"TimRyan\", \"TomSteyer\", \"TulsiGabbard\", \"WayneMessam\", \"amyklobuchar\", \"ericswalwell\", \"ewarren\", \"marwilliamson\", \"sethmoulton\"], \"xaxis\": \"x\", \"y\": [0.09375, 0.2586623690572119, 0.14383561643835616, 0.20714285714285716, 0.13478260869565217, 0.0827250608272506, 0.11053984575835475, 0.05003909304143862, 0.19672131147540983, 0.11170212765957446, 0.1956241956241956, 0.09788359788359788, 0.2017458777885548, 0.30392156862745096, 0.1583710407239819, 0.20550161812297735, 0.22380106571936056, 0.04497354497354497, 0.06470588235294118, 0.04905660377358491, 0.19114219114219114, 0.08604651162790698, 0.09947643979057591, 0.09523809523809523, 0.14018691588785046], \"yaxis\": \"y\"}, {\"alignmentgroup\": \"True\", \"hovertemplate\": \"topic=immigration<br>username=%{x}<br>pct=%{y}<extra></extra>\", \"legendgroup\": \"immigration\", \"marker\": {\"color\": \"#B6E880\"}, \"name\": \"immigration\", \"offsetgroup\": \"immigration\", \"orientation\": \"v\", \"showlegend\": true, \"textposition\": \"auto\", \"type\": \"bar\", \"x\": [\"AndrewYang\", \"BernieSanders\", \"BetoORourke\", \"BilldeBlasio\", \"CoryBooker\", \"GovernorBullock\", \"Hickenlooper\", \"JayInslee\", \"JoeBiden\", \"JoeSestak\", \"JohnDelaney\", \"JulianCastro\", \"KamalaHarris\", \"MichaelBennet\", \"PeteButtigieg\", \"SenGillibrand\", \"TimRyan\", \"TomSteyer\", \"TulsiGabbard\", \"WayneMessam\", \"amyklobuchar\", \"ericswalwell\", \"ewarren\", \"marwilliamson\", \"sethmoulton\"], \"xaxis\": \"x\", \"y\": [0.04963235294117647, 0.0991136180499597, 0.18835616438356165, 0.1, 0.10652173913043478, 0.07785888077858881, 0.061696658097686374, 0.040656763096168884, 0.10109289617486339, 0.11702127659574468, 0.07464607464607464, 0.36772486772486773, 0.09117361784675072, 0.07107843137254902, 0.049773755656108594, 0.09223300970873786, 0.03197158081705151, 0.1455026455026455, 0.047058823529411764, 0.1320754716981132, 0.07226107226107226, 0.08372093023255814, 0.13717277486910995, 0.07660455486542443, 0.11448598130841121], \"yaxis\": \"y\"}, {\"alignmentgroup\": \"True\", \"hovertemplate\": \"topic=jobs<br>username=%{x}<br>pct=%{y}<extra></extra>\", \"legendgroup\": \"jobs\", \"marker\": {\"color\": \"#FF97FF\"}, \"name\": \"jobs\", \"offsetgroup\": \"jobs\", \"orientation\": \"v\", \"showlegend\": true, \"textposition\": \"auto\", \"type\": \"bar\", \"x\": [\"AndrewYang\", \"BernieSanders\", \"BetoORourke\", \"BilldeBlasio\", \"CoryBooker\", \"GovernorBullock\", \"Hickenlooper\", \"JayInslee\", \"JoeBiden\", \"JoeSestak\", \"JohnDelaney\", \"JulianCastro\", \"KamalaHarris\", \"MichaelBennet\", \"PeteButtigieg\", \"SenGillibrand\", \"TimRyan\", \"TomSteyer\", \"TulsiGabbard\", \"WayneMessam\", \"amyklobuchar\", \"ericswalwell\", \"ewarren\", \"marwilliamson\", \"sethmoulton\"], \"xaxis\": \"x\", \"y\": [0.2426470588235294, 0.17566478646253023, 0.07191780821917808, 0.22142857142857142, 0.1108695652173913, 0.18248175182481752, 0.15424164524421594, 0.08835027365129007, 0.11202185792349727, 0.0797872340425532, 0.15186615186615188, 0.07936507936507936, 0.1096023278370514, 0.06372549019607843, 0.13122171945701358, 0.08414239482200647, 0.14564831261101244, 0.10582010582010581, 0.07941176470588235, 0.15471698113207547, 0.09090909090909091, 0.044186046511627906, 0.12774869109947645, 0.12215320910973085, 0.08878504672897196], \"yaxis\": \"y\"}, {\"alignmentgroup\": \"True\", \"hovertemplate\": \"topic=military<br>username=%{x}<br>pct=%{y}<extra></extra>\", \"legendgroup\": \"military\", \"marker\": {\"color\": \"#FECB52\"}, \"name\": \"military\", \"offsetgroup\": \"military\", \"orientation\": \"v\", \"showlegend\": true, \"textposition\": \"auto\", \"type\": \"bar\", \"x\": [\"AndrewYang\", \"BernieSanders\", \"BetoORourke\", \"BilldeBlasio\", \"CoryBooker\", \"GovernorBullock\", \"Hickenlooper\", \"JayInslee\", \"JoeBiden\", \"JoeSestak\", \"JohnDelaney\", \"JulianCastro\", \"KamalaHarris\", \"MichaelBennet\", \"PeteButtigieg\", \"SenGillibrand\", \"TimRyan\", \"TomSteyer\", \"TulsiGabbard\", \"WayneMessam\", \"amyklobuchar\", \"ericswalwell\", \"ewarren\", \"marwilliamson\", \"sethmoulton\"], \"xaxis\": \"x\", \"y\": [0.06985294117647059, 0.058823529411764705, 0.10730593607305935, 0.05714285714285714, 0.07173913043478261, 0.07785888077858881, 0.05912596401028278, 0.0218921032056294, 0.0546448087431694, 0.1595744680851064, 0.047619047619047616, 0.037037037037037035, 0.02230843840931135, 0.03676470588235294, 0.13122171945701358, 0.0372168284789644, 0.05328596802841918, 0.047619047619047616, 0.47058823529411764, 0.01509433962264151, 0.04195804195804196, 0.08139534883720931, 0.030366492146596858, 0.16356107660455488, 0.2570093457943925], \"yaxis\": \"y\"}, {\"alignmentgroup\": \"True\", \"hovertemplate\": \"topic=repro_rights<br>username=%{x}<br>pct=%{y}<extra></extra>\", \"legendgroup\": \"repro_rights\", \"marker\": {\"color\": \"#636efa\"}, \"name\": \"repro_rights\", \"offsetgroup\": \"repro_rights\", \"orientation\": \"v\", \"showlegend\": true, \"textposition\": \"auto\", \"type\": \"bar\", \"x\": [\"AndrewYang\", \"BernieSanders\", \"BetoORourke\", \"BilldeBlasio\", \"CoryBooker\", \"GovernorBullock\", \"Hickenlooper\", \"JayInslee\", \"JoeBiden\", \"JoeSestak\", \"JohnDelaney\", \"JulianCastro\", \"KamalaHarris\", \"MichaelBennet\", \"PeteButtigieg\", \"SenGillibrand\", \"TimRyan\", \"TomSteyer\", \"TulsiGabbard\", \"WayneMessam\", \"amyklobuchar\", \"ericswalwell\", \"ewarren\", \"marwilliamson\", \"sethmoulton\"], \"xaxis\": \"x\", \"y\": [0.009191176470588236, 0.029008863819500404, 0.0273972602739726, 0.02857142857142857, 0.07173913043478261, 0.0072992700729927005, 0.038560411311053984, 0.04143862392494136, 0.0, 0.03723404255319149, 0.007722007722007722, 0.06349206349206349, 0.052376333656644035, 0.007352941176470588, 0.058823529411764705, 0.1796116504854369, 0.023090586145648313, 0.015873015873015872, 0.0029411764705882353, 0.007547169811320755, 0.018648018648018648, 0.027906976744186046, 0.04502617801047121, 0.010351966873706004, 0.011682242990654205], \"yaxis\": \"y\"}],                        {\"barmode\": \"relative\", \"legend\": {\"title\": {\"text\": \"topic\"}, \"tracegroupgap\": 0}, \"margin\": {\"t\": 60}, \"template\": {\"data\": {\"bar\": [{\"error_x\": {\"color\": \"#2a3f5f\"}, \"error_y\": {\"color\": \"#2a3f5f\"}, \"marker\": {\"line\": {\"color\": \"#E5ECF6\", \"width\": 0.5}}, \"type\": \"bar\"}], \"barpolar\": [{\"marker\": {\"line\": {\"color\": \"#E5ECF6\", \"width\": 0.5}}, \"type\": \"barpolar\"}], \"carpet\": [{\"aaxis\": {\"endlinecolor\": \"#2a3f5f\", \"gridcolor\": \"white\", \"linecolor\": \"white\", \"minorgridcolor\": \"white\", \"startlinecolor\": \"#2a3f5f\"}, \"baxis\": {\"endlinecolor\": \"#2a3f5f\", \"gridcolor\": \"white\", \"linecolor\": \"white\", \"minorgridcolor\": \"white\", \"startlinecolor\": \"#2a3f5f\"}, \"type\": \"carpet\"}], \"choropleth\": [{\"colorbar\": {\"outlinewidth\": 0, \"ticks\": \"\"}, \"type\": \"choropleth\"}], \"contour\": [{\"colorbar\": {\"outlinewidth\": 0, \"ticks\": \"\"}, \"colorscale\": [[0.0, \"#0d0887\"], [0.1111111111111111, \"#46039f\"], [0.2222222222222222, \"#7201a8\"], [0.3333333333333333, \"#9c179e\"], [0.4444444444444444, \"#bd3786\"], [0.5555555555555556, \"#d8576b\"], [0.6666666666666666, \"#ed7953\"], [0.7777777777777778, \"#fb9f3a\"], [0.8888888888888888, \"#fdca26\"], [1.0, \"#f0f921\"]], \"type\": \"contour\"}], \"contourcarpet\": [{\"colorbar\": {\"outlinewidth\": 0, \"ticks\": \"\"}, \"type\": \"contourcarpet\"}], \"heatmap\": [{\"colorbar\": {\"outlinewidth\": 0, \"ticks\": \"\"}, \"colorscale\": [[0.0, \"#0d0887\"], [0.1111111111111111, \"#46039f\"], [0.2222222222222222, \"#7201a8\"], [0.3333333333333333, \"#9c179e\"], [0.4444444444444444, \"#bd3786\"], [0.5555555555555556, \"#d8576b\"], [0.6666666666666666, \"#ed7953\"], [0.7777777777777778, \"#fb9f3a\"], [0.8888888888888888, \"#fdca26\"], [1.0, \"#f0f921\"]], \"type\": \"heatmap\"}], \"heatmapgl\": [{\"colorbar\": {\"outlinewidth\": 0, \"ticks\": \"\"}, \"colorscale\": [[0.0, \"#0d0887\"], [0.1111111111111111, \"#46039f\"], [0.2222222222222222, \"#7201a8\"], [0.3333333333333333, \"#9c179e\"], [0.4444444444444444, \"#bd3786\"], [0.5555555555555556, \"#d8576b\"], [0.6666666666666666, \"#ed7953\"], [0.7777777777777778, \"#fb9f3a\"], [0.8888888888888888, \"#fdca26\"], [1.0, \"#f0f921\"]], \"type\": \"heatmapgl\"}], \"histogram\": [{\"marker\": {\"colorbar\": {\"outlinewidth\": 0, \"ticks\": \"\"}}, \"type\": \"histogram\"}], \"histogram2d\": [{\"colorbar\": {\"outlinewidth\": 0, \"ticks\": \"\"}, \"colorscale\": [[0.0, \"#0d0887\"], [0.1111111111111111, \"#46039f\"], [0.2222222222222222, \"#7201a8\"], [0.3333333333333333, \"#9c179e\"], [0.4444444444444444, \"#bd3786\"], [0.5555555555555556, \"#d8576b\"], [0.6666666666666666, \"#ed7953\"], [0.7777777777777778, \"#fb9f3a\"], [0.8888888888888888, \"#fdca26\"], [1.0, \"#f0f921\"]], \"type\": \"histogram2d\"}], \"histogram2dcontour\": [{\"colorbar\": {\"outlinewidth\": 0, \"ticks\": \"\"}, \"colorscale\": [[0.0, \"#0d0887\"], [0.1111111111111111, \"#46039f\"], [0.2222222222222222, \"#7201a8\"], [0.3333333333333333, \"#9c179e\"], [0.4444444444444444, \"#bd3786\"], [0.5555555555555556, \"#d8576b\"], [0.6666666666666666, \"#ed7953\"], [0.7777777777777778, \"#fb9f3a\"], [0.8888888888888888, \"#fdca26\"], [1.0, \"#f0f921\"]], \"type\": \"histogram2dcontour\"}], \"mesh3d\": [{\"colorbar\": {\"outlinewidth\": 0, \"ticks\": \"\"}, \"type\": \"mesh3d\"}], \"parcoords\": [{\"line\": {\"colorbar\": {\"outlinewidth\": 0, \"ticks\": \"\"}}, \"type\": \"parcoords\"}], \"pie\": [{\"automargin\": true, \"type\": \"pie\"}], \"scatter\": [{\"marker\": {\"colorbar\": {\"outlinewidth\": 0, \"ticks\": \"\"}}, \"type\": \"scatter\"}], \"scatter3d\": [{\"line\": {\"colorbar\": {\"outlinewidth\": 0, \"ticks\": \"\"}}, \"marker\": {\"colorbar\": {\"outlinewidth\": 0, \"ticks\": \"\"}}, \"type\": \"scatter3d\"}], \"scattercarpet\": [{\"marker\": {\"colorbar\": {\"outlinewidth\": 0, \"ticks\": \"\"}}, \"type\": \"scattercarpet\"}], \"scattergeo\": [{\"marker\": {\"colorbar\": {\"outlinewidth\": 0, \"ticks\": \"\"}}, \"type\": \"scattergeo\"}], \"scattergl\": [{\"marker\": {\"colorbar\": {\"outlinewidth\": 0, \"ticks\": \"\"}}, \"type\": \"scattergl\"}], \"scattermapbox\": [{\"marker\": {\"colorbar\": {\"outlinewidth\": 0, \"ticks\": \"\"}}, \"type\": \"scattermapbox\"}], \"scatterpolar\": [{\"marker\": {\"colorbar\": {\"outlinewidth\": 0, \"ticks\": \"\"}}, \"type\": \"scatterpolar\"}], \"scatterpolargl\": [{\"marker\": {\"colorbar\": {\"outlinewidth\": 0, \"ticks\": \"\"}}, \"type\": \"scatterpolargl\"}], \"scatterternary\": [{\"marker\": {\"colorbar\": {\"outlinewidth\": 0, \"ticks\": \"\"}}, \"type\": \"scatterternary\"}], \"surface\": [{\"colorbar\": {\"outlinewidth\": 0, \"ticks\": \"\"}, \"colorscale\": [[0.0, \"#0d0887\"], [0.1111111111111111, \"#46039f\"], [0.2222222222222222, \"#7201a8\"], [0.3333333333333333, \"#9c179e\"], [0.4444444444444444, \"#bd3786\"], [0.5555555555555556, \"#d8576b\"], [0.6666666666666666, \"#ed7953\"], [0.7777777777777778, \"#fb9f3a\"], [0.8888888888888888, \"#fdca26\"], [1.0, \"#f0f921\"]], \"type\": \"surface\"}], \"table\": [{\"cells\": {\"fill\": {\"color\": \"#EBF0F8\"}, \"line\": {\"color\": \"white\"}}, \"header\": {\"fill\": {\"color\": \"#C8D4E3\"}, \"line\": {\"color\": \"white\"}}, \"type\": \"table\"}]}, \"layout\": {\"annotationdefaults\": {\"arrowcolor\": \"#2a3f5f\", \"arrowhead\": 0, \"arrowwidth\": 1}, \"coloraxis\": {\"colorbar\": {\"outlinewidth\": 0, \"ticks\": \"\"}}, \"colorscale\": {\"diverging\": [[0, \"#8e0152\"], [0.1, \"#c51b7d\"], [0.2, \"#de77ae\"], [0.3, \"#f1b6da\"], [0.4, \"#fde0ef\"], [0.5, \"#f7f7f7\"], [0.6, \"#e6f5d0\"], [0.7, \"#b8e186\"], [0.8, \"#7fbc41\"], [0.9, \"#4d9221\"], [1, \"#276419\"]], \"sequential\": [[0.0, \"#0d0887\"], [0.1111111111111111, \"#46039f\"], [0.2222222222222222, \"#7201a8\"], [0.3333333333333333, \"#9c179e\"], [0.4444444444444444, \"#bd3786\"], [0.5555555555555556, \"#d8576b\"], [0.6666666666666666, \"#ed7953\"], [0.7777777777777778, \"#fb9f3a\"], [0.8888888888888888, \"#fdca26\"], [1.0, \"#f0f921\"]], \"sequentialminus\": [[0.0, \"#0d0887\"], [0.1111111111111111, \"#46039f\"], [0.2222222222222222, \"#7201a8\"], [0.3333333333333333, \"#9c179e\"], [0.4444444444444444, \"#bd3786\"], [0.5555555555555556, \"#d8576b\"], [0.6666666666666666, \"#ed7953\"], [0.7777777777777778, \"#fb9f3a\"], [0.8888888888888888, \"#fdca26\"], [1.0, \"#f0f921\"]]}, \"colorway\": [\"#636efa\", \"#EF553B\", \"#00cc96\", \"#ab63fa\", \"#FFA15A\", \"#19d3f3\", \"#FF6692\", \"#B6E880\", \"#FF97FF\", \"#FECB52\"], \"font\": {\"color\": \"#2a3f5f\"}, \"geo\": {\"bgcolor\": \"white\", \"lakecolor\": \"white\", \"landcolor\": \"#E5ECF6\", \"showlakes\": true, \"showland\": true, \"subunitcolor\": \"white\"}, \"hoverlabel\": {\"align\": \"left\"}, \"hovermode\": \"closest\", \"mapbox\": {\"style\": \"light\"}, \"paper_bgcolor\": \"white\", \"plot_bgcolor\": \"#E5ECF6\", \"polar\": {\"angularaxis\": {\"gridcolor\": \"white\", \"linecolor\": \"white\", \"ticks\": \"\"}, \"bgcolor\": \"#E5ECF6\", \"radialaxis\": {\"gridcolor\": \"white\", \"linecolor\": \"white\", \"ticks\": \"\"}}, \"scene\": {\"xaxis\": {\"backgroundcolor\": \"#E5ECF6\", \"gridcolor\": \"white\", \"gridwidth\": 2, \"linecolor\": \"white\", \"showbackground\": true, \"ticks\": \"\", \"zerolinecolor\": \"white\"}, \"yaxis\": {\"backgroundcolor\": \"#E5ECF6\", \"gridcolor\": \"white\", \"gridwidth\": 2, \"linecolor\": \"white\", \"showbackground\": true, \"ticks\": \"\", \"zerolinecolor\": \"white\"}, \"zaxis\": {\"backgroundcolor\": \"#E5ECF6\", \"gridcolor\": \"white\", \"gridwidth\": 2, \"linecolor\": \"white\", \"showbackground\": true, \"ticks\": \"\", \"zerolinecolor\": \"white\"}}, \"shapedefaults\": {\"line\": {\"color\": \"#2a3f5f\"}}, \"ternary\": {\"aaxis\": {\"gridcolor\": \"white\", \"linecolor\": \"white\", \"ticks\": \"\"}, \"baxis\": {\"gridcolor\": \"white\", \"linecolor\": \"white\", \"ticks\": \"\"}, \"bgcolor\": \"#E5ECF6\", \"caxis\": {\"gridcolor\": \"white\", \"linecolor\": \"white\", \"ticks\": \"\"}}, \"title\": {\"x\": 0.05}, \"xaxis\": {\"automargin\": true, \"gridcolor\": \"white\", \"linecolor\": \"white\", \"ticks\": \"\", \"title\": {\"standoff\": 15}, \"zerolinecolor\": \"white\", \"zerolinewidth\": 2}, \"yaxis\": {\"automargin\": true, \"gridcolor\": \"white\", \"linecolor\": \"white\", \"ticks\": \"\", \"title\": {\"standoff\": 15}, \"zerolinecolor\": \"white\", \"zerolinewidth\": 2}}}, \"xaxis\": {\"anchor\": \"y\", \"domain\": [0.0, 1.0], \"title\": {\"text\": \"username\"}}, \"yaxis\": {\"anchor\": \"x\", \"domain\": [0.0, 1.0], \"title\": {\"text\": \"pct\"}}},                        {\"responsive\": true}                    ).then(function(){\n",
       "                            \n",
       "var gd = document.getElementById('24709443-b598-4592-acba-15bdd9c14ccd');\n",
       "var x = new MutationObserver(function (mutations, observer) {{\n",
       "        var display = window.getComputedStyle(gd).display;\n",
       "        if (!display || display === 'none') {{\n",
       "            console.log([gd, 'removed!']);\n",
       "            Plotly.purge(gd);\n",
       "            observer.disconnect();\n",
       "        }}\n",
       "}});\n",
       "\n",
       "// Listen for the removal of the full notebook cells\n",
       "var notebookContainer = gd.closest('#notebook-container');\n",
       "if (notebookContainer) {{\n",
       "    x.observe(notebookContainer, {childList: true});\n",
       "}}\n",
       "\n",
       "// Listen for the clearing of the current output cell\n",
       "var outputEl = gd.closest('.output');\n",
       "if (outputEl) {{\n",
       "    x.observe(outputEl, {childList: true});\n",
       "}}\n",
       "\n",
       "                        })                };                });            </script>        </div>"
      ]
     },
     "metadata": {},
     "output_type": "display_data"
    }
   ],
   "source": [
    "import plotly.express as px\n",
    "\n",
    "fig = px.bar(reshaped, x='username', y='pct', color='topic')\n",
    "fig.show()"
   ]
  },
  {
   "cell_type": "markdown",
   "metadata": {},
   "source": [
    "# Steamgraphs machen\n",
    "\n",
    "Streamgraphs sind eine Visualisierungstechnik, die nicht allzu oft verwendet wird, aber ich glaube die Leute mögen sie. Es ist eine Art gestapeltes Flächendiagramm, das vertikal zentriert ist und eine Handvoll Vor- und Nachteile enthält. \n",
    "\n",
    "Wir müssen zunächst das Datum typcasten."
   ]
  },
  {
   "cell_type": "code",
   "execution_count": 33,
   "metadata": {},
   "outputs": [
    {
     "data": {
      "text/html": [
       "<div>\n",
       "<style scoped>\n",
       "    .dataframe tbody tr th:only-of-type {\n",
       "        vertical-align: middle;\n",
       "    }\n",
       "\n",
       "    .dataframe tbody tr th {\n",
       "        vertical-align: top;\n",
       "    }\n",
       "\n",
       "    .dataframe thead th {\n",
       "        text-align: right;\n",
       "    }\n",
       "</style>\n",
       "<table border=\"1\" class=\"dataframe\">\n",
       "  <thead>\n",
       "    <tr style=\"text-align: right;\">\n",
       "      <th></th>\n",
       "      <th>username</th>\n",
       "      <th>text</th>\n",
       "      <th>date</th>\n",
       "      <th>climate_change</th>\n",
       "      <th>drugs</th>\n",
       "      <th>economy</th>\n",
       "      <th>education</th>\n",
       "      <th>foreign_policy</th>\n",
       "      <th>gun_control</th>\n",
       "      <th>health</th>\n",
       "      <th>immigration</th>\n",
       "      <th>jobs</th>\n",
       "      <th>military</th>\n",
       "      <th>repro_rights</th>\n",
       "    </tr>\n",
       "  </thead>\n",
       "  <tbody>\n",
       "    <tr>\n",
       "      <th>0</th>\n",
       "      <td>KamalaHarris</td>\n",
       "      <td>Keeping the Midland and Odessa community and the victims in my thoughts and prayers. Grateful to first responders who ran into harm's way. I’m sick of this. America is sick of this. We need to act.</td>\n",
       "      <td>2019-08-31 23:22:40+00:00</td>\n",
       "      <td>0</td>\n",
       "      <td>0</td>\n",
       "      <td>0</td>\n",
       "      <td>0</td>\n",
       "      <td>0</td>\n",
       "      <td>0</td>\n",
       "      <td>0</td>\n",
       "      <td>0</td>\n",
       "      <td>0</td>\n",
       "      <td>0</td>\n",
       "      <td>0</td>\n",
       "    </tr>\n",
       "    <tr>\n",
       "      <th>1</th>\n",
       "      <td>KamalaHarris</td>\n",
       "      <td>Today is the last day to give before our critical August fundraising deadline. Together, we’re building something special — and every dollar makes a difference to reaching more voters across the country. Chip in now.</td>\n",
       "      <td>2019-08-31 21:35:00+00:00</td>\n",
       "      <td>0</td>\n",
       "      <td>0</td>\n",
       "      <td>0</td>\n",
       "      <td>0</td>\n",
       "      <td>0</td>\n",
       "      <td>0</td>\n",
       "      <td>0</td>\n",
       "      <td>0</td>\n",
       "      <td>0</td>\n",
       "      <td>0</td>\n",
       "      <td>0</td>\n",
       "    </tr>\n",
       "  </tbody>\n",
       "</table>\n",
       "</div>"
      ],
      "text/plain": [
       "       username  \\\n",
       "0  KamalaHarris   \n",
       "1  KamalaHarris   \n",
       "\n",
       "                                                                                                                                                                                                                       text  \\\n",
       "0                     Keeping the Midland and Odessa community and the victims in my thoughts and prayers. Grateful to first responders who ran into harm's way. I’m sick of this. America is sick of this. We need to act.   \n",
       "1  Today is the last day to give before our critical August fundraising deadline. Together, we’re building something special — and every dollar makes a difference to reaching more voters across the country. Chip in now.   \n",
       "\n",
       "                       date  climate_change  drugs  economy  education  \\\n",
       "0 2019-08-31 23:22:40+00:00               0      0        0          0   \n",
       "1 2019-08-31 21:35:00+00:00               0      0        0          0   \n",
       "\n",
       "   foreign_policy  gun_control  health  immigration  jobs  military  \\\n",
       "0               0            0       0            0     0         0   \n",
       "1               0            0       0            0     0         0   \n",
       "\n",
       "   repro_rights  \n",
       "0             0  \n",
       "1             0  "
      ]
     },
     "execution_count": 33,
     "metadata": {},
     "output_type": "execute_result"
    }
   ],
   "source": [
    "# Convert the date to a datetime, then pull out the week\n",
    "df['date'] = pd.to_datetime(df.date)\n",
    "df.head(2)"
   ]
  },
  {
   "cell_type": "code",
   "execution_count": 34,
   "metadata": {},
   "outputs": [
    {
     "data": {
      "text/plain": [
       "username                       object\n",
       "text                           object\n",
       "date              datetime64[ns, UTC]\n",
       "climate_change                  int64\n",
       "drugs                           int64\n",
       "economy                         int64\n",
       "education                       int64\n",
       "foreign_policy                  int64\n",
       "gun_control                     int64\n",
       "health                          int64\n",
       "immigration                     int64\n",
       "jobs                            int64\n",
       "military                        int64\n",
       "repro_rights                    int64\n",
       "dtype: object"
      ]
     },
     "execution_count": 34,
     "metadata": {},
     "output_type": "execute_result"
    }
   ],
   "source": [
    "df.dtypes"
   ]
  },
  {
   "cell_type": "markdown",
   "metadata": {},
   "source": [
    "## Resampling"
   ]
  },
  {
   "cell_type": "markdown",
   "metadata": {},
   "source": [
    "Wir sehen jetzt, dass es ein datetime64 [ns, UTC] ist, was bedeutet, dass wir Dinge tun können, wie den Tag des Jahres oder den Monat oder die Woche herauszuholen! Wir wollen unsere Daten jedoch nach jeder Woche gruppieren."
   ]
  },
  {
   "cell_type": "markdown",
   "metadata": {},
   "source": [
    "Das Gruppieren nach Zeit heisst resampling auf und ist recht einfach. Wir werden die Tweets von Kamala Harris herausziehen und sie dann anhand der Datumsspalte in 8-Tage-Chunks resamplen."
   ]
  },
  {
   "cell_type": "code",
   "execution_count": 64,
   "metadata": {},
   "outputs": [
    {
     "data": {
      "text/html": [
       "<div>\n",
       "<style scoped>\n",
       "    .dataframe tbody tr th:only-of-type {\n",
       "        vertical-align: middle;\n",
       "    }\n",
       "\n",
       "    .dataframe tbody tr th {\n",
       "        vertical-align: top;\n",
       "    }\n",
       "\n",
       "    .dataframe thead th {\n",
       "        text-align: right;\n",
       "    }\n",
       "</style>\n",
       "<table border=\"1\" class=\"dataframe\">\n",
       "  <thead>\n",
       "    <tr style=\"text-align: right;\">\n",
       "      <th></th>\n",
       "      <th>climate_change</th>\n",
       "      <th>drugs</th>\n",
       "      <th>economy</th>\n",
       "      <th>education</th>\n",
       "      <th>foreign_policy</th>\n",
       "      <th>gun_control</th>\n",
       "      <th>health</th>\n",
       "      <th>immigration</th>\n",
       "      <th>jobs</th>\n",
       "      <th>military</th>\n",
       "      <th>repro_rights</th>\n",
       "    </tr>\n",
       "    <tr>\n",
       "      <th>date</th>\n",
       "      <th></th>\n",
       "      <th></th>\n",
       "      <th></th>\n",
       "      <th></th>\n",
       "      <th></th>\n",
       "      <th></th>\n",
       "      <th></th>\n",
       "      <th></th>\n",
       "      <th></th>\n",
       "      <th></th>\n",
       "      <th></th>\n",
       "    </tr>\n",
       "  </thead>\n",
       "  <tbody>\n",
       "    <tr>\n",
       "      <th>2019-01-01 00:00:00+00:00</th>\n",
       "      <td>3</td>\n",
       "      <td>1</td>\n",
       "      <td>5</td>\n",
       "      <td>2</td>\n",
       "      <td>0</td>\n",
       "      <td>1</td>\n",
       "      <td>6</td>\n",
       "      <td>4</td>\n",
       "      <td>5</td>\n",
       "      <td>0</td>\n",
       "      <td>0</td>\n",
       "    </tr>\n",
       "    <tr>\n",
       "      <th>2019-01-09 00:00:00+00:00</th>\n",
       "      <td>1</td>\n",
       "      <td>4</td>\n",
       "      <td>1</td>\n",
       "      <td>4</td>\n",
       "      <td>0</td>\n",
       "      <td>2</td>\n",
       "      <td>6</td>\n",
       "      <td>3</td>\n",
       "      <td>2</td>\n",
       "      <td>1</td>\n",
       "      <td>0</td>\n",
       "    </tr>\n",
       "    <tr>\n",
       "      <th>2019-01-17 00:00:00+00:00</th>\n",
       "      <td>1</td>\n",
       "      <td>0</td>\n",
       "      <td>1</td>\n",
       "      <td>7</td>\n",
       "      <td>0</td>\n",
       "      <td>1</td>\n",
       "      <td>5</td>\n",
       "      <td>7</td>\n",
       "      <td>7</td>\n",
       "      <td>0</td>\n",
       "      <td>1</td>\n",
       "    </tr>\n",
       "    <tr>\n",
       "      <th>2019-01-25 00:00:00+00:00</th>\n",
       "      <td>2</td>\n",
       "      <td>1</td>\n",
       "      <td>6</td>\n",
       "      <td>5</td>\n",
       "      <td>0</td>\n",
       "      <td>4</td>\n",
       "      <td>9</td>\n",
       "      <td>5</td>\n",
       "      <td>5</td>\n",
       "      <td>0</td>\n",
       "      <td>1</td>\n",
       "    </tr>\n",
       "    <tr>\n",
       "      <th>2019-02-02 00:00:00+00:00</th>\n",
       "      <td>2</td>\n",
       "      <td>3</td>\n",
       "      <td>5</td>\n",
       "      <td>4</td>\n",
       "      <td>1</td>\n",
       "      <td>3</td>\n",
       "      <td>5</td>\n",
       "      <td>6</td>\n",
       "      <td>3</td>\n",
       "      <td>1</td>\n",
       "      <td>2</td>\n",
       "    </tr>\n",
       "  </tbody>\n",
       "</table>\n",
       "</div>"
      ],
      "text/plain": [
       "                           climate_change  drugs  economy  education  \\\n",
       "date                                                                   \n",
       "2019-01-01 00:00:00+00:00               3      1        5          2   \n",
       "2019-01-09 00:00:00+00:00               1      4        1          4   \n",
       "2019-01-17 00:00:00+00:00               1      0        1          7   \n",
       "2019-01-25 00:00:00+00:00               2      1        6          5   \n",
       "2019-02-02 00:00:00+00:00               2      3        5          4   \n",
       "\n",
       "                           foreign_policy  gun_control  health  immigration  \\\n",
       "date                                                                          \n",
       "2019-01-01 00:00:00+00:00               0            1       6            4   \n",
       "2019-01-09 00:00:00+00:00               0            2       6            3   \n",
       "2019-01-17 00:00:00+00:00               0            1       5            7   \n",
       "2019-01-25 00:00:00+00:00               0            4       9            5   \n",
       "2019-02-02 00:00:00+00:00               1            3       5            6   \n",
       "\n",
       "                           jobs  military  repro_rights  \n",
       "date                                                     \n",
       "2019-01-01 00:00:00+00:00     5         0             0  \n",
       "2019-01-09 00:00:00+00:00     2         1             0  \n",
       "2019-01-17 00:00:00+00:00     7         0             1  \n",
       "2019-01-25 00:00:00+00:00     5         0             1  \n",
       "2019-02-02 00:00:00+00:00     3         1             2  "
      ]
     },
     "execution_count": 64,
     "metadata": {},
     "output_type": "execute_result"
    }
   ],
   "source": [
    "# Resample and make it sum every 7 days\n",
    "harris = df[df.username == 'KamalaHarris'].resample('8D', on='date').sum()\n",
    "harris.head()"
   ]
  },
  {
   "cell_type": "markdown",
   "metadata": {},
   "source": [
    "Als Grafik"
   ]
  },
  {
   "cell_type": "code",
   "execution_count": 65,
   "metadata": {},
   "outputs": [
    {
     "data": {
      "text/plain": [
       "<matplotlib.legend.Legend at 0x12d8d9550>"
      ]
     },
     "execution_count": 65,
     "metadata": {},
     "output_type": "execute_result"
    },
    {
     "data": {
      "image/png": "[encoded data removed]",
      "text/plain": [
       "<Figure size 432x288 with 1 Axes>"
      ]
     },
     "metadata": {},
     "output_type": "display_data"
    }
   ],
   "source": [
    "ax = harris.plot(kind='area', stacked=True)\n",
    "\n",
    "# Move the legend off of the chart\n",
    "ax.legend(loc=(1.04,0))"
   ]
  },
  {
   "cell_type": "markdown",
   "metadata": {},
   "source": [
    "## Steamgraphs mit Matplotlib\n",
    "\n",
    "So wie bekommen wir Steamgraphs hin, gottseidank hat Matplotlib ein Beispiel"
   ]
  },
  {
   "cell_type": "code",
   "execution_count": 40,
   "metadata": {},
   "outputs": [
    {
     "data": {
      "text/plain": [
       "<matplotlib.legend.Legend at 0x131acea60>"
      ]
     },
     "execution_count": 40,
     "metadata": {},
     "output_type": "execute_result"
    },
    {
     "data": {
      "image/png": "[encoded data removed]",
      "text/plain": [
       "<Figure size 720x360 with 1 Axes>"
      ]
     },
     "metadata": {
      "needs_background": "light"
     },
     "output_type": "display_data"
    }
   ],
   "source": [
    "import matplotlib.pyplot as plt\n",
    "fig, ax = plt.subplots(figsize=(10,5))\n",
    "\n",
    "# Plot a stackplot - https://matplotlib.org/3.1.1/gallery/lines_bars_and_markers/stackplot_demo.html\n",
    "ax.stackplot(harris.index, harris.T, baseline='wiggle', labels=harris.columns)\n",
    "\n",
    "# Move the legend off of the chart\n",
    "ax.legend(loc=(1.04,0))"
   ]
  },
  {
   "cell_type": "markdown",
   "metadata": {},
   "source": [
    "Sieht ok aus aber so zackig. Wir können nicht einfach sagen: \"Zeichne glatte Linien!\" Matplotlib benötigt echte Daten. Es ist sehr zackig, weil die Daten derzeit nur alle acht Tage vorliegen und jedees Mal ein sehr scharfer Sprung zum nächsten sein kann."
   ]
  },
  {
   "cell_type": "markdown",
   "metadata": {},
   "source": [
    "### Glätten mit Pandas"
   ]
  },
  {
   "cell_type": "markdown",
   "metadata": {},
   "source": [
    "Wir tun so, als hätten wir alle zwei Tage Daten.  Zuerst machen wir eine Liste aller Tage, die wir existieren wollen."
   ]
  },
  {
   "cell_type": "code",
   "execution_count": 41,
   "metadata": {},
   "outputs": [
    {
     "data": {
      "text/plain": [
       "DatetimeIndex(['2019-01-01 00:00:00+00:00', '2019-01-03 00:00:00+00:00',\n",
       "               '2019-01-05 00:00:00+00:00', '2019-01-07 00:00:00+00:00',\n",
       "               '2019-01-09 00:00:00+00:00', '2019-01-11 00:00:00+00:00',\n",
       "               '2019-01-13 00:00:00+00:00', '2019-01-15 00:00:00+00:00',\n",
       "               '2019-01-17 00:00:00+00:00', '2019-01-19 00:00:00+00:00'],\n",
       "              dtype='datetime64[ns, UTC]', freq='2D')"
      ]
     },
     "execution_count": 41,
     "metadata": {},
     "output_type": "execute_result"
    }
   ],
   "source": [
    "# Make a list of dates between the first and last \n",
    "first = harris.index.min()\n",
    "last = harris.index.max()\n",
    "\n",
    "# Go between the first and the last in 2-day chunks\n",
    "frequency = pd.date_range(start=first, end=last, freq='2D')\n",
    "frequency[:10]"
   ]
  },
  {
   "cell_type": "markdown",
   "metadata": {},
   "source": [
    "Jetzt werden wir sie unserem Dataframe hinzufügen. Die Daten werden fehlen, wenn wir die neuen Zeilen hinzufügen, da Pandas sicher sein kann was dort hin soll."
   ]
  },
  {
   "cell_type": "code",
   "execution_count": 42,
   "metadata": {},
   "outputs": [
    {
     "data": {
      "text/html": [
       "<div>\n",
       "<style scoped>\n",
       "    .dataframe tbody tr th:only-of-type {\n",
       "        vertical-align: middle;\n",
       "    }\n",
       "\n",
       "    .dataframe tbody tr th {\n",
       "        vertical-align: top;\n",
       "    }\n",
       "\n",
       "    .dataframe thead th {\n",
       "        text-align: right;\n",
       "    }\n",
       "</style>\n",
       "<table border=\"1\" class=\"dataframe\">\n",
       "  <thead>\n",
       "    <tr style=\"text-align: right;\">\n",
       "      <th></th>\n",
       "      <th>climate_change</th>\n",
       "      <th>drugs</th>\n",
       "      <th>economy</th>\n",
       "      <th>education</th>\n",
       "      <th>foreign_policy</th>\n",
       "      <th>gun_control</th>\n",
       "      <th>health</th>\n",
       "      <th>immigration</th>\n",
       "      <th>jobs</th>\n",
       "      <th>military</th>\n",
       "      <th>repro_rights</th>\n",
       "    </tr>\n",
       "  </thead>\n",
       "  <tbody>\n",
       "    <tr>\n",
       "      <th>2019-01-01 00:00:00+00:00</th>\n",
       "      <td>3.0</td>\n",
       "      <td>1.0</td>\n",
       "      <td>5.0</td>\n",
       "      <td>2.0</td>\n",
       "      <td>0.0</td>\n",
       "      <td>1.0</td>\n",
       "      <td>6.0</td>\n",
       "      <td>4.0</td>\n",
       "      <td>5.0</td>\n",
       "      <td>0.0</td>\n",
       "      <td>0.0</td>\n",
       "    </tr>\n",
       "    <tr>\n",
       "      <th>2019-01-03 00:00:00+00:00</th>\n",
       "      <td>NaN</td>\n",
       "      <td>NaN</td>\n",
       "      <td>NaN</td>\n",
       "      <td>NaN</td>\n",
       "      <td>NaN</td>\n",
       "      <td>NaN</td>\n",
       "      <td>NaN</td>\n",
       "      <td>NaN</td>\n",
       "      <td>NaN</td>\n",
       "      <td>NaN</td>\n",
       "      <td>NaN</td>\n",
       "    </tr>\n",
       "    <tr>\n",
       "      <th>2019-01-05 00:00:00+00:00</th>\n",
       "      <td>NaN</td>\n",
       "      <td>NaN</td>\n",
       "      <td>NaN</td>\n",
       "      <td>NaN</td>\n",
       "      <td>NaN</td>\n",
       "      <td>NaN</td>\n",
       "      <td>NaN</td>\n",
       "      <td>NaN</td>\n",
       "      <td>NaN</td>\n",
       "      <td>NaN</td>\n",
       "      <td>NaN</td>\n",
       "    </tr>\n",
       "    <tr>\n",
       "      <th>2019-01-07 00:00:00+00:00</th>\n",
       "      <td>NaN</td>\n",
       "      <td>NaN</td>\n",
       "      <td>NaN</td>\n",
       "      <td>NaN</td>\n",
       "      <td>NaN</td>\n",
       "      <td>NaN</td>\n",
       "      <td>NaN</td>\n",
       "      <td>NaN</td>\n",
       "      <td>NaN</td>\n",
       "      <td>NaN</td>\n",
       "      <td>NaN</td>\n",
       "    </tr>\n",
       "    <tr>\n",
       "      <th>2019-01-09 00:00:00+00:00</th>\n",
       "      <td>1.0</td>\n",
       "      <td>4.0</td>\n",
       "      <td>1.0</td>\n",
       "      <td>4.0</td>\n",
       "      <td>0.0</td>\n",
       "      <td>2.0</td>\n",
       "      <td>6.0</td>\n",
       "      <td>3.0</td>\n",
       "      <td>2.0</td>\n",
       "      <td>1.0</td>\n",
       "      <td>0.0</td>\n",
       "    </tr>\n",
       "    <tr>\n",
       "      <th>2019-01-11 00:00:00+00:00</th>\n",
       "      <td>NaN</td>\n",
       "      <td>NaN</td>\n",
       "      <td>NaN</td>\n",
       "      <td>NaN</td>\n",
       "      <td>NaN</td>\n",
       "      <td>NaN</td>\n",
       "      <td>NaN</td>\n",
       "      <td>NaN</td>\n",
       "      <td>NaN</td>\n",
       "      <td>NaN</td>\n",
       "      <td>NaN</td>\n",
       "    </tr>\n",
       "  </tbody>\n",
       "</table>\n",
       "</div>"
      ],
      "text/plain": [
       "                           climate_change  drugs  economy  education  \\\n",
       "2019-01-01 00:00:00+00:00             3.0    1.0      5.0        2.0   \n",
       "2019-01-03 00:00:00+00:00             NaN    NaN      NaN        NaN   \n",
       "2019-01-05 00:00:00+00:00             NaN    NaN      NaN        NaN   \n",
       "2019-01-07 00:00:00+00:00             NaN    NaN      NaN        NaN   \n",
       "2019-01-09 00:00:00+00:00             1.0    4.0      1.0        4.0   \n",
       "2019-01-11 00:00:00+00:00             NaN    NaN      NaN        NaN   \n",
       "\n",
       "                           foreign_policy  gun_control  health  immigration  \\\n",
       "2019-01-01 00:00:00+00:00             0.0          1.0     6.0          4.0   \n",
       "2019-01-03 00:00:00+00:00             NaN          NaN     NaN          NaN   \n",
       "2019-01-05 00:00:00+00:00             NaN          NaN     NaN          NaN   \n",
       "2019-01-07 00:00:00+00:00             NaN          NaN     NaN          NaN   \n",
       "2019-01-09 00:00:00+00:00             0.0          2.0     6.0          3.0   \n",
       "2019-01-11 00:00:00+00:00             NaN          NaN     NaN          NaN   \n",
       "\n",
       "                           jobs  military  repro_rights  \n",
       "2019-01-01 00:00:00+00:00   5.0       0.0           0.0  \n",
       "2019-01-03 00:00:00+00:00   NaN       NaN           NaN  \n",
       "2019-01-05 00:00:00+00:00   NaN       NaN           NaN  \n",
       "2019-01-07 00:00:00+00:00   NaN       NaN           NaN  \n",
       "2019-01-09 00:00:00+00:00   2.0       1.0           0.0  \n",
       "2019-01-11 00:00:00+00:00   NaN       NaN           NaN  "
      ]
     },
     "execution_count": 42,
     "metadata": {},
     "output_type": "execute_result"
    }
   ],
   "source": [
    "# Reindex our dataframe, adding a bunch of new days, but missing data!\n",
    "smooth = harris.reindex(frequency)\n",
    "smooth.head(6)"
   ]
  },
  {
   "cell_type": "markdown",
   "metadata": {},
   "source": [
    "Füllen wir diese Daten durch Interpolation aus. Wir werden Pandas sagen, dass er eine quadratische Interpolation verwenden soll, um es schön und glatt zu machen."
   ]
  },
  {
   "cell_type": "code",
   "execution_count": 43,
   "metadata": {},
   "outputs": [
    {
     "data": {
      "text/html": [
       "<div>\n",
       "<style scoped>\n",
       "    .dataframe tbody tr th:only-of-type {\n",
       "        vertical-align: middle;\n",
       "    }\n",
       "\n",
       "    .dataframe tbody tr th {\n",
       "        vertical-align: top;\n",
       "    }\n",
       "\n",
       "    .dataframe thead th {\n",
       "        text-align: right;\n",
       "    }\n",
       "</style>\n",
       "<table border=\"1\" class=\"dataframe\">\n",
       "  <thead>\n",
       "    <tr style=\"text-align: right;\">\n",
       "      <th></th>\n",
       "      <th>climate_change</th>\n",
       "      <th>drugs</th>\n",
       "      <th>economy</th>\n",
       "      <th>education</th>\n",
       "      <th>foreign_policy</th>\n",
       "      <th>gun_control</th>\n",
       "      <th>health</th>\n",
       "      <th>immigration</th>\n",
       "      <th>jobs</th>\n",
       "      <th>military</th>\n",
       "      <th>repro_rights</th>\n",
       "    </tr>\n",
       "  </thead>\n",
       "  <tbody>\n",
       "    <tr>\n",
       "      <th>2019-01-01 00:00:00+00:00</th>\n",
       "      <td>3.000000</td>\n",
       "      <td>1.000000</td>\n",
       "      <td>5.000000</td>\n",
       "      <td>2.000000</td>\n",
       "      <td>0.000000</td>\n",
       "      <td>1.000000</td>\n",
       "      <td>6.000000</td>\n",
       "      <td>4.000000</td>\n",
       "      <td>5.000000</td>\n",
       "      <td>0.000000</td>\n",
       "      <td>0.000000</td>\n",
       "    </tr>\n",
       "    <tr>\n",
       "      <th>2019-01-03 00:00:00+00:00</th>\n",
       "      <td>2.302575</td>\n",
       "      <td>2.607579</td>\n",
       "      <td>3.674880</td>\n",
       "      <td>2.294317</td>\n",
       "      <td>-0.004572</td>\n",
       "      <td>1.564950</td>\n",
       "      <td>6.232804</td>\n",
       "      <td>3.075563</td>\n",
       "      <td>3.237994</td>\n",
       "      <td>0.484092</td>\n",
       "      <td>-0.133987</td>\n",
       "    </tr>\n",
       "    <tr>\n",
       "      <th>2019-01-05 00:00:00+00:00</th>\n",
       "      <td>1.736766</td>\n",
       "      <td>3.643438</td>\n",
       "      <td>2.566507</td>\n",
       "      <td>2.725757</td>\n",
       "      <td>-0.006097</td>\n",
       "      <td>1.919933</td>\n",
       "      <td>6.310405</td>\n",
       "      <td>2.600751</td>\n",
       "      <td>2.150659</td>\n",
       "      <td>0.812123</td>\n",
       "      <td>-0.178649</td>\n",
       "    </tr>\n",
       "    <tr>\n",
       "      <th>2019-01-07 00:00:00+00:00</th>\n",
       "      <td>1.302575</td>\n",
       "      <td>4.107579</td>\n",
       "      <td>1.674880</td>\n",
       "      <td>3.294317</td>\n",
       "      <td>-0.004572</td>\n",
       "      <td>2.064950</td>\n",
       "      <td>6.232804</td>\n",
       "      <td>2.575563</td>\n",
       "      <td>1.737994</td>\n",
       "      <td>0.984092</td>\n",
       "      <td>-0.133987</td>\n",
       "    </tr>\n",
       "    <tr>\n",
       "      <th>2019-01-09 00:00:00+00:00</th>\n",
       "      <td>1.000000</td>\n",
       "      <td>4.000000</td>\n",
       "      <td>1.000000</td>\n",
       "      <td>4.000000</td>\n",
       "      <td>0.000000</td>\n",
       "      <td>2.000000</td>\n",
       "      <td>6.000000</td>\n",
       "      <td>3.000000</td>\n",
       "      <td>2.000000</td>\n",
       "      <td>1.000000</td>\n",
       "      <td>0.000000</td>\n",
       "    </tr>\n",
       "  </tbody>\n",
       "</table>\n",
       "</div>"
      ],
      "text/plain": [
       "                           climate_change     drugs   economy  education  \\\n",
       "2019-01-01 00:00:00+00:00        3.000000  1.000000  5.000000   2.000000   \n",
       "2019-01-03 00:00:00+00:00        2.302575  2.607579  3.674880   2.294317   \n",
       "2019-01-05 00:00:00+00:00        1.736766  3.643438  2.566507   2.725757   \n",
       "2019-01-07 00:00:00+00:00        1.302575  4.107579  1.674880   3.294317   \n",
       "2019-01-09 00:00:00+00:00        1.000000  4.000000  1.000000   4.000000   \n",
       "\n",
       "                           foreign_policy  gun_control    health  immigration  \\\n",
       "2019-01-01 00:00:00+00:00        0.000000     1.000000  6.000000     4.000000   \n",
       "2019-01-03 00:00:00+00:00       -0.004572     1.564950  6.232804     3.075563   \n",
       "2019-01-05 00:00:00+00:00       -0.006097     1.919933  6.310405     2.600751   \n",
       "2019-01-07 00:00:00+00:00       -0.004572     2.064950  6.232804     2.575563   \n",
       "2019-01-09 00:00:00+00:00        0.000000     2.000000  6.000000     3.000000   \n",
       "\n",
       "                               jobs  military  repro_rights  \n",
       "2019-01-01 00:00:00+00:00  5.000000  0.000000      0.000000  \n",
       "2019-01-03 00:00:00+00:00  3.237994  0.484092     -0.133987  \n",
       "2019-01-05 00:00:00+00:00  2.150659  0.812123     -0.178649  \n",
       "2019-01-07 00:00:00+00:00  1.737994  0.984092     -0.133987  \n",
       "2019-01-09 00:00:00+00:00  2.000000  1.000000      0.000000  "
      ]
     },
     "execution_count": 43,
     "metadata": {},
     "output_type": "execute_result"
    }
   ],
   "source": [
    "# Plan out 2-day chunks between the first and last days\n",
    "first = harris.index.min()\n",
    "last = harris.index.max()\n",
    "frequency = pd.date_range(start=first, end=last, freq='2D')\n",
    "\n",
    "# Inject the new (empty) rows, then interpolate new data\n",
    "smoothed = harris.reindex(frequency).interpolate(method='quadratic')\n",
    "smoothed.head()"
   ]
  },
  {
   "cell_type": "markdown",
   "metadata": {},
   "source": [
    "# Das Finale\n",
    "So jetzt probieren wir es nochmal"
   ]
  },
  {
   "cell_type": "code",
   "execution_count": 47,
   "metadata": {},
   "outputs": [
    {
     "data": {
      "text/plain": [
       "Text(0.5, 1.0, 'Kamala Harris twitter topics')"
      ]
     },
     "execution_count": 47,
     "metadata": {},
     "output_type": "execute_result"
    },
    {
     "data": {
      "image/png": "[encoded data removed]",
      "text/plain": [
       "<Figure size 720x360 with 1 Axes>"
      ]
     },
     "metadata": {},
     "output_type": "display_data"
    }
   ],
   "source": [
    "fig, ax = plt.subplots(figsize=(10,5))\n",
    "\n",
    "# Plot a stackplot - https://matplotlib.org/3.1.1/gallery/lines_bars_and_markers/stackplot_demo.html\n",
    "ax.stackplot(smoothed.index, smoothed.T,\n",
    "             baseline='wiggle', labels=smoothed.columns)\n",
    "\n",
    "# Move the legend off of the chart\n",
    "ax.legend(loc=(1.04,0))\n",
    "\n",
    "# Set the title\n",
    "ax.set_title(\"Kamala Harris twitter topics\")"
   ]
  },
  {
   "cell_type": "markdown",
   "metadata": {},
   "source": [
    "In hübsch"
   ]
  },
  {
   "cell_type": "code",
   "execution_count": 46,
   "metadata": {},
   "outputs": [],
   "source": [
    "plt.style.use('ggplot')"
   ]
  }
 ],
 "metadata": {
  "kernelspec": {
   "display_name": "Python 3",
   "language": "python",
   "name": "python3"
  },
  "language_info": {
   "codemirror_mode": {
    "name": "ipython",
    "version": 3
   },
   "file_extension": ".py",
   "mimetype": "text/x-python",
   "name": "python",
   "nbconvert_exporter": "python",
   "pygments_lexer": "ipython3",
   "version": "3.8.6"
  },
  "toc": {
   "base_numbering": 1,
   "nav_menu": {},
   "number_sections": true,
   "sideBar": true,
   "skip_h1_title": false,
   "title_cell": "Table of Contents",
   "title_sidebar": "Contents",
   "toc_cell": false,
   "toc_position": {},
   "toc_section_display": true,
   "toc_window_display": false
  }
 },
 "nbformat": 4,
 "nbformat_minor": 2
}
