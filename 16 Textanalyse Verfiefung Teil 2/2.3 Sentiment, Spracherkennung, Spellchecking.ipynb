{
 "cells": [
  {
   "cell_type": "markdown",
   "metadata": {},
   "source": [
    "# Sentiment\n",
    "- Sentiment detection ist bei Texten ein relativ altes Thema\n",
    "- Seit Deep Learning sind die \"alten\" Methoden abgeschlagen\n",
    "- Allerdings ist es nicht ganz trivial einen eigenen Classifier für Deep Learning zu schreiben \n",
    "- Wenn ihr est trotzdem mal probieren wollt, dann findet ihr eine Anleitung in meinem Blog Post:\n",
    "    - https://www.liip.ch/en/blog/sentiment-detection-with-keras-word-embeddings-and-lstm-deep-learning-networks"
   ]
  },
  {
   "cell_type": "code",
<<<<<<< HEAD
   "execution_count": 1,
=======
   "execution_count": 6,
>>>>>>> 250bf4864f359be7405f0b88af8cc697298523a4
   "metadata": {},
   "outputs": [],
   "source": [
    "from textblob_de import TextBlobDE\n",
    "#from textblob import TexBlob"
   ]
  },
  {
   "cell_type": "code",
<<<<<<< HEAD
   "execution_count": 3,
   "metadata": {},
   "outputs": [],
   "source": [
    "#TextBlobDE(u\"Das Auto ist sehr schön!\").sentiment"
=======
   "execution_count": 14,
   "metadata": {},
   "outputs": [
    {
     "data": {
      "text/plain": [
       "Sentiment(polarity=1.0, subjectivity=0.0)"
      ]
     },
     "execution_count": 14,
     "metadata": {},
     "output_type": "execute_result"
    }
   ],
   "source": [
    "TextBlobDE(u\"Das Auto ist sehr schön!\").sentiment"
>>>>>>> 250bf4864f359be7405f0b88af8cc697298523a4
   ]
  },
  {
   "cell_type": "code",
   "execution_count": 8,
   "metadata": {},
   "outputs": [
    {
     "data": {
      "text/plain": [
       "Sentiment(polarity=-1.0, subjectivity=0.0)"
      ]
     },
     "execution_count": 8,
     "metadata": {},
     "output_type": "execute_result"
    }
   ],
   "source": [
    "blob = TextBlobDE(u\"Das ist ein hässliches Auto.\")     \n",
    "blob.sentiment"
   ]
  },
  {
   "cell_type": "code",
   "execution_count": 12,
   "metadata": {},
   "outputs": [
    {
     "data": {
      "text/plain": [
       "Sentiment(polarity=-1.0, subjectivity=0.0)"
      ]
     },
     "execution_count": 12,
     "metadata": {},
     "output_type": "execute_result"
    }
   ],
   "source": [
    "blob = TextBlobDE(u\"Ich bin furchtbar sauer!\")\n",
    "blob.sentiment"
   ]
  },
  {
   "cell_type": "code",
   "execution_count": 13,
   "metadata": {},
   "outputs": [
    {
     "data": {
      "text/plain": [
       "Sentiment(polarity=0.0, subjectivity=0.0)"
      ]
     },
     "execution_count": 13,
     "metadata": {},
     "output_type": "execute_result"
    }
   ],
   "source": [
    "blob = TextBlobDE(u\"Das ist ein neutraler Satz.\")\n",
    "blob.sentiment"
   ]
  },
  {
   "cell_type": "markdown",
   "metadata": {},
   "source": [
    "# Spracherkennung\n",
    "- wiederum ein einfaches Thema wird z.B. von TextblobDE unterstützt"
   ]
  },
  {
   "cell_type": "code",
<<<<<<< HEAD
   "execution_count": 5,
=======
   "execution_count": 15,
>>>>>>> 250bf4864f359be7405f0b88af8cc697298523a4
   "metadata": {},
   "outputs": [
    {
     "data": {
      "text/plain": [
<<<<<<< HEAD
       "'de'"
      ]
     },
     "execution_count": 5,
=======
       "u'de'"
      ]
     },
     "execution_count": 15,
>>>>>>> 250bf4864f359be7405f0b88af8cc697298523a4
     "metadata": {},
     "output_type": "execute_result"
    }
   ],
   "source": [
    "TextBlobDE(u\"Ich gehe ins Schwimmbad\").detect_language()"
   ]
  },
  {
   "cell_type": "code",
<<<<<<< HEAD
   "execution_count": 6,
=======
   "execution_count": 16,
>>>>>>> 250bf4864f359be7405f0b88af8cc697298523a4
   "metadata": {},
   "outputs": [
    {
     "data": {
      "text/plain": [
<<<<<<< HEAD
       "'pl'"
      ]
     },
     "execution_count": 6,
=======
       "u'pl'"
      ]
     },
     "execution_count": 16,
>>>>>>> 250bf4864f359be7405f0b88af8cc697298523a4
     "metadata": {},
     "output_type": "execute_result"
    }
   ],
   "source": [
    "TextBlobDE(u\"Ide plywac\").detect_language()"
   ]
  },
  {
   "cell_type": "code",
<<<<<<< HEAD
   "execution_count": 7,
=======
   "execution_count": 17,
>>>>>>> 250bf4864f359be7405f0b88af8cc697298523a4
   "metadata": {},
   "outputs": [
    {
     "data": {
      "text/plain": [
<<<<<<< HEAD
       "'en'"
      ]
     },
     "execution_count": 7,
=======
       "u'en'"
      ]
     },
     "execution_count": 17,
>>>>>>> 250bf4864f359be7405f0b88af8cc697298523a4
     "metadata": {},
     "output_type": "execute_result"
    }
   ],
   "source": [
    "TextBlobDE(u\"I am going to the swimming pool\").detect_language()"
   ]
  },
  {
   "cell_type": "code",
<<<<<<< HEAD
   "execution_count": 8,
=======
   "execution_count": 18,
>>>>>>> 250bf4864f359be7405f0b88af8cc697298523a4
   "metadata": {},
   "outputs": [
    {
     "data": {
      "text/plain": [
<<<<<<< HEAD
       "'pt'"
      ]
     },
     "execution_count": 8,
=======
       "u'pt'"
      ]
     },
     "execution_count": 18,
>>>>>>> 250bf4864f359be7405f0b88af8cc697298523a4
     "metadata": {},
     "output_type": "execute_result"
    }
   ],
   "source": [
    "TextBlobDE(\"Eu vou ao trem\").detect_language()"
   ]
  },
  {
   "cell_type": "markdown",
   "metadata": {},
   "source": [
    "# Spellchecking"
   ]
  },
  {
   "cell_type": "markdown",
   "metadata": {},
   "source": [
    "- Geht aktuell leider nur auf englisch. \n",
    "- Damit könnt ihr zumindest Eure englisch sprachigen Kollegen kontrollieren.  "
   ]
  },
  {
   "cell_type": "code",
<<<<<<< HEAD
   "execution_count": 9,
=======
   "execution_count": 27,
>>>>>>> 250bf4864f359be7405f0b88af8cc697298523a4
   "metadata": {},
   "outputs": [
    {
     "data": {
      "text/plain": [
       "TextBlob(\"Writing easy sentences in english is easy but the do have to be correct.\")"
      ]
     },
<<<<<<< HEAD
     "execution_count": 9,
=======
     "execution_count": 27,
>>>>>>> 250bf4864f359be7405f0b88af8cc697298523a4
     "metadata": {},
     "output_type": "execute_result"
    }
   ],
   "source": [
    "from textblob import TextBlob\n",
    "blob = TextBlob(u'Writing easy sentences in english is easy but thei do hafe to be korrekt.')\n",
    "blob.correct()"
   ]
  },
  {
   "cell_type": "code",
<<<<<<< HEAD
   "execution_count": 11,
=======
   "execution_count": 29,
>>>>>>> 250bf4864f359be7405f0b88af8cc697298523a4
   "metadata": {},
   "outputs": [
    {
     "data": {
      "text/plain": [
<<<<<<< HEAD
       "[('have', 0.9694698862059395),\n",
       " ('safe', 0.013044684984734944),\n",
       " ('hare', 0.009991673605328892),\n",
       " ('hate', 0.005550929780738274),\n",
       " ('haze', 0.0011101859561476548),\n",
       " ('hale', 0.0002775464890369137),\n",
       " ('chafe', 0.0002775464890369137),\n",
       " ('cafe', 0.0002775464890369137)]"
      ]
     },
     "execution_count": 11,
=======
       "[(u'have', 0.9694698862059395),\n",
       " (u'safe', 0.013044684984734944),\n",
       " (u'hare', 0.009991673605328892),\n",
       " (u'hate', 0.005550929780738274),\n",
       " (u'haze', 0.0011101859561476548),\n",
       " (u'hale', 0.0002775464890369137),\n",
       " (u'chafe', 0.0002775464890369137),\n",
       " (u'cafe', 0.0002775464890369137)]"
      ]
     },
     "execution_count": 29,
>>>>>>> 250bf4864f359be7405f0b88af8cc697298523a4
     "metadata": {},
     "output_type": "execute_result"
    }
   ],
   "source": [
    "blob.words[10].spellcheck()"
   ]
  },
  {
   "cell_type": "code",
   "execution_count": null,
   "metadata": {},
   "outputs": [],
   "source": []
  }
 ],
 "metadata": {
  "kernelspec": {
   "display_name": "Python 3",
   "language": "python",
   "name": "python3"
  },
  "language_info": {
   "codemirror_mode": {
    "name": "ipython",
<<<<<<< HEAD
    "version": 3
=======
    "version": 2
>>>>>>> 250bf4864f359be7405f0b88af8cc697298523a4
   },
   "file_extension": ".py",
   "mimetype": "text/x-python",
   "name": "python",
   "nbconvert_exporter": "python",
<<<<<<< HEAD
   "pygments_lexer": "ipython3",
   "version": "3.8.6"
=======
   "pygments_lexer": "ipython2",
   "version": "2.7.15"
>>>>>>> 250bf4864f359be7405f0b88af8cc697298523a4
  }
 },
 "nbformat": 4,
 "nbformat_minor": 2
}
