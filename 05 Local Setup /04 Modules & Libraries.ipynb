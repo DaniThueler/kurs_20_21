{
 "cells": [
  {
   "cell_type": "markdown",
   "metadata": {},
   "source": [
    "## 04 Modules & Libraries"
   ]
  },
  {
   "cell_type": "markdown",
   "metadata": {},
   "source": [
    "### Modules"
   ]
  },
  {
   "cell_type": "markdown",
   "metadata": {},
   "source": [
    "Ein Module ist nichts anderes als eine Ansammlung von Funktionen, die gezielt abgerufen werden kann. Zuert kommt dabei der Name des Modules und dann die eigentliche Funktion, die man abrufen will. Aber gehen wir zu erst einen Schritt zurück. Erinnern wir uns daran, wie Functions gebaut werden. "
   ]
  },
  {
   "cell_type": "code",
   "execution_count": 6,
   "metadata": {},
   "outputs": [],
   "source": [
    "def numeric_compare(x, y):\n",
    "    return x - y"
   ]
  },
  {
   "cell_type": "code",
   "execution_count": 7,
   "metadata": {},
   "outputs": [
    {
     "data": {
      "text/plain": [
       "-1"
      ]
     },
     "execution_count": 7,
     "metadata": {},
     "output_type": "execute_result"
    }
   ],
   "source": [
    "numeric_compare(4,5)"
   ]
  },
  {
   "cell_type": "markdown",
   "metadata": {},
   "source": [
    "Ein Module enthält ganz viele solche Funktionen, die man dann gezielt abrufen kann. Das allererste Module, dass wir anschauen wollen, sind so genannte Regular Expression. Das Modul heisst ```re```. Bestücken wir nun also unser Python damit."
   ]
  },
  {
   "cell_type": "code",
   "execution_count": 8,
   "metadata": {},
   "outputs": [],
   "source": [
    "import re"
   ]
  },
  {
   "cell_type": "markdown",
   "metadata": {},
   "source": [
    "Mit ```re``` können wir in Texten gezielt Informationen suchen. Um zu lernen, wie wir am besten damit arbeiten können, suchen wir die Dokumentation. [Modul re](https://docs.python.org/3/library/re.html). Und lesen uns hier etwas ein. (Wem es langweilig wird, der sollte am besten direkt zu den Beispielen springen. Das tue ich oft)"
   ]
  },
  {
   "cell_type": "code",
   "execution_count": 9,
   "metadata": {},
   "outputs": [
    {
     "data": {
      "text/plain": [
       "'def'"
      ]
     },
     "execution_count": 9,
     "metadata": {},
     "output_type": "execute_result"
    }
   ],
   "source": [
    "m = re.search('(?<=abc)def', 'abcdef')\n",
    "m.group(0)"
   ]
  },
  {
   "cell_type": "code",
   "execution_count": null,
   "metadata": {},
   "outputs": [],
   "source": []
  },
  {
   "cell_type": "code",
   "execution_count": null,
   "metadata": {},
   "outputs": [],
   "source": []
  },
  {
   "cell_type": "markdown",
   "metadata": {},
   "source": [
    "### Libraries"
   ]
  },
  {
   "cell_type": "markdown",
   "metadata": {},
   "source": [
    "Sie sind nichts anderes als eine Sammlung von Python Modules, die einen übergeordneten Zweck erfüllen. Die wichtigsten, die wir in diesem Kurs anschauen werden, sind:\n",
    "- [```os```](https://docs.python.org/3/library/os.html)\n",
    "- [```re```]\n",
    "- [```requests```](https://requests.readthedocs.io/en/master/)\n",
    "- [```BeautifulSoup```](https://www.crummy.com/software/BeautifulSoup/bs4/doc/)\n",
    "- [```Pandas```](https://pandas.pydata.org/)\n",
    "- [```Selenium```](https://selenium-python.readthedocs.io/)"
   ]
  },
  {
   "cell_type": "markdown",
   "metadata": {},
   "source": [
    "Und wie wir das bei den Modules kennen, lassen sich sich mit einem einfachen Befehl importieren."
   ]
  },
  {
   "cell_type": "code",
   "execution_count": 9,
   "metadata": {},
   "outputs": [],
   "source": [
    "import os # Module"
   ]
  },
  {
   "cell_type": "code",
   "execution_count": 10,
   "metadata": {},
   "outputs": [],
   "source": [
    "import re # Module"
   ]
  },
  {
   "cell_type": "code",
   "execution_count": 8,
   "metadata": {},
   "outputs": [],
   "source": [
    "import requests #Library"
   ]
  },
  {
   "cell_type": "code",
   "execution_count": 6,
   "metadata": {},
   "outputs": [],
   "source": [
    "from bs4 import BeautifulSoup #Library "
   ]
  },
  {
   "cell_type": "code",
   "execution_count": 5,
   "metadata": {},
   "outputs": [],
   "source": [
    "import pandas as pd #Library"
   ]
  },
  {
   "cell_type": "code",
   "execution_count": null,
   "metadata": {},
   "outputs": [],
   "source": [
    "#Import Selenium (muss noch installiert werden, -> erledigen)\n"
   ]
  }
 ],
 "metadata": {
  "kernelspec": {
   "display_name": "Python 3",
   "language": "python",
   "name": "python3"
  },
  "language_info": {
   "codemirror_mode": {
    "name": "ipython",
    "version": 3
   },
   "file_extension": ".py",
   "mimetype": "text/x-python",
   "name": "python",
   "nbconvert_exporter": "python",
   "pygments_lexer": "ipython3",
   "version": "3.8.3"
  }
 },
 "nbformat": 4,
 "nbformat_minor": 4
}
