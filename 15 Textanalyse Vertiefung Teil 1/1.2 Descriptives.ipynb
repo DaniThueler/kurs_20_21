{
 "cells": [
  {
   "cell_type": "markdown",
   "metadata": {},
   "source": [
    "# Agenda\n",
    "- Vokabular\n",
    "- Reichhaltigkeit\n",
    "- Filtern nach Länge\n",
    "- Frequency distribution\n",
    "- Bigrams \n",
    "- Concordance\n",
    "- Ähnlichkeit\n",
    "- Dispersionsplot\n",
    "- Wordcloud 2.0"
   ]
  },
  {
   "cell_type": "code",
   "execution_count": 1,
   "metadata": {},
   "outputs": [],
   "source": [
    "import nltk"
   ]
  },
  {
   "cell_type": "code",
   "execution_count": 2,
   "metadata": {},
   "outputs": [
    {
     "name": "stdout",
     "output_type": "stream",
     "text": [
      "*** Introductory Examples for the NLTK Book ***\n",
      "Loading text1, ..., text9 and sent1, ..., sent9\n",
      "Type the name of the text or sentence to view it.\n",
      "Type: 'texts()' or 'sents()' to list the materials.\n",
      "text1: Moby Dick by Herman Melville 1851\n",
      "text2: Sense and Sensibility by Jane Austen 1811\n",
      "text3: The Book of Genesis\n",
      "text4: Inaugural Address Corpus\n",
      "text5: Chat Corpus\n",
      "text6: Monty Python and the Holy Grail\n",
      "text7: Wall Street Journal\n",
      "text8: Personals Corpus\n",
      "text9: The Man Who Was Thursday by G . K . Chesterton 1908\n"
     ]
    }
   ],
   "source": [
    "from nltk.book import *"
   ]
  },
  {
   "cell_type": "markdown",
   "metadata": {},
   "source": [
    "# Vokabular\n",
    "- Wie groß ist das Vokabular von Moby Dick?"
   ]
  },
  {
   "cell_type": "code",
   "execution_count": 3,
   "metadata": {},
   "outputs": [
    {
     "data": {
      "text/plain": [
       "3"
      ]
     },
     "execution_count": 3,
     "metadata": {},
     "output_type": "execute_result"
    }
   ],
   "source": [
    "a = [1,3,3,5]\n",
    "len(set(a))"
   ]
  },
  {
   "cell_type": "code",
   "execution_count": 4,
   "metadata": {},
   "outputs": [
    {
     "data": {
      "text/plain": [
       "19317"
      ]
     },
     "execution_count": 4,
     "metadata": {},
     "output_type": "execute_result"
    }
   ],
   "source": [
    "len(set(text1))"
   ]
  },
  {
   "cell_type": "markdown",
   "metadata": {},
   "source": [
    "- Das von Sense and Sensibility von Jane Austen?"
   ]
  },
  {
   "cell_type": "code",
   "execution_count": 5,
   "metadata": {},
   "outputs": [
    {
     "data": {
      "text/plain": [
       "6833"
      ]
     },
     "execution_count": 5,
     "metadata": {},
     "output_type": "execute_result"
    }
   ],
   "source": [
    "len(set(text2))"
   ]
  },
  {
   "cell_type": "code",
   "execution_count": 6,
   "metadata": {},
   "outputs": [
    {
     "name": "stderr",
     "output_type": "stream",
     "text": [
      "[nltk_data] Downloading package punkt to /Users/plotti/nltk_data...\n",
      "[nltk_data]   Package punkt is already up-to-date!\n"
     ]
    },
    {
     "data": {
      "text/plain": [
       "578"
      ]
     },
     "execution_count": 6,
     "metadata": {},
     "output_type": "execute_result"
    }
   ],
   "source": [
    "from nltk.corpus import udhr\n",
    "nltk.download(\"punkt\")\n",
    "sample = (\" \").join(udhr.words(\"German_Deutsch-Latin1\"))\n",
    "tokens = nltk.word_tokenize(sample)\n",
    "menschenrechtserklaerungs_text = nltk.Text(tokens)\n",
    "len(set(menschenrechtserklaerungs_text))"
   ]
  },
  {
   "cell_type": "markdown",
   "metadata": {},
   "source": [
    "# Reichhaltigkeit\n",
    "- Welcher text ist am reichhaltigesten d.h. das größte Vokabular pro Wort?\n",
    "- Maximaler Quotient ist 1: 100 verschiedene wörter / 100 wörter insgesammt = 1"
   ]
  },
  {
   "cell_type": "code",
   "execution_count": 7,
   "metadata": {},
   "outputs": [
    {
     "data": {
      "text/plain": [
       "0.07406285585022564"
      ]
     },
     "execution_count": 7,
     "metadata": {},
     "output_type": "execute_result"
    }
   ],
   "source": [
    "# Moby Dick\n",
    "len(set(text1)) / float(len(text1))"
   ]
  },
  {
   "cell_type": "code",
   "execution_count": 8,
   "metadata": {},
   "outputs": [
    {
     "data": {
      "text/plain": [
       "0.04826383002768831"
      ]
     },
     "execution_count": 8,
     "metadata": {},
     "output_type": "execute_result"
    }
   ],
   "source": [
    "# Jane Austen\n",
    "len(set(text2)) / float(len(text2))"
   ]
  },
  {
   "cell_type": "code",
   "execution_count": 9,
   "metadata": {},
   "outputs": [
    {
     "data": {
      "text/plain": [
       "0.3797634691195795"
      ]
     },
     "execution_count": 9,
     "metadata": {},
     "output_type": "execute_result"
    }
   ],
   "source": [
    "# Menschenrechtserklärung\n",
    "len(set(menschenrechtserklaerungs_text)) / float(len(menschenrechtserklaerungs_text))"
   ]
  },
  {
   "cell_type": "markdown",
   "metadata": {},
   "source": [
    "Anscheinend ist die Menschenrechtserklärung am reichhaltigsten oder am kompliziertesten? Es ist kein fairer Vergleich :) "
   ]
  },
  {
   "cell_type": "markdown",
   "metadata": {},
   "source": [
    "# Filtern \n",
    "- nach Wörtern bestimmter länge"
   ]
  },
  {
   "cell_type": "code",
   "execution_count": 10,
   "metadata": {},
   "outputs": [
    {
     "data": {
      "text/plain": [
       "['uninterpenetratingly']"
      ]
     },
     "execution_count": 10,
     "metadata": {},
     "output_type": "execute_result"
    }
   ],
   "source": [
    "# Moby Dick\n",
    "V = set(text1)\n",
    "long_words = [w for w in V if len(w) > 18]\n",
    "sorted(long_words)"
   ]
  },
  {
   "cell_type": "code",
   "execution_count": 11,
   "metadata": {},
   "outputs": [
    {
     "data": {
      "text/plain": [
       "['Arbeitsbedingungen',\n",
       " 'Arbeitslosigkeit',\n",
       " 'Beeinträchtigungen',\n",
       " 'Berufsschulunterricht',\n",
       " 'Berücksichtigung',\n",
       " 'Generalversammlung',\n",
       " 'Glaubensfreiheit',\n",
       " 'Gleichberechtigung',\n",
       " 'Grundschulunterricht',\n",
       " 'Hochschulunterricht',\n",
       " 'Lebensbedingungen',\n",
       " 'Meinungsfreiheit',\n",
       " 'Meinungsäußerung',\n",
       " 'Nichtanerkennung',\n",
       " 'Religionsfreiheit',\n",
       " 'Staatsangehörigkeit',\n",
       " 'Staatsanghörigkeit',\n",
       " 'Unterhaltsmittel',\n",
       " 'freundschaftlicher',\n",
       " 'innerstaatlichem',\n",
       " 'innerstaatlichen',\n",
       " 'nichtpolitischer',\n",
       " 'strafrechtlichen',\n",
       " 'uneingeschränkter',\n",
       " 'unveräußerlichen',\n",
       " 'wirtschaftlichen',\n",
       " 'zusammenzuschließen']"
      ]
     },
     "execution_count": 11,
     "metadata": {},
     "output_type": "execute_result"
    }
   ],
   "source": [
    "# Menschenrechtserklärung\n",
    "V = set(menschenrechtserklaerungs_text)\n",
    "long_words = [w for w in V if len(w) > 15]\n",
    "sorted(long_words)"
   ]
  },
  {
   "cell_type": "markdown",
   "metadata": {},
   "source": [
    "- nach Länge und Frequenz"
   ]
  },
  {
   "cell_type": "code",
   "execution_count": 12,
   "metadata": {},
   "outputs": [
    {
     "data": {
      "text/plain": [
       "FreqDist({',': 18713, 'the': 13721, '.': 6862, 'of': 6536, 'and': 6024, 'a': 4569, 'to': 4542, ';': 4072, 'in': 3916, 'that': 2982, ...})"
      ]
     },
     "execution_count": 12,
     "metadata": {},
     "output_type": "execute_result"
    }
   ],
   "source": [
    "fdist1 = FreqDist(text1)\n",
    "fdist1"
   ]
  },
  {
   "cell_type": "code",
   "execution_count": 13,
   "metadata": {},
   "outputs": [
    {
     "data": {
      "text/plain": [
       "['Mediterranean',\n",
       " 'circumstances',\n",
       " 'consternation',\n",
       " 'indispensable',\n",
       " 'involuntarily',\n",
       " 'peculiarities',\n",
       " 'perpendicular',\n",
       " 'simultaneously',\n",
       " 'superstitious',\n",
       " 'unaccountable']"
      ]
     },
     "execution_count": 13,
     "metadata": {},
     "output_type": "execute_result"
    }
   ],
   "source": [
    "# Wörter die in Moby Dick mind. 12 buchstaben lang sind und mind. 8 mal vorkommen\n",
    "sorted(w for w in set(text1) if len(w) > 12 and fdist1[w] > 8)"
   ]
  },
  {
   "cell_type": "markdown",
   "metadata": {},
   "source": [
    "# Verteilung\n",
    "- Welches Wort kommt in Moby Dick am häufigsten vor?\n",
    "- https://www.youtube.com/watch?v=rF-hq_CHNH0 :) "
   ]
  },
  {
   "cell_type": "code",
   "execution_count": 14,
   "metadata": {},
   "outputs": [
    {
     "data": {
      "image/png": "[encoded data removed]",
      "text/plain": [
       "<IPython.core.display.Image object>"
      ]
     },
     "execution_count": 14,
     "metadata": {},
     "output_type": "execute_result"
    }
   ],
   "source": [
    "from IPython.display import Image\n",
    "Image(\"frequency.png\")"
   ]
  },
  {
   "cell_type": "code",
   "execution_count": 15,
   "metadata": {},
   "outputs": [
    {
     "data": {
      "text/plain": [
       "FreqDist({',': 18713, 'the': 13721, '.': 6862, 'of': 6536, 'and': 6024, 'a': 4569, 'to': 4542, ';': 4072, 'in': 3916, 'that': 2982, ...})"
      ]
     },
     "execution_count": 15,
     "metadata": {},
     "output_type": "execute_result"
    }
   ],
   "source": [
    "fdist = FreqDist(text1)\n",
    "fdist"
   ]
  },
  {
   "cell_type": "code",
   "execution_count": 16,
   "metadata": {},
   "outputs": [
    {
     "data": {
      "image/png": "[encoded data removed]",
      "text/plain": [
       "<Figure size 432x288 with 1 Axes>"
      ]
     },
     "metadata": {
      "needs_background": "light"
     },
     "output_type": "display_data"
    },
    {
     "data": {
      "text/plain": [
       "<AxesSubplot:xlabel='Samples', ylabel='Cumulative Counts'>"
      ]
     },
     "execution_count": 16,
     "metadata": {},
     "output_type": "execute_result"
    }
   ],
   "source": [
    "fdist.plot(30, cumulative=True)"
   ]
  },
  {
   "cell_type": "markdown",
   "metadata": {},
   "source": [
    "- Jedes zusätzliche Wort kommt immer weniger oft vor (diminishing returns)\n",
    "- Welches Wort kommt in meinem Satz am häufigsten vor?"
   ]
  },
  {
   "cell_type": "code",
   "execution_count": 17,
   "metadata": {},
   "outputs": [],
   "source": [
    "sample = '''Ich war heute im wald spazieren und sah ein reh. Wobeich ich nicht sicher war ob es ein Reh war oder ein Geist.'''"
   ]
  },
  {
   "cell_type": "code",
   "execution_count": 20,
   "metadata": {},
   "outputs": [
    {
     "data": {
      "image/png": "[encoded data removed]",
      "text/plain": [
       "<Figure size 432x288 with 1 Axes>"
      ]
     },
     "metadata": {
      "needs_background": "light"
     },
     "output_type": "display_data"
    },
    {
     "data": {
      "text/plain": [
       "<AxesSubplot:xlabel='Samples', ylabel='Cumulative Counts'>"
      ]
     },
     "execution_count": 20,
     "metadata": {},
     "output_type": "execute_result"
    }
   ],
   "source": [
    "tokens = nltk.word_tokenize(sample)\n",
    "text = nltk.Text(tokens)\n",
    "fdist = FreqDist(text)\n",
    "fdist.plot(30, cumulative=True)"
   ]
  },
  {
   "cell_type": "code",
   "execution_count": 21,
   "metadata": {},
   "outputs": [
    {
     "data": {
      "text/plain": [
       "FreqDist({'war': 3, 'ein': 3, '.': 2, 'Ich': 1, 'heute': 1, 'im': 1, 'wald': 1, 'spazieren': 1, 'und': 1, 'sah': 1, ...})"
      ]
     },
     "execution_count": 21,
     "metadata": {},
     "output_type": "execute_result"
    }
   ],
   "source": [
    "fdist"
   ]
  },
  {
   "cell_type": "markdown",
   "metadata": {},
   "source": [
    "### Aufgabe\n",
    "- Erzeugt eigenen Text oder kopiert ihn aus dem Internet und zählt welche Wörter am häufigsten vorkommen, sind die ersten 3 Positionen bei Euch ähnlich?"
   ]
  },
  {
   "cell_type": "markdown",
   "metadata": {},
   "source": [
    "# Bigrams\n",
    "- Welche Wörter kommen häufig zusammen vor?\n",
    "- https://www.youtube.com/watch?v=h8MVXC_hqNY"
   ]
  },
  {
   "cell_type": "code",
   "execution_count": 22,
   "metadata": {},
   "outputs": [
    {
     "name": "stdout",
     "output_type": "stream",
     "text": [
      "Sperm Whale; Moby Dick; White Whale; old man; Captain Ahab; sperm\n",
      "whale; Right Whale; Captain Peleg; New Bedford; Cape Horn; cried Ahab;\n",
      "years ago; lower jaw; never mind; Father Mapple; cried Stubb; chief\n",
      "mate; white whale; ivory leg; one hand\n"
     ]
    }
   ],
   "source": [
    "text1.collocations()"
   ]
  },
  {
   "cell_type": "code",
   "execution_count": 27,
   "metadata": {},
   "outputs": [
    {
     "name": "stdout",
     "output_type": "stream",
     "text": [
      "das Recht; Jeder hat; hat das; Niemand darf; Recht auf; Anspruch auf;\n",
      "Vereinten Nationen; dem Gesetz; auf Grund; Alle Menschen; strafbaren\n",
      "Handlung; auf gleichen; Allgemeine Erklärung; wegen einer; gegen jede;\n",
      "der Menschenrechte; notwendig ist; des Landes; diese Erklärung; hat\n",
      "Anspruch\n"
     ]
    }
   ],
   "source": [
    "menschenrechtserklaerungs_text.collocations()"
   ]
  },
  {
   "cell_type": "markdown",
   "metadata": {},
   "source": [
    "### Advanced Trigrams"
   ]
  },
  {
   "cell_type": "markdown",
   "metadata": {},
   "source": [
    "- Bigramme mit Frequenz in der Menschenrechtserklärung"
   ]
  },
  {
   "cell_type": "code",
   "execution_count": 30,
   "metadata": {},
   "outputs": [
    {
     "data": {
      "text/plain": [
       "[(u'es', u'notwendig'),\n",
       " (u'strafbaren', u'Handlung'),\n",
       " (u'im', u'Falle'),\n",
       " (u'Allgemeine', u'Erkl\\xe4rung'),\n",
       " (u'Vereinten', u'Nationen'),\n",
       " (u';', u'dieses'),\n",
       " (u'dem', u'Gesetz'),\n",
       " (u'da', u'es'),\n",
       " (u'wegen', u'einer'),\n",
       " (u'des', u'Landes')]"
      ]
     },
     "execution_count": 30,
     "metadata": {},
     "output_type": "execute_result"
    }
   ],
   "source": [
    "from nltk.collocations import *\n",
    "bigram_measures = nltk.collocations.BigramAssocMeasures()\n",
    "trigram_measures = nltk.collocations.TrigramAssocMeasures()\n",
    "finder = BigramCollocationFinder.from_words(menschenrechtserklaerungs_text)\n",
    "finder.apply_freq_filter(2) # reduce to bigrams that appeared at least 3 times\n",
    "finder.nbest(bigram_measures.pmi, 10) "
   ]
  },
  {
   "cell_type": "markdown",
   "metadata": {},
   "source": [
    "- Trigramme in der Menschenrechtserklärung\n",
    "- mehr Beispiele unter http://www.nltk.org/howto/collocations.html"
   ]
  },
  {
   "cell_type": "code",
   "execution_count": 32,
   "metadata": {},
   "outputs": [
    {
     "data": {
      "text/plain": [
       "[(u'hat', u'das', u'Recht'),\n",
       " (u'Jeder', u'hat', u'das'),\n",
       " (u'.', u'Niemand', u'darf'),\n",
       " (u'das', u'Recht', u'auf'),\n",
       " (u'hat', u'Anspruch', u'auf'),\n",
       " (u'Jeder', u'hat', u'Anspruch'),\n",
       " (u'werden', u'.', u'Artikel'),\n",
       " (u'.', u'Jeder', u'hat'),\n",
       " (u',', u'da', u'die'),\n",
       " (u'das', u'Recht', u',')]"
      ]
     },
     "execution_count": 32,
     "metadata": {},
     "output_type": "execute_result"
    }
   ],
   "source": [
    "finder = TrigramCollocationFinder.from_words(menschenrechtserklaerungs_text)\n",
    "finder.apply_freq_filter(3) # reduce to bigrams that appeared at least 3 times\n",
    "finder.nbest(trigram_measures.pmi, 10)"
   ]
  },
  {
   "cell_type": "markdown",
   "metadata": {},
   "source": [
    "# Übereinstimmungen oder Konkordanz"
   ]
  },
  {
   "cell_type": "markdown",
   "metadata": {},
   "source": [
    "- In welchem Kontext steht überall \"monstrous\" im Text bei Moby Dick?"
   ]
  },
  {
   "cell_type": "code",
   "execution_count": 33,
   "metadata": {},
   "outputs": [
    {
     "name": "stdout",
     "output_type": "stream",
     "text": [
      "Displaying 11 of 11 matches:\n",
      "ong the former , one was of a most monstrous size . ... This came towards us , \n",
      "ON OF THE PSALMS . \" Touching that monstrous bulk of the whale or ork we have r\n",
      "ll over with a heathenish array of monstrous clubs and spears . Some were thick\n",
      "d as you gazed , and wondered what monstrous cannibal and savage could ever hav\n",
      "that has survived the flood ; most monstrous and most mountainous ! That Himmal\n",
      "they might scout at Moby Dick as a monstrous fable , or still worse and more de\n",
      "th of Radney .'\" CHAPTER 55 Of the Monstrous Pictures of Whales . I shall ere l\n",
      "ing Scenes . In connexion with the monstrous pictures of whales , I am strongly\n",
      "ere to enter upon those still more monstrous stories of them which are to be fo\n",
      "ght have been rummaged out of this monstrous cabinet there is no telling . But \n",
      "of Whale - Bones ; for Whales of a monstrous size are oftentimes cast up dead u\n"
     ]
    }
   ],
   "source": [
    "text1.concordance(\"monstrous\")"
   ]
  },
  {
   "cell_type": "markdown",
   "metadata": {},
   "source": [
    "- In welchem Kontext kommen Menschenrechte in der Menschenrechtserklärung vor?"
   ]
  },
  {
   "cell_type": "code",
   "execution_count": 35,
   "metadata": {},
   "outputs": [
    {
     "name": "stdout",
     "output_type": "stream",
     "text": [
      "Displaying 25 of 25 matches:\n",
      "kt ist ist . Artikel 3 Jeder hat das Recht auf Leben , Freiheit und Sicherheit \n",
      "fen werden . Artikel 6 Jeder hat das Recht , überall als rechtsfähig anerkannt \n",
      " Handlung beschuldigt wird , hat das Recht , als unschuldig zu gelten , solange\n",
      "nnerstaatlichem oder internationalem Recht nicht strafbar war . Ebenso darf kei\n",
      "htigungen . Artikel 13 Jeder hat das Recht , sich innerhalb eines Staates frei \n",
      "tsort frei zu wählen . Jeder hat das Recht , jedes Land , einschließlich seines\n",
      "kzukehren . Artikel 14 Jeder hat das Recht , in anderen Ländern vor Verfolgung \n",
      "l zu suchen und zu genießen . Dieses Recht kann nicht in Anspruch genommen werd\n",
      "verstoßen . Artikel 15 Jeder hat das Recht auf eine Staatsangehörigkeit . Niema\n",
      "igkeit willkürlich entzogen noch das Recht versagt werden , seine Staatsanghöri\n",
      "sangehörigkeit oder der Religion das Recht zu heiraten und eine Familie zu grün\n",
      "und Staat . Artikel 17 Jeder hat das Recht , sowohl allein als auch in Gemeinsc\n",
      "bt werden . Artikel 18 Jeder hat das Recht auf Gedanken - , Gewissens - und Rel\n",
      "ens - und Religionsfreiheit ; dieses Recht schließt die Freiheit ein , seine Re\n",
      " bekennen . Artikel 19 Jeder hat das Recht auf Meinungsfreiheit und freie Meinu\n",
      " und freie Meinungsäußerung ; dieses Recht schließt die Freiheit ein , Meinunge\n",
      ". Artikel 20 Alle Menschen haben das Recht , sich friedlich zu versammeln und z\n",
      "zugehören . Artikel 21 Jeder hat das Recht , an der Gestaltung der öffentlichen\n",
      "ertreter mitzuwirken . Jeder hat das Recht auf gleichen Zugang zu öffentlichen \n",
      "at als Mitglied der Gesellschaft das Recht auf soziale Sicherheit und Anspruch \n",
      "lich sind . Artikel 23 Jeder hat das Recht auf Arbeit , auf freie Berufswahl , \n",
      ". Jeder , ohne Unterschied , hat das Recht auf gleichen Lohn für gleiche Arbeit\n",
      "eit . Jeder , der arbeitet , hat das Recht auf gerechte und befriedigende Entlo\n",
      "iale Schutzmaßnahmen . Jeder hat das Recht , zum Schutz seiner Interessen Gewer\n",
      "izutreten . Artikel 24 Jeder hat das Recht auf Erholung und Freizeit und insbes\n"
     ]
    }
   ],
   "source": [
    "menschenrechtserklaerungs_text.concordance(\"Recht\")"
   ]
  },
  {
   "cell_type": "markdown",
   "metadata": {},
   "source": [
    "## Ähnlichkeit: Welche Wörter benutzen den gleichen Kontext?\n",
    "- Bei Moby Dick?"
   ]
  },
  {
   "cell_type": "code",
   "execution_count": 36,
   "metadata": {},
   "outputs": [
    {
     "name": "stdout",
     "output_type": "stream",
     "text": [
      "imperial subtly impalpable pitiable curious abundant perilous\n",
      "trustworthy untoward singular lamentable few determined maddens\n",
      "horrible tyrannical lazy mystifying christian exasperate\n"
     ]
    }
   ],
   "source": [
    "text1.similar(\"monstrous\")"
   ]
  },
  {
   "cell_type": "markdown",
   "metadata": {},
   "source": [
    "- Bei Jane Austen?"
   ]
  },
  {
   "cell_type": "code",
   "execution_count": 38,
   "metadata": {},
   "outputs": [
    {
     "name": "stdout",
     "output_type": "stream",
     "text": [
      "very exceedingly so heartily a great good amazingly as sweet\n",
      "remarkably extremely vast\n"
     ]
    }
   ],
   "source": [
    "text2.similar(\"monstrous\")"
   ]
  },
  {
   "cell_type": "markdown",
   "metadata": {},
   "source": [
    "- In der Menschenrechtserkläreung?"
   ]
  },
  {
   "cell_type": "code",
   "execution_count": 45,
   "metadata": {},
   "outputs": [
    {
     "name": "stdout",
     "output_type": "stream",
     "text": [
      "gesellschaft arbeitszeit gleichen organisation seine\n",
      "grundschulunterricht ehe\n"
     ]
    }
   ],
   "source": [
    "menschenrechtserklaerungs_text.similar(\"Menschenrechte\")"
   ]
  },
  {
   "cell_type": "markdown",
   "metadata": {},
   "source": [
    "## Dispersionsplot\n",
    "- Welche Wörter kommen wann gemeinsam vor?"
   ]
  },
  {
   "cell_type": "code",
   "execution_count": 46,
   "metadata": {},
   "outputs": [
    {
     "data": {
      "image/png": "[encoded data removed]",
      "text/plain": [
       "<matplotlib.figure.Figure at 0x11f96e6d0>"
      ]
     },
     "metadata": {},
     "output_type": "display_data"
    }
   ],
   "source": [
    "%matplotlib inline\n",
    "import matplotlib.pyplot as plt\n",
    "plt.figure(figsize=(15,8))\n",
    "text1.dispersion_plot([\"monstrous\", \"whale\", \"ship\", \"wind\", \"water\"])"
   ]
  },
  {
   "cell_type": "code",
   "execution_count": 48,
   "metadata": {},
   "outputs": [
    {
     "data": {
      "image/png": "[encoded data removed]",
      "text/plain": [
       "<matplotlib.figure.Figure at 0x11e39d8d0>"
      ]
     },
     "metadata": {},
     "output_type": "display_data"
    }
   ],
   "source": [
    "plt.figure(figsize=(15,8))\n",
    "menschenrechtserklaerungs_text.dispersion_plot([\"Menschenrechte\", \"Arbeit\", \"Freiheit\", \"Mensch\"])"
   ]
  },
  {
   "cell_type": "markdown",
   "metadata": {},
   "source": [
    "## Aufgabe:\n",
    "- Probiert es mal mit einem Dispersionsplot für einen Text eurer Wahl. "
   ]
  }
 ],
 "metadata": {
  "kernelspec": {
   "display_name": "Python 3",
   "language": "python",
   "name": "python3"
  },
  "language_info": {
   "codemirror_mode": {
    "name": "ipython",
    "version": 3
   },
   "file_extension": ".py",
   "mimetype": "text/x-python",
   "name": "python",
   "nbconvert_exporter": "python",
   "pygments_lexer": "ipython3",
   "version": "3.8.6"
  }
 },
 "nbformat": 4,
 "nbformat_minor": 2
}
